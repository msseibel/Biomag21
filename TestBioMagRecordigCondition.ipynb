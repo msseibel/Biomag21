{
 "cells": [
  {
   "cell_type": "code",
   "execution_count": 32,
   "metadata": {
    "colab": {
     "base_uri": "https://localhost:8080/",
     "height": 54
    },
    "executionInfo": {
     "elapsed": 28798,
     "status": "ok",
     "timestamp": 1614156233430,
     "user": {
      "displayName": "marc",
      "photoUrl": "",
      "userId": "05336137283309084315"
     },
     "user_tz": -60
    },
    "id": "W6pedaIjyzN4",
    "outputId": "d1fb32aa-e2c5-44fb-fb79-38c29fc83ff5"
   },
   "outputs": [
    {
     "name": "stdout",
     "output_type": "stream",
     "text": [
      "Wed Mar  3 17:58:00 2021       \n",
      "+-----------------------------------------------------------------------------+\n",
      "| NVIDIA-SMI 450.102.04   Driver Version: 450.102.04   CUDA Version: 11.0     |\n",
      "|-------------------------------+----------------------+----------------------+\n",
      "| GPU  Name        Persistence-M| Bus-Id        Disp.A | Volatile Uncorr. ECC |\n",
      "| Fan  Temp  Perf  Pwr:Usage/Cap|         Memory-Usage | GPU-Util  Compute M. |\n",
      "|                               |                      |               MIG M. |\n",
      "|===============================+======================+======================|\n",
      "|   0  GeForce RTX 208...  Off  | 00000000:1A:00.0 Off |                  N/A |\n",
      "| 29%   23C    P8    15W / 250W |  10904MiB / 11019MiB |      0%      Default |\n",
      "|                               |                      |                  N/A |\n",
      "+-------------------------------+----------------------+----------------------+\n",
      "                                                                               \n",
      "+-----------------------------------------------------------------------------+\n",
      "| Processes:                                                                  |\n",
      "|  GPU   GI   CI        PID   Type   Process name                  GPU Memory |\n",
      "|        ID   ID                                                   Usage      |\n",
      "|=============================================================================|\n",
      "+-----------------------------------------------------------------------------+\n",
      "\u001b[33mWARNING: The directory '/.cache/pip' or its parent directory is not owned or is not writable by the current user. The cache has been disabled. Check the permissions and owner of that directory. If executing pip with sudo, you may want sudo's -H flag.\u001b[0m\n",
      "Defaulting to user installation because normal site-packages is not writeable\n",
      "Requirement already satisfied: mne in /usr/local/lib/python3.6/dist-packages (0.20.5)\n",
      "Requirement already satisfied: numpy>=1.11.3 in /usr/local/lib/python3.6/dist-packages (from mne) (1.18.4)\n",
      "Requirement already satisfied: scipy>=0.17.1 in /usr/local/lib/python3.6/dist-packages (from mne) (1.4.1)\n",
      "\u001b[33mWARNING: You are using pip version 20.1; however, version 21.0.1 is available.\n",
      "You should consider upgrading via the '/usr/bin/python3 -m pip install --upgrade pip' command.\u001b[0m\n",
      "\u001b[33mWARNING: The directory '/.cache/pip' or its parent directory is not owned or is not writable by the current user. The cache has been disabled. Check the permissions and owner of that directory. If executing pip with sudo, you may want sudo's -H flag.\u001b[0m\n",
      "Defaulting to user installation because normal site-packages is not writeable\n",
      "Requirement already satisfied: tensorflow-addons in /.local/lib/python3.6/site-packages (0.12.1)\n",
      "Requirement already satisfied: typeguard>=2.7 in /.local/lib/python3.6/site-packages (from tensorflow-addons) (2.11.1)\n",
      "\u001b[33mWARNING: You are using pip version 20.1; however, version 21.0.1 is available.\n",
      "You should consider upgrading via the '/usr/bin/python3 -m pip install --upgrade pip' command.\u001b[0m\n",
      "\u001b[33mWARNING: The directory '/.cache/pip' or its parent directory is not owned or is not writable by the current user. The cache has been disabled. Check the permissions and owner of that directory. If executing pip with sudo, you may want sudo's -H flag.\u001b[0m\n",
      "Defaulting to user installation because normal site-packages is not writeable\n",
      "Requirement already satisfied: scikit-learn in /.local/lib/python3.6/site-packages (0.24.1)\n",
      "Requirement already satisfied: threadpoolctl>=2.0.0 in /.local/lib/python3.6/site-packages (from scikit-learn) (2.1.0)\n",
      "Requirement already satisfied: scipy>=0.19.1 in /usr/local/lib/python3.6/dist-packages (from scikit-learn) (1.4.1)\n",
      "Requirement already satisfied: joblib>=0.11 in /.local/lib/python3.6/site-packages (from scikit-learn) (1.0.1)\n",
      "Requirement already satisfied: numpy>=1.13.3 in /usr/local/lib/python3.6/dist-packages (from scikit-learn) (1.18.4)\n",
      "\u001b[33mWARNING: You are using pip version 20.1; however, version 21.0.1 is available.\n",
      "You should consider upgrading via the '/usr/bin/python3 -m pip install --upgrade pip' command.\u001b[0m\n",
      "\u001b[33mWARNING: The directory '/.cache/pip' or its parent directory is not owned or is not writable by the current user. The cache has been disabled. Check the permissions and owner of that directory. If executing pip with sudo, you may want sudo's -H flag.\u001b[0m\n",
      "Defaulting to user installation because normal site-packages is not writeable\n",
      "Requirement already satisfied: tqdm in /.local/lib/python3.6/site-packages (4.58.0)\n",
      "\u001b[33mWARNING: You are using pip version 20.1; however, version 21.0.1 is available.\n",
      "You should consider upgrading via the '/usr/bin/python3 -m pip install --upgrade pip' command.\u001b[0m\n",
      "\u001b[33mWARNING: The directory '/.cache/pip' or its parent directory is not owned or is not writable by the current user. The cache has been disabled. Check the permissions and owner of that directory. If executing pip with sudo, you may want sudo's -H flag.\u001b[0m\n",
      "Defaulting to user installation because normal site-packages is not writeable\n",
      "Collecting tabulate\n",
      "  Downloading tabulate-0.8.9-py3-none-any.whl (25 kB)\n",
      "Installing collected packages: tabulate\n",
      "\u001b[33m  WARNING: The script tabulate is installed in '/.local/bin' which is not on PATH.\n",
      "  Consider adding this directory to PATH or, if you prefer to suppress this warning, use --no-warn-script-location.\u001b[0m\n",
      "Successfully installed tabulate-0.8.9\n",
      "\u001b[33mWARNING: You are using pip version 20.1; however, version 21.0.1 is available.\n",
      "You should consider upgrading via the '/usr/bin/python3 -m pip install --upgrade pip' command.\u001b[0m\n",
      "Exists\n"
     ]
    }
   ],
   "source": [
    "import tensorflow as tf\n",
    "tf.test.gpu_device_name()\n",
    "from IPython.core.magic import register_cell_magic\n",
    "@register_cell_magic\n",
    "def run_and_save(line, cell):\n",
    "    'Run and save python code block to a file'\n",
    "    with open(line, 'wt') as fd:\n",
    "        fd.write(cell)\n",
    "    code = compile(cell, line, 'exec')\n",
    "    exec(code, globals())\n",
    "\n",
    "!nvidia-smi\n",
    "!pip install mne\n",
    "!pip install tensorflow-addons\n",
    "!pip install scikit-learn\n",
    "!pip install tqdm\n",
    "!pip install tabulate\n",
    "\n",
    "import os\n",
    "try:\n",
    "    networkname=\"../results/test\"\n",
    "    os.makedirs(networkname)\n",
    "except:\n",
    "    print('Exists')"
   ]
  },
  {
   "cell_type": "code",
   "execution_count": 6,
   "metadata": {
    "colab": {
     "base_uri": "https://localhost:8080/"
    },
    "executionInfo": {
     "elapsed": 51133,
     "status": "ok",
     "timestamp": 1614156255874,
     "user": {
      "displayName": "marc",
      "photoUrl": "",
      "userId": "05336137283309084315"
     },
     "user_tz": -60
    },
    "id": "dsHb93Bfgppq",
    "outputId": "d83433ea-fdc0-4d20-e9fb-3a36a12d4c06"
   },
   "outputs": [
    {
     "name": "stdout",
     "output_type": "stream",
     "text": [
      "r\n",
      "calc scores updata\n",
      "r\n"
     ]
    },
    {
     "name": "stderr",
     "output_type": "stream",
     "text": [
      "/tf/TeleBrain/Biomag21/libs/utils.py:382: UserWarning: Method is deprecated us 'get_site'.\n",
      "  warnings.warn(\"Method is deprecated us 'get_site'.\")\n"
     ]
    }
   ],
   "source": [
    "%%run_and_save {networkname}/config.py\n",
    "\n",
    "import matplotlib\n",
    "from libs import GeneratorCNN\n",
    "matplotlib.interactive(False)\n",
    "from importlib import reload\n",
    "import gc\n",
    "from libs import model_zoo\n",
    "import BaseLineModel as approach\n",
    "import numpy as np\n",
    "from importlib import reload\n",
    "from libs import utils\n",
    "from libs.utils import Bunch\n",
    "from libs import Multi_Class_Metrics as mcm\n",
    "from tensorflow.keras import callbacks\n",
    "\n",
    "reload(approach)\n",
    "reload(utils)\n",
    "reload(GeneratorCNN)\n",
    "reload(model_zoo)\n",
    "network = model_zoo.ConnectivityModel#EEGNetLawhern#ConnectivityModel#SpatialTemporalMultiClass#ConnectivityModel#Channel_Decision_Small#Channel_Decision_Model#ShallowConvNetMultiClass#SpatialTemporalMultiClass#ShallowConvNetMultiClassLinear##SpatialAverageModel# ConnectivityModel#\n",
    "gc.collect()\n",
    "use_stable=True\n",
    "subjects = {'dementia':[],'control':[],'mci':[]}\n",
    "utils.get_subjects_wrt_site(subjects,30,30,'dementia')\n",
    "utils.get_subjects_wrt_site(subjects,100,100,'control')\n",
    "utils.get_subjects_wrt_site(subjects,1,15,'mci')\n",
    "subjects['dementia'].remove(27)\n",
    "\n",
    "use_stable='all'\n",
    "if use_stable=='order0':\n",
    "    channel_matches = np.load('pareto_opt_matches.npy')\n",
    "    channel_matches = utils.get_stable_channels(channel_matches,0).T#[:,44:46]\n",
    "elif use_stable=='all':\n",
    "    import json\n",
    "    with open('A_B_bestpositional_hungarian.json') as f:\n",
    "        match = json.load(f)\n",
    "    match['matching0'].pop('info')\n",
    "    channel_matches = np.array([list(match['matching0'].keys()),list(match['matching0'].values())]).astype(int)\n",
    "elif use_stable is None:\n",
    "    channel_matches = np.stack([np.arange(160),np.arange(160)])\n",
    "\n",
    "site_as_label = False\n",
    "if site_as_label:\n",
    "    num_classes = 2\n",
    "else:\n",
    "    num_classes = 3\n",
    "\n",
    "\n",
    "sensitivity_mci_dem = mcm.MultiClassRecall(num_classes=num_classes,\n",
    "                                           pos_ind=[1,2],\n",
    "                                           average='macro',\n",
    "                                           name=\"mci_dem_sensitivity\")\n",
    "specificity_mci_dem = mcm.MultiClassSpecificity(num_classes=num_classes,\n",
    "                                                pos_ind=[1,2],\n",
    "                                                average='macro',\n",
    "                                                name=\"mci_dem_Specificity\")\n",
    "f1_mci_dem = mcm.MultiClassF1(num_classes=num_classes,\n",
    "                              pos_ind=[1,2],average='macro',\n",
    "                              name=\"mci_dem_F1\")\n",
    "metrics = ['acc', sensitivity_mci_dem, specificity_mci_dem,f1_mci_dem]\n",
    "\n",
    "\n",
    "callbacks = [callbacks.EarlyStopping(patience=5,\n",
    "                                     restore_best_weights=True,\n",
    "                                     monitor=\"val_mci_dem_F1\",\n",
    "                                     mode='max',\n",
    "                                     verbose=1)]\n",
    "frame_size = utils.Bunch(value=2,unit='s')\n",
    "fs = 256\n",
    "network_params = {\n",
    "    'batch_size':8,\n",
    "    'use_bn':True,\n",
    "    'do_ratio':0.5,\n",
    "    'numTrainEpochs':1,\n",
    "    'optimizer':'adam',\n",
    "    'frame_size':frame_size,\n",
    "    'cross_subjects':True,\n",
    "    'num_classes':num_classes,\n",
    "    'n_folds':5,\n",
    "    'use_class_weights':True,\n",
    "    'workers':8,\n",
    "    'multiprocessing':False,\n",
    "    'monitor':\"val_mci_dem_F1\",\n",
    "    'aggregation':'max',\n",
    "    }\n",
    "\n",
    "data_params={\n",
    "             'standardize':'em_astd',#'ema',#'look_at_time',# look_at_time\n",
    "             'fs':fs,\n",
    "             'channel_matches':channel_matches,\n",
    "             'subjects':subjects,\n",
    "             'test_ratio':0.2,\n",
    "             'readSubjects_params':{\n",
    "                 'site_as_label':site_as_label,\n",
    "                 'l_freq':1,\n",
    "                 'h_freq':14,\n",
    "                 'frame_length':utils.time2samples(time_container=frame_size,fs=fs),\n",
    "                 'bad_samples_path':r'../cache/bad_samples'\n",
    "                 },\n",
    "            }\n",
    "# the first 80 magnetic poles contain the inner magnetic field\n",
    "SA  = np.load('SA.npy')[:,:80]\n",
    "SB  = np.load('SB.npy')[:,:80]\n",
    "pSA = np.load('pSA.npy')[:80]\n",
    "pSB = np.load('pSB.npy')[:80]\n",
    "\n",
    "# Build augmentation pipeline for Generator\n",
    "function_params = {}\n",
    "function_params['draw_random_time_frame']={\n",
    "   'frame_length':utils.time2samples(fs=data_params['fs'],time_container=network_params['frame_size']),\n",
    "   'trial_length':5*60*data_params['fs']}\n",
    "function_params['additive_correlated_noise']={'sigma_noise':5e-2}\n",
    "function_params['transform_recording_site']={'sensor_inv':[pSA,pSB],\n",
    "                                             'sensor_fwd':[SA,SB],\n",
    "                                             'map_to':'random'}\n",
    "function_params['apply_channel_matches']={'matches':data_params['channel_matches']}\n",
    "\n",
    "functions=[GeneratorCNN.draw_random_time_frame,\n",
    "           GeneratorCNN.additive_correlated_noise,\n",
    "           GeneratorCNN.transform_recording_site,\n",
    "           GeneratorCNN.apply_channel_matches\n",
    "           ]\n",
    "\n",
    "prob = {'apply_channel_matches':1.0,\n",
    "        'draw_random_time_frame':1.0,\n",
    "        'transform_recording_site':1.0,\n",
    "        'additive_correlated_noise':0.5,\n",
    "        }\n",
    "\n",
    "train_aug_pipe=GeneratorCNN.Augment_Pipeline(functions=functions,\n",
    "                                  params=function_params,\n",
    "                                  p=prob)\n",
    "func = [\n",
    "        GeneratorCNN.draw_random_time_frame,\n",
    "        GeneratorCNN.transform_recording_site,\n",
    "        GeneratorCNN.apply_channel_matches]\n",
    "p = {'transform_recording_site':1,'apply_channel_matches':1,'draw_random_time_frame':1}\n",
    "aug_params = {\n",
    "    'transform_recording_site':\n",
    "       {'map_to':'identity',\n",
    "        'sensor_inv':[pSA,pSB],\n",
    "        'sensor_fwd':[SA,SB]},\n",
    "    'apply_channel_matches':\n",
    "        {'matches':data_params['channel_matches']},\n",
    "    'draw_random_time_frame':\n",
    "        {'frame_length':utils.time2samples(fs=data_params['fs'],time_container=network_params['frame_size']),\n",
    "        'trial_length':5*60*data_params['fs']}\n",
    "        }\n",
    "valid_pipe = GeneratorCNN.Augment_Pipeline(func,aug_params,p)\n",
    "\n",
    "def get_test_objects(fold,network):\n",
    "    overlap = 256\n",
    "    func = [\n",
    "            GeneratorCNN.draw_continuous_time_frame,\n",
    "            GeneratorCNN.transform_recording_site,\n",
    "            GeneratorCNN.apply_channel_matches]\n",
    "    p = {'transform_recording_site':1,'apply_channel_matches':1,'draw_continuous_time_frame':1}\n",
    "    aug_params = {\n",
    "        'transform_recording_site':\n",
    "           {'map_to':'identity',\n",
    "            'sensor_inv':[pSA,pSB],\n",
    "            'sensor_fwd':[SA,SB]},\n",
    "        'apply_channel_matches':\n",
    "            {'matches':data_params['channel_matches']},\n",
    "        'draw_continuous_time_frame':\n",
    "            {'frame_length':utils.time2samples(fs=data_params['fs'],time_container=network_params['frame_size']),\n",
    "            #'trial_length':5*60*data_params['fs']\n",
    "             'overlap':overlap\n",
    "             }\n",
    "            }\n",
    "    test_pipe = GeneratorCNN.Augment_Pipeline(func,aug_params,p)\n",
    "    test_pipe.params['overlap']=overlap\n",
    "    input_shape = (512,160,1)\n",
    "    model = network(input_shape,network_params)\n",
    "    model = trainer.load_model(fold,model=model)\n",
    "    from tensorflow.keras import models\n",
    "    feature_model = models.Model(model.input,model.layers[-3].output)\n",
    "    return test_pipe, model, feature_model"
   ]
  },
  {
   "cell_type": "markdown",
   "metadata": {
    "id": "JZXNgHc5MU_K"
   },
   "source": [
    "reload(mcm)\n",
    "reload(GeneratorCNN)\n",
    "reload(approach.GeneratorCNN)\n",
    "reload(utils)\n",
    "reload(model_zoo)\n",
    "reload(approach)\n",
    "reload(approach.readSubjects)"
   ]
  },
  {
   "cell_type": "code",
   "execution_count": 33,
   "metadata": {
    "executionInfo": {
     "elapsed": 865,
     "status": "ok",
     "timestamp": 1614156896699,
     "user": {
      "displayName": "marc",
      "photoUrl": "",
      "userId": "05336137283309084315"
     },
     "user_tz": -60
    },
    "id": "5veaANQd1czo"
   },
   "outputs": [],
   "source": [
    "reload(approach)\n",
    "\n",
    "trainer = approach.RunTraining(dataDir=r'../cache/raw',\n",
    "                               train_path_info='./info',\n",
    "                               static_data_params=data_params,\n",
    "                               network_params=network_params,\n",
    "                               completeDir=networkname)"
   ]
  },
  {
   "cell_type": "code",
   "execution_count": 19,
   "metadata": {
    "colab": {
     "base_uri": "https://localhost:8080/"
    },
    "executionInfo": {
     "elapsed": 976,
     "status": "ok",
     "timestamp": 1614156471891,
     "user": {
      "displayName": "marc",
      "photoUrl": "",
      "userId": "05336137283309084315"
     },
     "user_tz": -60
    },
    "id": "Uwmj6DAs2dqB",
    "outputId": "efa169fc-0888-4c00-ec8e-2e6f4d9fa19b"
   },
   "outputs": [
    {
     "name": "stdout",
     "output_type": "stream",
     "text": [
      "Function 'start_main' was already run in this folder.                 Either delete this folder or use 'continue_training'\n"
     ]
    }
   ],
   "source": [
    "last_model = trainer.start_main(network=network,\n",
    "                                train_augment_pipeline=train_aug_pipe,\n",
    "                                valid_augment_pipeline=valid_pipe,\n",
    "                                metrics=metrics,\n",
    "                                callbacks_list=callbacks)"
   ]
  },
  {
   "cell_type": "code",
   "execution_count": 8,
   "metadata": {
    "colab": {
     "base_uri": "https://localhost:8080/"
    },
    "id": "7cHCC8DahdG6",
    "outputId": "3a90bbd9-ce8b-404d-ffe2-62576fd6a583"
   },
   "outputs": [
    {
     "name": "stdout",
     "output_type": "stream",
     "text": [
      "{'mci': 12, 'dementia': 22, 'control': 79}\n"
     ]
    },
    {
     "name": "stderr",
     "output_type": "stream",
     "text": [
      "  0%|          | 0/113 [00:00<?, ?it/s]"
     ]
    },
    {
     "name": "stdout",
     "output_type": "stream",
     "text": [
      "\n"
     ]
    },
    {
     "name": "stderr",
     "output_type": "stream",
     "text": [
      "100%|██████████| 113/113 [01:20<00:00,  1.41it/s]\n"
     ]
    },
    {
     "name": "stdout",
     "output_type": "stream",
     "text": [
      "Network has shape:  (512, 160, 1)\n",
      "2\n",
      "Tracing\n",
      "Model: \"model\"\n",
      "_________________________________________________________________\n",
      "Layer (type)                 Output Shape              Param #   \n",
      "=================================================================\n",
      "input_1 (InputLayer)         [(None, 512, 160, 1)]     0         \n",
      "_________________________________________________________________\n",
      "conv2d (Conv2D)              (None, 512, 160, 16)      576       \n",
      "_________________________________________________________________\n",
      "average_pooling2d (AveragePo (None, 256, 160, 16)      0         \n",
      "_________________________________________________________________\n",
      "activation (Activation)      (None, 256, 160, 16)      0         \n",
      "_________________________________________________________________\n",
      "pairwise_channel_add (Pairwi (None, 256, 159, 16)      0         \n",
      "_________________________________________________________________\n",
      "spatial_conv (Conv2D)        (None, 256, 1, 16)        40720     \n",
      "_________________________________________________________________\n",
      "batch_normalization (BatchNo (None, 256, 1, 16)        64        \n",
      "_________________________________________________________________\n",
      "activation_1 (Activation)    (None, 256, 1, 16)        0         \n",
      "_________________________________________________________________\n",
      "average_pooling2d_1 (Average (None, 34, 1, 16)         0         \n",
      "_________________________________________________________________\n",
      "activation_2 (Activation)    (None, 34, 1, 16)         0         \n",
      "_________________________________________________________________\n",
      "flatten (Flatten)            (None, 544)               0         \n",
      "_________________________________________________________________\n",
      "dropout (Dropout)            (None, 544)               0         \n",
      "_________________________________________________________________\n",
      "dense (Dense)                (None, 3)                 1635      \n",
      "=================================================================\n",
      "Total params: 42,995\n",
      "Trainable params: 42,963\n",
      "Non-trainable params: 32\n",
      "_________________________________________________________________\n",
      "class_weights: \n",
      " {0: 0.4767932489451477, 1: 3.138888888888889, 2: 1.7121212121212122}\n",
      "num splits:  10\n",
      "Exponential moving z score with alpha: 0.0005\n"
     ]
    },
    {
     "name": "stderr",
     "output_type": "stream",
     "text": [
      "/.local/lib/python3.6/site-packages/sklearn/utils/validation.py:72: FutureWarning: Pass classes=[0 1 2], y=[0 0 0 0 0 0 0 0 0 0 0 0 0 0 0 0 0 0 0 0 0 0 0 0 0 0 0 0 0 0 0 0 0 0 0 0 0\n",
      " 0 0 0 0 0 0 0 0 0 0 0 0 0 0 0 0 0 0 0 0 0 0 0 0 0 0 0 0 0 0 0 0 0 0 0 0 0\n",
      " 0 0 0 0 0 2 2 2 2 2 2 2 2 2 2 2 2 2 2 2 2 2 2 2 2 2 2 1 1 1 1 1 1 1 1 1 1\n",
      " 1 1] as keyword args. From version 1.0 (renaming of 0.25) passing these as positional arguments will result in an error\n",
      "  \"will result in an error\", FutureWarning)\n"
     ]
    },
    {
     "name": "stdout",
     "output_type": "stream",
     "text": [
      "Exponential moving z score with alpha: 0.0005\n",
      "Train Patients: \n",
      " ['control100' 'control18' 'control19' 'control20' 'control23' 'control26'\n",
      " 'control27' 'control28' 'control30' 'control31' 'control32' 'control33'\n",
      " 'control34' 'control35' 'control36' 'control37' 'control38' 'control39'\n",
      " 'control40' 'control42' 'control43' 'control44' 'control45' 'control46'\n",
      " 'control47' 'control48' 'control49' 'control50' 'control51' 'control52'\n",
      " 'control54' 'control55' 'control56' 'control57' 'control58' 'control59'\n",
      " 'control60' 'control61' 'control62' 'control63' 'control64' 'control65'\n",
      " 'control66' 'control67' 'control69' 'control70' 'control71' 'control72'\n",
      " 'control73' 'control74' 'control75' 'control76' 'control77' 'control78'\n",
      " 'control79' 'control80' 'control81' 'control82' 'control83' 'control85'\n",
      " 'control86' 'control87' 'control88' 'control90' 'control91' 'control92'\n",
      " 'control93' 'control94' 'control97' 'control98' 'control99' 'dementia12'\n",
      " 'dementia13' 'dementia14' 'dementia15' 'dementia17' 'dementia18'\n",
      " 'dementia19' 'dementia20' 'dementia21' 'dementia22' 'dementia23'\n",
      " 'dementia24' 'dementia25' 'dementia26' 'dementia29' 'dementia6'\n",
      " 'dementia7' 'dementia8' 'dementia9' 'mci10' 'mci11' 'mci12' 'mci13'\n",
      " 'mci14' 'mci15' 'mci4' 'mci5' 'mci7' 'mci8' 'mci9'] \n",
      " In Total:  101\n",
      "Valid Patients: \n",
      " ['control29' 'control41' 'control53' 'control68' 'control84' 'control89'\n",
      " 'control95' 'control96' 'dementia11' 'dementia16' 'dementia28' 'mci6'] \n",
      " In Total:  12\n"
     ]
    },
    {
     "name": "stderr",
     "output_type": "stream",
     "text": [
      "/tf/TeleBrain/Biomag21/libs/GeneratorCNN.py:489: UserWarning: Make sure that the recording site is provided for each subject.\n",
      "  warnings.warn('Make sure that the recording site is provided for each subject.')\n"
     ]
    },
    {
     "name": "stdout",
     "output_type": "stream",
     "text": [
      "2\n",
      "2\n",
      "1893/1893 [==============================] - ETA: 0s - loss: 0.8510 - acc: 0.5927 - mci_dem_sensitivity: 0.6143 - mci_dem_Specificity: 0.9189 - mci_dem_F1: 0.42782\n",
      "2\n",
      "2\n",
      "2\n",
      "2\n",
      "2\n",
      "2\n",
      "2\n",
      "INFO:tensorflow:Unsupported signature for serialization: (([TensorSpec(shape=(None, 256, 1, 16), dtype=tf.float32, name='X_split/0'), TensorSpec(shape=(None, 256, 1, 16), dtype=tf.float32, name='X_split/1'), TensorSpec(shape=(None, 256, 1, 16), dtype=tf.float32, name='X_split/2'), TensorSpec(shape=(None, 256, 1, 16), dtype=tf.float32, name='X_split/3'), TensorSpec(shape=(None, 256, 1, 16), dtype=tf.float32, name='X_split/4'), TensorSpec(shape=(None, 256, 1, 16), dtype=tf.float32, name='X_split/5'), TensorSpec(shape=(None, 256, 1, 16), dtype=tf.float32, name='X_split/6'), TensorSpec(shape=(None, 256, 1, 16), dtype=tf.float32, name='X_split/7'), TensorSpec(shape=(None, 256, 1, 16), dtype=tf.float32, name='X_split/8'), TensorSpec(shape=(None, 256, 1, 16), dtype=tf.float32, name='X_split/9'), TensorSpec(shape=(None, 256, 1, 16), dtype=tf.float32, name='X_split/10'), TensorSpec(shape=(None, 256, 1, 16), dtype=tf.float32, name='X_split/11'), TensorSpec(shape=(None, 256, 1, 16), dtype=tf.float32, name='X_split/12'), TensorSpec(shape=(None, 256, 1, 16), dtype=tf.float32, name='X_split/13'), TensorSpec(shape=(None, 256, 1, 16), dtype=tf.float32, name='X_split/14'), TensorSpec(shape=(None, 256, 1, 16), dtype=tf.float32, name='X_split/15'), TensorSpec(shape=(None, 256, 1, 16), dtype=tf.float32, name='X_split/16'), TensorSpec(shape=(None, 256, 1, 16), dtype=tf.float32, name='X_split/17'), TensorSpec(shape=(None, 256, 1, 16), dtype=tf.float32, name='X_split/18'), TensorSpec(shape=(None, 256, 1, 16), dtype=tf.float32, name='X_split/19'), TensorSpec(shape=(None, 256, 1, 16), dtype=tf.float32, name='X_split/20'), TensorSpec(shape=(None, 256, 1, 16), dtype=tf.float32, name='X_split/21'), TensorSpec(shape=(None, 256, 1, 16), dtype=tf.float32, name='X_split/22'), TensorSpec(shape=(None, 256, 1, 16), dtype=tf.float32, name='X_split/23'), TensorSpec(shape=(None, 256, 1, 16), dtype=tf.float32, name='X_split/24'), TensorSpec(shape=(None, 256, 1, 16), dtype=tf.float32, name='X_split/25'), TensorSpec(shape=(None, 256, 1, 16), dtype=tf.float32, name='X_split/26'), TensorSpec(shape=(None, 256, 1, 16), dtype=tf.float32, name='X_split/27'), TensorSpec(shape=(None, 256, 1, 16), dtype=tf.float32, name='X_split/28'), TensorSpec(shape=(None, 256, 1, 16), dtype=tf.float32, name='X_split/29'), TensorSpec(shape=(None, 256, 1, 16), dtype=tf.float32, name='X_split/30'), TensorSpec(shape=(None, 256, 1, 16), dtype=tf.float32, name='X_split/31'), TensorSpec(shape=(None, 256, 1, 16), dtype=tf.float32, name='X_split/32'), TensorSpec(shape=(None, 256, 1, 16), dtype=tf.float32, name='X_split/33'), TensorSpec(shape=(None, 256, 1, 16), dtype=tf.float32, name='X_split/34'), TensorSpec(shape=(None, 256, 1, 16), dtype=tf.float32, name='X_split/35'), TensorSpec(shape=(None, 256, 1, 16), dtype=tf.float32, name='X_split/36'), TensorSpec(shape=(None, 256, 1, 16), dtype=tf.float32, name='X_split/37'), TensorSpec(shape=(None, 256, 1, 16), dtype=tf.float32, name='X_split/38'), TensorSpec(shape=(None, 256, 1, 16), dtype=tf.float32, name='X_split/39'), TensorSpec(shape=(None, 256, 1, 16), dtype=tf.float32, name='X_split/40'), TensorSpec(shape=(None, 256, 1, 16), dtype=tf.float32, name='X_split/41'), TensorSpec(shape=(None, 256, 1, 16), dtype=tf.float32, name='X_split/42'), TensorSpec(shape=(None, 256, 1, 16), dtype=tf.float32, name='X_split/43'), TensorSpec(shape=(None, 256, 1, 16), dtype=tf.float32, name='X_split/44'), TensorSpec(shape=(None, 256, 1, 16), dtype=tf.float32, name='X_split/45'), TensorSpec(shape=(None, 256, 1, 16), dtype=tf.float32, name='X_split/46'), TensorSpec(shape=(None, 256, 1, 16), dtype=tf.float32, name='X_split/47'), TensorSpec(shape=(None, 256, 1, 16), dtype=tf.float32, name='X_split/48'), TensorSpec(shape=(None, 256, 1, 16), dtype=tf.float32, name='X_split/49'), TensorSpec(shape=(None, 256, 1, 16), dtype=tf.float32, name='X_split/50'), TensorSpec(shape=(None, 256, 1, 16), dtype=tf.float32, name='X_split/51'), TensorSpec(shape=(None, 256, 1, 16), dtype=tf.float32, name='X_split/52'), TensorSpec(shape=(None, 256, 1, 16), dtype=tf.float32, name='X_split/53'), TensorSpec(shape=(None, 256, 1, 16), dtype=tf.float32, name='X_split/54'), TensorSpec(shape=(None, 256, 1, 16), dtype=tf.float32, name='X_split/55'), TensorSpec(shape=(None, 256, 1, 16), dtype=tf.float32, name='X_split/56'), TensorSpec(shape=(None, 256, 1, 16), dtype=tf.float32, name='X_split/57'), TensorSpec(shape=(None, 256, 1, 16), dtype=tf.float32, name='X_split/58'), TensorSpec(shape=(None, 256, 1, 16), dtype=tf.float32, name='X_split/59'), TensorSpec(shape=(None, 256, 1, 16), dtype=tf.float32, name='X_split/60'), TensorSpec(shape=(None, 256, 1, 16), dtype=tf.float32, name='X_split/61'), TensorSpec(shape=(None, 256, 1, 16), dtype=tf.float32, name='X_split/62'), TensorSpec(shape=(None, 256, 1, 16), dtype=tf.float32, name='X_split/63'), TensorSpec(shape=(None, 256, 1, 16), dtype=tf.float32, name='X_split/64'), TensorSpec(shape=(None, 256, 1, 16), dtype=tf.float32, name='X_split/65'), TensorSpec(shape=(None, 256, 1, 16), dtype=tf.float32, name='X_split/66'), TensorSpec(shape=(None, 256, 1, 16), dtype=tf.float32, name='X_split/67'), TensorSpec(shape=(None, 256, 1, 16), dtype=tf.float32, name='X_split/68'), TensorSpec(shape=(None, 256, 1, 16), dtype=tf.float32, name='X_split/69'), TensorSpec(shape=(None, 256, 1, 16), dtype=tf.float32, name='X_split/70'), TensorSpec(shape=(None, 256, 1, 16), dtype=tf.float32, name='X_split/71'), TensorSpec(shape=(None, 256, 1, 16), dtype=tf.float32, name='X_split/72'), TensorSpec(shape=(None, 256, 1, 16), dtype=tf.float32, name='X_split/73'), TensorSpec(shape=(None, 256, 1, 16), dtype=tf.float32, name='X_split/74'), TensorSpec(shape=(None, 256, 1, 16), dtype=tf.float32, name='X_split/75'), TensorSpec(shape=(None, 256, 1, 16), dtype=tf.float32, name='X_split/76'), TensorSpec(shape=(None, 256, 1, 16), dtype=tf.float32, name='X_split/77'), TensorSpec(shape=(None, 256, 1, 16), dtype=tf.float32, name='X_split/78'), TensorSpec(shape=(None, 256, 1, 16), dtype=tf.float32, name='X_split/79'), TensorSpec(shape=(None, 256, 1, 16), dtype=tf.float32, name='X_split/80'), TensorSpec(shape=(None, 256, 1, 16), dtype=tf.float32, name='X_split/81'), TensorSpec(shape=(None, 256, 1, 16), dtype=tf.float32, name='X_split/82'), TensorSpec(shape=(None, 256, 1, 16), dtype=tf.float32, name='X_split/83'), TensorSpec(shape=(None, 256, 1, 16), dtype=tf.float32, name='X_split/84'), TensorSpec(shape=(None, 256, 1, 16), dtype=tf.float32, name='X_split/85'), TensorSpec(shape=(None, 256, 1, 16), dtype=tf.float32, name='X_split/86'), TensorSpec(shape=(None, 256, 1, 16), dtype=tf.float32, name='X_split/87'), TensorSpec(shape=(None, 256, 1, 16), dtype=tf.float32, name='X_split/88'), TensorSpec(shape=(None, 256, 1, 16), dtype=tf.float32, name='X_split/89'), TensorSpec(shape=(None, 256, 1, 16), dtype=tf.float32, name='X_split/90'), TensorSpec(shape=(None, 256, 1, 16), dtype=tf.float32, name='X_split/91'), TensorSpec(shape=(None, 256, 1, 16), dtype=tf.float32, name='X_split/92'), TensorSpec(shape=(None, 256, 1, 16), dtype=tf.float32, name='X_split/93'), TensorSpec(shape=(None, 256, 1, 16), dtype=tf.float32, name='X_split/94'), TensorSpec(shape=(None, 256, 1, 16), dtype=tf.float32, name='X_split/95'), TensorSpec(shape=(None, 256, 1, 16), dtype=tf.float32, name='X_split/96'), TensorSpec(shape=(None, 256, 1, 16), dtype=tf.float32, name='X_split/97'), TensorSpec(shape=(None, 256, 1, 16), dtype=tf.float32, name='X_split/98'), TensorSpec(shape=(None, 256, 1, 16), dtype=tf.float32, name='X_split/99'), TensorSpec(shape=(None, 256, 1, 16), dtype=tf.float32, name='X_split/100'), TensorSpec(shape=(None, 256, 1, 16), dtype=tf.float32, name='X_split/101'), TensorSpec(shape=(None, 256, 1, 16), dtype=tf.float32, name='X_split/102'), TensorSpec(shape=(None, 256, 1, 16), dtype=tf.float32, name='X_split/103'), TensorSpec(shape=(None, 256, 1, 16), dtype=tf.float32, name='X_split/104'), TensorSpec(shape=(None, 256, 1, 16), dtype=tf.float32, name='X_split/105'), TensorSpec(shape=(None, 256, 1, 16), dtype=tf.float32, name='X_split/106'), TensorSpec(shape=(None, 256, 1, 16), dtype=tf.float32, name='X_split/107'), TensorSpec(shape=(None, 256, 1, 16), dtype=tf.float32, name='X_split/108'), TensorSpec(shape=(None, 256, 1, 16), dtype=tf.float32, name='X_split/109'), TensorSpec(shape=(None, 256, 1, 16), dtype=tf.float32, name='X_split/110'), TensorSpec(shape=(None, 256, 1, 16), dtype=tf.float32, name='X_split/111'), TensorSpec(shape=(None, 256, 1, 16), dtype=tf.float32, name='X_split/112'), TensorSpec(shape=(None, 256, 1, 16), dtype=tf.float32, name='X_split/113'), TensorSpec(shape=(None, 256, 1, 16), dtype=tf.float32, name='X_split/114'), TensorSpec(shape=(None, 256, 1, 16), dtype=tf.float32, name='X_split/115'), TensorSpec(shape=(None, 256, 1, 16), dtype=tf.float32, name='X_split/116'), TensorSpec(shape=(None, 256, 1, 16), dtype=tf.float32, name='X_split/117'), TensorSpec(shape=(None, 256, 1, 16), dtype=tf.float32, name='X_split/118'), TensorSpec(shape=(None, 256, 1, 16), dtype=tf.float32, name='X_split/119'), TensorSpec(shape=(None, 256, 1, 16), dtype=tf.float32, name='X_split/120'), TensorSpec(shape=(None, 256, 1, 16), dtype=tf.float32, name='X_split/121'), TensorSpec(shape=(None, 256, 1, 16), dtype=tf.float32, name='X_split/122'), TensorSpec(shape=(None, 256, 1, 16), dtype=tf.float32, name='X_split/123'), TensorSpec(shape=(None, 256, 1, 16), dtype=tf.float32, name='X_split/124'), TensorSpec(shape=(None, 256, 1, 16), dtype=tf.float32, name='X_split/125'), TensorSpec(shape=(None, 256, 1, 16), dtype=tf.float32, name='X_split/126'), TensorSpec(shape=(None, 256, 1, 16), dtype=tf.float32, name='X_split/127'), TensorSpec(shape=(None, 256, 1, 16), dtype=tf.float32, name='X_split/128'), TensorSpec(shape=(None, 256, 1, 16), dtype=tf.float32, name='X_split/129'), TensorSpec(shape=(None, 256, 1, 16), dtype=tf.float32, name='X_split/130'), TensorSpec(shape=(None, 256, 1, 16), dtype=tf.float32, name='X_split/131'), TensorSpec(shape=(None, 256, 1, 16), dtype=tf.float32, name='X_split/132'), TensorSpec(shape=(None, 256, 1, 16), dtype=tf.float32, name='X_split/133'), TensorSpec(shape=(None, 256, 1, 16), dtype=tf.float32, name='X_split/134'), TensorSpec(shape=(None, 256, 1, 16), dtype=tf.float32, name='X_split/135'), TensorSpec(shape=(None, 256, 1, 16), dtype=tf.float32, name='X_split/136'), TensorSpec(shape=(None, 256, 1, 16), dtype=tf.float32, name='X_split/137'), TensorSpec(shape=(None, 256, 1, 16), dtype=tf.float32, name='X_split/138'), TensorSpec(shape=(None, 256, 1, 16), dtype=tf.float32, name='X_split/139'), TensorSpec(shape=(None, 256, 1, 16), dtype=tf.float32, name='X_split/140'), TensorSpec(shape=(None, 256, 1, 16), dtype=tf.float32, name='X_split/141'), TensorSpec(shape=(None, 256, 1, 16), dtype=tf.float32, name='X_split/142'), TensorSpec(shape=(None, 256, 1, 16), dtype=tf.float32, name='X_split/143'), TensorSpec(shape=(None, 256, 1, 16), dtype=tf.float32, name='X_split/144'), TensorSpec(shape=(None, 256, 1, 16), dtype=tf.float32, name='X_split/145'), TensorSpec(shape=(None, 256, 1, 16), dtype=tf.float32, name='X_split/146'), TensorSpec(shape=(None, 256, 1, 16), dtype=tf.float32, name='X_split/147'), TensorSpec(shape=(None, 256, 1, 16), dtype=tf.float32, name='X_split/148'), TensorSpec(shape=(None, 256, 1, 16), dtype=tf.float32, name='X_split/149'), TensorSpec(shape=(None, 256, 1, 16), dtype=tf.float32, name='X_split/150'), TensorSpec(shape=(None, 256, 1, 16), dtype=tf.float32, name='X_split/151'), TensorSpec(shape=(None, 256, 1, 16), dtype=tf.float32, name='X_split/152'), TensorSpec(shape=(None, 256, 1, 16), dtype=tf.float32, name='X_split/153'), TensorSpec(shape=(None, 256, 1, 16), dtype=tf.float32, name='X_split/154'), TensorSpec(shape=(None, 256, 1, 16), dtype=tf.float32, name='X_split/155'), TensorSpec(shape=(None, 256, 1, 16), dtype=tf.float32, name='X_split/156'), TensorSpec(shape=(None, 256, 1, 16), dtype=tf.float32, name='X_split/157'), TensorSpec(shape=(None, 256, 1, 16), dtype=tf.float32, name='X_split/158'), TensorSpec(shape=(None, 256, 1, 16), dtype=tf.float32, name='X_split/159')], 160, 2, <tensorflow.python.framework.func_graph.UnknownArgument object at 0x7f26f444a6a0>, <tensorflow.python.framework.func_graph.UnknownArgument object at 0x7f26f445bd30>), {}).\n",
      "INFO:tensorflow:Unsupported signature for serialization: (([TensorSpec(shape=(None, 256, 1, 16), dtype=tf.float32, name='X_split/0'), TensorSpec(shape=(None, 256, 1, 16), dtype=tf.float32, name='X_split/1'), TensorSpec(shape=(None, 256, 1, 16), dtype=tf.float32, name='X_split/2'), TensorSpec(shape=(None, 256, 1, 16), dtype=tf.float32, name='X_split/3'), TensorSpec(shape=(None, 256, 1, 16), dtype=tf.float32, name='X_split/4'), TensorSpec(shape=(None, 256, 1, 16), dtype=tf.float32, name='X_split/5'), TensorSpec(shape=(None, 256, 1, 16), dtype=tf.float32, name='X_split/6'), TensorSpec(shape=(None, 256, 1, 16), dtype=tf.float32, name='X_split/7'), TensorSpec(shape=(None, 256, 1, 16), dtype=tf.float32, name='X_split/8'), TensorSpec(shape=(None, 256, 1, 16), dtype=tf.float32, name='X_split/9'), TensorSpec(shape=(None, 256, 1, 16), dtype=tf.float32, name='X_split/10'), TensorSpec(shape=(None, 256, 1, 16), dtype=tf.float32, name='X_split/11'), TensorSpec(shape=(None, 256, 1, 16), dtype=tf.float32, name='X_split/12'), TensorSpec(shape=(None, 256, 1, 16), dtype=tf.float32, name='X_split/13'), TensorSpec(shape=(None, 256, 1, 16), dtype=tf.float32, name='X_split/14'), TensorSpec(shape=(None, 256, 1, 16), dtype=tf.float32, name='X_split/15'), TensorSpec(shape=(None, 256, 1, 16), dtype=tf.float32, name='X_split/16'), TensorSpec(shape=(None, 256, 1, 16), dtype=tf.float32, name='X_split/17'), TensorSpec(shape=(None, 256, 1, 16), dtype=tf.float32, name='X_split/18'), TensorSpec(shape=(None, 256, 1, 16), dtype=tf.float32, name='X_split/19'), TensorSpec(shape=(None, 256, 1, 16), dtype=tf.float32, name='X_split/20'), TensorSpec(shape=(None, 256, 1, 16), dtype=tf.float32, name='X_split/21'), TensorSpec(shape=(None, 256, 1, 16), dtype=tf.float32, name='X_split/22'), TensorSpec(shape=(None, 256, 1, 16), dtype=tf.float32, name='X_split/23'), TensorSpec(shape=(None, 256, 1, 16), dtype=tf.float32, name='X_split/24'), TensorSpec(shape=(None, 256, 1, 16), dtype=tf.float32, name='X_split/25'), TensorSpec(shape=(None, 256, 1, 16), dtype=tf.float32, name='X_split/26'), TensorSpec(shape=(None, 256, 1, 16), dtype=tf.float32, name='X_split/27'), TensorSpec(shape=(None, 256, 1, 16), dtype=tf.float32, name='X_split/28'), TensorSpec(shape=(None, 256, 1, 16), dtype=tf.float32, name='X_split/29'), TensorSpec(shape=(None, 256, 1, 16), dtype=tf.float32, name='X_split/30'), TensorSpec(shape=(None, 256, 1, 16), dtype=tf.float32, name='X_split/31'), TensorSpec(shape=(None, 256, 1, 16), dtype=tf.float32, name='X_split/32'), TensorSpec(shape=(None, 256, 1, 16), dtype=tf.float32, name='X_split/33'), TensorSpec(shape=(None, 256, 1, 16), dtype=tf.float32, name='X_split/34'), TensorSpec(shape=(None, 256, 1, 16), dtype=tf.float32, name='X_split/35'), TensorSpec(shape=(None, 256, 1, 16), dtype=tf.float32, name='X_split/36'), TensorSpec(shape=(None, 256, 1, 16), dtype=tf.float32, name='X_split/37'), TensorSpec(shape=(None, 256, 1, 16), dtype=tf.float32, name='X_split/38'), TensorSpec(shape=(None, 256, 1, 16), dtype=tf.float32, name='X_split/39'), TensorSpec(shape=(None, 256, 1, 16), dtype=tf.float32, name='X_split/40'), TensorSpec(shape=(None, 256, 1, 16), dtype=tf.float32, name='X_split/41'), TensorSpec(shape=(None, 256, 1, 16), dtype=tf.float32, name='X_split/42'), TensorSpec(shape=(None, 256, 1, 16), dtype=tf.float32, name='X_split/43'), TensorSpec(shape=(None, 256, 1, 16), dtype=tf.float32, name='X_split/44'), TensorSpec(shape=(None, 256, 1, 16), dtype=tf.float32, name='X_split/45'), TensorSpec(shape=(None, 256, 1, 16), dtype=tf.float32, name='X_split/46'), TensorSpec(shape=(None, 256, 1, 16), dtype=tf.float32, name='X_split/47'), TensorSpec(shape=(None, 256, 1, 16), dtype=tf.float32, name='X_split/48'), TensorSpec(shape=(None, 256, 1, 16), dtype=tf.float32, name='X_split/49'), TensorSpec(shape=(None, 256, 1, 16), dtype=tf.float32, name='X_split/50'), TensorSpec(shape=(None, 256, 1, 16), dtype=tf.float32, name='X_split/51'), TensorSpec(shape=(None, 256, 1, 16), dtype=tf.float32, name='X_split/52'), TensorSpec(shape=(None, 256, 1, 16), dtype=tf.float32, name='X_split/53'), TensorSpec(shape=(None, 256, 1, 16), dtype=tf.float32, name='X_split/54'), TensorSpec(shape=(None, 256, 1, 16), dtype=tf.float32, name='X_split/55'), TensorSpec(shape=(None, 256, 1, 16), dtype=tf.float32, name='X_split/56'), TensorSpec(shape=(None, 256, 1, 16), dtype=tf.float32, name='X_split/57'), TensorSpec(shape=(None, 256, 1, 16), dtype=tf.float32, name='X_split/58'), TensorSpec(shape=(None, 256, 1, 16), dtype=tf.float32, name='X_split/59'), TensorSpec(shape=(None, 256, 1, 16), dtype=tf.float32, name='X_split/60'), TensorSpec(shape=(None, 256, 1, 16), dtype=tf.float32, name='X_split/61'), TensorSpec(shape=(None, 256, 1, 16), dtype=tf.float32, name='X_split/62'), TensorSpec(shape=(None, 256, 1, 16), dtype=tf.float32, name='X_split/63'), TensorSpec(shape=(None, 256, 1, 16), dtype=tf.float32, name='X_split/64'), TensorSpec(shape=(None, 256, 1, 16), dtype=tf.float32, name='X_split/65'), TensorSpec(shape=(None, 256, 1, 16), dtype=tf.float32, name='X_split/66'), TensorSpec(shape=(None, 256, 1, 16), dtype=tf.float32, name='X_split/67'), TensorSpec(shape=(None, 256, 1, 16), dtype=tf.float32, name='X_split/68'), TensorSpec(shape=(None, 256, 1, 16), dtype=tf.float32, name='X_split/69'), TensorSpec(shape=(None, 256, 1, 16), dtype=tf.float32, name='X_split/70'), TensorSpec(shape=(None, 256, 1, 16), dtype=tf.float32, name='X_split/71'), TensorSpec(shape=(None, 256, 1, 16), dtype=tf.float32, name='X_split/72'), TensorSpec(shape=(None, 256, 1, 16), dtype=tf.float32, name='X_split/73'), TensorSpec(shape=(None, 256, 1, 16), dtype=tf.float32, name='X_split/74'), TensorSpec(shape=(None, 256, 1, 16), dtype=tf.float32, name='X_split/75'), TensorSpec(shape=(None, 256, 1, 16), dtype=tf.float32, name='X_split/76'), TensorSpec(shape=(None, 256, 1, 16), dtype=tf.float32, name='X_split/77'), TensorSpec(shape=(None, 256, 1, 16), dtype=tf.float32, name='X_split/78'), TensorSpec(shape=(None, 256, 1, 16), dtype=tf.float32, name='X_split/79'), TensorSpec(shape=(None, 256, 1, 16), dtype=tf.float32, name='X_split/80'), TensorSpec(shape=(None, 256, 1, 16), dtype=tf.float32, name='X_split/81'), TensorSpec(shape=(None, 256, 1, 16), dtype=tf.float32, name='X_split/82'), TensorSpec(shape=(None, 256, 1, 16), dtype=tf.float32, name='X_split/83'), TensorSpec(shape=(None, 256, 1, 16), dtype=tf.float32, name='X_split/84'), TensorSpec(shape=(None, 256, 1, 16), dtype=tf.float32, name='X_split/85'), TensorSpec(shape=(None, 256, 1, 16), dtype=tf.float32, name='X_split/86'), TensorSpec(shape=(None, 256, 1, 16), dtype=tf.float32, name='X_split/87'), TensorSpec(shape=(None, 256, 1, 16), dtype=tf.float32, name='X_split/88'), TensorSpec(shape=(None, 256, 1, 16), dtype=tf.float32, name='X_split/89'), TensorSpec(shape=(None, 256, 1, 16), dtype=tf.float32, name='X_split/90'), TensorSpec(shape=(None, 256, 1, 16), dtype=tf.float32, name='X_split/91'), TensorSpec(shape=(None, 256, 1, 16), dtype=tf.float32, name='X_split/92'), TensorSpec(shape=(None, 256, 1, 16), dtype=tf.float32, name='X_split/93'), TensorSpec(shape=(None, 256, 1, 16), dtype=tf.float32, name='X_split/94'), TensorSpec(shape=(None, 256, 1, 16), dtype=tf.float32, name='X_split/95'), TensorSpec(shape=(None, 256, 1, 16), dtype=tf.float32, name='X_split/96'), TensorSpec(shape=(None, 256, 1, 16), dtype=tf.float32, name='X_split/97'), TensorSpec(shape=(None, 256, 1, 16), dtype=tf.float32, name='X_split/98'), TensorSpec(shape=(None, 256, 1, 16), dtype=tf.float32, name='X_split/99'), TensorSpec(shape=(None, 256, 1, 16), dtype=tf.float32, name='X_split/100'), TensorSpec(shape=(None, 256, 1, 16), dtype=tf.float32, name='X_split/101'), TensorSpec(shape=(None, 256, 1, 16), dtype=tf.float32, name='X_split/102'), TensorSpec(shape=(None, 256, 1, 16), dtype=tf.float32, name='X_split/103'), TensorSpec(shape=(None, 256, 1, 16), dtype=tf.float32, name='X_split/104'), TensorSpec(shape=(None, 256, 1, 16), dtype=tf.float32, name='X_split/105'), TensorSpec(shape=(None, 256, 1, 16), dtype=tf.float32, name='X_split/106'), TensorSpec(shape=(None, 256, 1, 16), dtype=tf.float32, name='X_split/107'), TensorSpec(shape=(None, 256, 1, 16), dtype=tf.float32, name='X_split/108'), TensorSpec(shape=(None, 256, 1, 16), dtype=tf.float32, name='X_split/109'), TensorSpec(shape=(None, 256, 1, 16), dtype=tf.float32, name='X_split/110'), TensorSpec(shape=(None, 256, 1, 16), dtype=tf.float32, name='X_split/111'), TensorSpec(shape=(None, 256, 1, 16), dtype=tf.float32, name='X_split/112'), TensorSpec(shape=(None, 256, 1, 16), dtype=tf.float32, name='X_split/113'), TensorSpec(shape=(None, 256, 1, 16), dtype=tf.float32, name='X_split/114'), TensorSpec(shape=(None, 256, 1, 16), dtype=tf.float32, name='X_split/115'), TensorSpec(shape=(None, 256, 1, 16), dtype=tf.float32, name='X_split/116'), TensorSpec(shape=(None, 256, 1, 16), dtype=tf.float32, name='X_split/117'), TensorSpec(shape=(None, 256, 1, 16), dtype=tf.float32, name='X_split/118'), TensorSpec(shape=(None, 256, 1, 16), dtype=tf.float32, name='X_split/119'), TensorSpec(shape=(None, 256, 1, 16), dtype=tf.float32, name='X_split/120'), TensorSpec(shape=(None, 256, 1, 16), dtype=tf.float32, name='X_split/121'), TensorSpec(shape=(None, 256, 1, 16), dtype=tf.float32, name='X_split/122'), TensorSpec(shape=(None, 256, 1, 16), dtype=tf.float32, name='X_split/123'), TensorSpec(shape=(None, 256, 1, 16), dtype=tf.float32, name='X_split/124'), TensorSpec(shape=(None, 256, 1, 16), dtype=tf.float32, name='X_split/125'), TensorSpec(shape=(None, 256, 1, 16), dtype=tf.float32, name='X_split/126'), TensorSpec(shape=(None, 256, 1, 16), dtype=tf.float32, name='X_split/127'), TensorSpec(shape=(None, 256, 1, 16), dtype=tf.float32, name='X_split/128'), TensorSpec(shape=(None, 256, 1, 16), dtype=tf.float32, name='X_split/129'), TensorSpec(shape=(None, 256, 1, 16), dtype=tf.float32, name='X_split/130'), TensorSpec(shape=(None, 256, 1, 16), dtype=tf.float32, name='X_split/131'), TensorSpec(shape=(None, 256, 1, 16), dtype=tf.float32, name='X_split/132'), TensorSpec(shape=(None, 256, 1, 16), dtype=tf.float32, name='X_split/133'), TensorSpec(shape=(None, 256, 1, 16), dtype=tf.float32, name='X_split/134'), TensorSpec(shape=(None, 256, 1, 16), dtype=tf.float32, name='X_split/135'), TensorSpec(shape=(None, 256, 1, 16), dtype=tf.float32, name='X_split/136'), TensorSpec(shape=(None, 256, 1, 16), dtype=tf.float32, name='X_split/137'), TensorSpec(shape=(None, 256, 1, 16), dtype=tf.float32, name='X_split/138'), TensorSpec(shape=(None, 256, 1, 16), dtype=tf.float32, name='X_split/139'), TensorSpec(shape=(None, 256, 1, 16), dtype=tf.float32, name='X_split/140'), TensorSpec(shape=(None, 256, 1, 16), dtype=tf.float32, name='X_split/141'), TensorSpec(shape=(None, 256, 1, 16), dtype=tf.float32, name='X_split/142'), TensorSpec(shape=(None, 256, 1, 16), dtype=tf.float32, name='X_split/143'), TensorSpec(shape=(None, 256, 1, 16), dtype=tf.float32, name='X_split/144'), TensorSpec(shape=(None, 256, 1, 16), dtype=tf.float32, name='X_split/145'), TensorSpec(shape=(None, 256, 1, 16), dtype=tf.float32, name='X_split/146'), TensorSpec(shape=(None, 256, 1, 16), dtype=tf.float32, name='X_split/147'), TensorSpec(shape=(None, 256, 1, 16), dtype=tf.float32, name='X_split/148'), TensorSpec(shape=(None, 256, 1, 16), dtype=tf.float32, name='X_split/149'), TensorSpec(shape=(None, 256, 1, 16), dtype=tf.float32, name='X_split/150'), TensorSpec(shape=(None, 256, 1, 16), dtype=tf.float32, name='X_split/151'), TensorSpec(shape=(None, 256, 1, 16), dtype=tf.float32, name='X_split/152'), TensorSpec(shape=(None, 256, 1, 16), dtype=tf.float32, name='X_split/153'), TensorSpec(shape=(None, 256, 1, 16), dtype=tf.float32, name='X_split/154'), TensorSpec(shape=(None, 256, 1, 16), dtype=tf.float32, name='X_split/155'), TensorSpec(shape=(None, 256, 1, 16), dtype=tf.float32, name='X_split/156'), TensorSpec(shape=(None, 256, 1, 16), dtype=tf.float32, name='X_split/157'), TensorSpec(shape=(None, 256, 1, 16), dtype=tf.float32, name='X_split/158'), TensorSpec(shape=(None, 256, 1, 16), dtype=tf.float32, name='X_split/159')], 160, 2, <tensorflow.python.framework.func_graph.UnknownArgument object at 0x7f26f444a6a0>, <tensorflow.python.framework.func_graph.UnknownArgument object at 0x7f26f445bd30>), {}).\n",
      "WARNING:tensorflow:From /usr/local/lib/python3.6/dist-packages/tensorflow/python/ops/resource_variable_ops.py:1817: calling BaseResourceVariable.__init__ (from tensorflow.python.ops.resource_variable_ops) with constraint is deprecated and will be removed in a future version.\n",
      "Instructions for updating:\n",
      "If using Keras pass *_constraint arguments to layers.\n",
      "INFO:tensorflow:Unsupported signature for serialization: (([TensorSpec(shape=(None, 256, 1, 16), dtype=tf.float32, name='X_split/0'), TensorSpec(shape=(None, 256, 1, 16), dtype=tf.float32, name='X_split/1'), TensorSpec(shape=(None, 256, 1, 16), dtype=tf.float32, name='X_split/2'), TensorSpec(shape=(None, 256, 1, 16), dtype=tf.float32, name='X_split/3'), TensorSpec(shape=(None, 256, 1, 16), dtype=tf.float32, name='X_split/4'), TensorSpec(shape=(None, 256, 1, 16), dtype=tf.float32, name='X_split/5'), TensorSpec(shape=(None, 256, 1, 16), dtype=tf.float32, name='X_split/6'), TensorSpec(shape=(None, 256, 1, 16), dtype=tf.float32, name='X_split/7'), TensorSpec(shape=(None, 256, 1, 16), dtype=tf.float32, name='X_split/8'), TensorSpec(shape=(None, 256, 1, 16), dtype=tf.float32, name='X_split/9'), TensorSpec(shape=(None, 256, 1, 16), dtype=tf.float32, name='X_split/10'), TensorSpec(shape=(None, 256, 1, 16), dtype=tf.float32, name='X_split/11'), TensorSpec(shape=(None, 256, 1, 16), dtype=tf.float32, name='X_split/12'), TensorSpec(shape=(None, 256, 1, 16), dtype=tf.float32, name='X_split/13'), TensorSpec(shape=(None, 256, 1, 16), dtype=tf.float32, name='X_split/14'), TensorSpec(shape=(None, 256, 1, 16), dtype=tf.float32, name='X_split/15'), TensorSpec(shape=(None, 256, 1, 16), dtype=tf.float32, name='X_split/16'), TensorSpec(shape=(None, 256, 1, 16), dtype=tf.float32, name='X_split/17'), TensorSpec(shape=(None, 256, 1, 16), dtype=tf.float32, name='X_split/18'), TensorSpec(shape=(None, 256, 1, 16), dtype=tf.float32, name='X_split/19'), TensorSpec(shape=(None, 256, 1, 16), dtype=tf.float32, name='X_split/20'), TensorSpec(shape=(None, 256, 1, 16), dtype=tf.float32, name='X_split/21'), TensorSpec(shape=(None, 256, 1, 16), dtype=tf.float32, name='X_split/22'), TensorSpec(shape=(None, 256, 1, 16), dtype=tf.float32, name='X_split/23'), TensorSpec(shape=(None, 256, 1, 16), dtype=tf.float32, name='X_split/24'), TensorSpec(shape=(None, 256, 1, 16), dtype=tf.float32, name='X_split/25'), TensorSpec(shape=(None, 256, 1, 16), dtype=tf.float32, name='X_split/26'), TensorSpec(shape=(None, 256, 1, 16), dtype=tf.float32, name='X_split/27'), TensorSpec(shape=(None, 256, 1, 16), dtype=tf.float32, name='X_split/28'), TensorSpec(shape=(None, 256, 1, 16), dtype=tf.float32, name='X_split/29'), TensorSpec(shape=(None, 256, 1, 16), dtype=tf.float32, name='X_split/30'), TensorSpec(shape=(None, 256, 1, 16), dtype=tf.float32, name='X_split/31'), TensorSpec(shape=(None, 256, 1, 16), dtype=tf.float32, name='X_split/32'), TensorSpec(shape=(None, 256, 1, 16), dtype=tf.float32, name='X_split/33'), TensorSpec(shape=(None, 256, 1, 16), dtype=tf.float32, name='X_split/34'), TensorSpec(shape=(None, 256, 1, 16), dtype=tf.float32, name='X_split/35'), TensorSpec(shape=(None, 256, 1, 16), dtype=tf.float32, name='X_split/36'), TensorSpec(shape=(None, 256, 1, 16), dtype=tf.float32, name='X_split/37'), TensorSpec(shape=(None, 256, 1, 16), dtype=tf.float32, name='X_split/38'), TensorSpec(shape=(None, 256, 1, 16), dtype=tf.float32, name='X_split/39'), TensorSpec(shape=(None, 256, 1, 16), dtype=tf.float32, name='X_split/40'), TensorSpec(shape=(None, 256, 1, 16), dtype=tf.float32, name='X_split/41'), TensorSpec(shape=(None, 256, 1, 16), dtype=tf.float32, name='X_split/42'), TensorSpec(shape=(None, 256, 1, 16), dtype=tf.float32, name='X_split/43'), TensorSpec(shape=(None, 256, 1, 16), dtype=tf.float32, name='X_split/44'), TensorSpec(shape=(None, 256, 1, 16), dtype=tf.float32, name='X_split/45'), TensorSpec(shape=(None, 256, 1, 16), dtype=tf.float32, name='X_split/46'), TensorSpec(shape=(None, 256, 1, 16), dtype=tf.float32, name='X_split/47'), TensorSpec(shape=(None, 256, 1, 16), dtype=tf.float32, name='X_split/48'), TensorSpec(shape=(None, 256, 1, 16), dtype=tf.float32, name='X_split/49'), TensorSpec(shape=(None, 256, 1, 16), dtype=tf.float32, name='X_split/50'), TensorSpec(shape=(None, 256, 1, 16), dtype=tf.float32, name='X_split/51'), TensorSpec(shape=(None, 256, 1, 16), dtype=tf.float32, name='X_split/52'), TensorSpec(shape=(None, 256, 1, 16), dtype=tf.float32, name='X_split/53'), TensorSpec(shape=(None, 256, 1, 16), dtype=tf.float32, name='X_split/54'), TensorSpec(shape=(None, 256, 1, 16), dtype=tf.float32, name='X_split/55'), TensorSpec(shape=(None, 256, 1, 16), dtype=tf.float32, name='X_split/56'), TensorSpec(shape=(None, 256, 1, 16), dtype=tf.float32, name='X_split/57'), TensorSpec(shape=(None, 256, 1, 16), dtype=tf.float32, name='X_split/58'), TensorSpec(shape=(None, 256, 1, 16), dtype=tf.float32, name='X_split/59'), TensorSpec(shape=(None, 256, 1, 16), dtype=tf.float32, name='X_split/60'), TensorSpec(shape=(None, 256, 1, 16), dtype=tf.float32, name='X_split/61'), TensorSpec(shape=(None, 256, 1, 16), dtype=tf.float32, name='X_split/62'), TensorSpec(shape=(None, 256, 1, 16), dtype=tf.float32, name='X_split/63'), TensorSpec(shape=(None, 256, 1, 16), dtype=tf.float32, name='X_split/64'), TensorSpec(shape=(None, 256, 1, 16), dtype=tf.float32, name='X_split/65'), TensorSpec(shape=(None, 256, 1, 16), dtype=tf.float32, name='X_split/66'), TensorSpec(shape=(None, 256, 1, 16), dtype=tf.float32, name='X_split/67'), TensorSpec(shape=(None, 256, 1, 16), dtype=tf.float32, name='X_split/68'), TensorSpec(shape=(None, 256, 1, 16), dtype=tf.float32, name='X_split/69'), TensorSpec(shape=(None, 256, 1, 16), dtype=tf.float32, name='X_split/70'), TensorSpec(shape=(None, 256, 1, 16), dtype=tf.float32, name='X_split/71'), TensorSpec(shape=(None, 256, 1, 16), dtype=tf.float32, name='X_split/72'), TensorSpec(shape=(None, 256, 1, 16), dtype=tf.float32, name='X_split/73'), TensorSpec(shape=(None, 256, 1, 16), dtype=tf.float32, name='X_split/74'), TensorSpec(shape=(None, 256, 1, 16), dtype=tf.float32, name='X_split/75'), TensorSpec(shape=(None, 256, 1, 16), dtype=tf.float32, name='X_split/76'), TensorSpec(shape=(None, 256, 1, 16), dtype=tf.float32, name='X_split/77'), TensorSpec(shape=(None, 256, 1, 16), dtype=tf.float32, name='X_split/78'), TensorSpec(shape=(None, 256, 1, 16), dtype=tf.float32, name='X_split/79'), TensorSpec(shape=(None, 256, 1, 16), dtype=tf.float32, name='X_split/80'), TensorSpec(shape=(None, 256, 1, 16), dtype=tf.float32, name='X_split/81'), TensorSpec(shape=(None, 256, 1, 16), dtype=tf.float32, name='X_split/82'), TensorSpec(shape=(None, 256, 1, 16), dtype=tf.float32, name='X_split/83'), TensorSpec(shape=(None, 256, 1, 16), dtype=tf.float32, name='X_split/84'), TensorSpec(shape=(None, 256, 1, 16), dtype=tf.float32, name='X_split/85'), TensorSpec(shape=(None, 256, 1, 16), dtype=tf.float32, name='X_split/86'), TensorSpec(shape=(None, 256, 1, 16), dtype=tf.float32, name='X_split/87'), TensorSpec(shape=(None, 256, 1, 16), dtype=tf.float32, name='X_split/88'), TensorSpec(shape=(None, 256, 1, 16), dtype=tf.float32, name='X_split/89'), TensorSpec(shape=(None, 256, 1, 16), dtype=tf.float32, name='X_split/90'), TensorSpec(shape=(None, 256, 1, 16), dtype=tf.float32, name='X_split/91'), TensorSpec(shape=(None, 256, 1, 16), dtype=tf.float32, name='X_split/92'), TensorSpec(shape=(None, 256, 1, 16), dtype=tf.float32, name='X_split/93'), TensorSpec(shape=(None, 256, 1, 16), dtype=tf.float32, name='X_split/94'), TensorSpec(shape=(None, 256, 1, 16), dtype=tf.float32, name='X_split/95'), TensorSpec(shape=(None, 256, 1, 16), dtype=tf.float32, name='X_split/96'), TensorSpec(shape=(None, 256, 1, 16), dtype=tf.float32, name='X_split/97'), TensorSpec(shape=(None, 256, 1, 16), dtype=tf.float32, name='X_split/98'), TensorSpec(shape=(None, 256, 1, 16), dtype=tf.float32, name='X_split/99'), TensorSpec(shape=(None, 256, 1, 16), dtype=tf.float32, name='X_split/100'), TensorSpec(shape=(None, 256, 1, 16), dtype=tf.float32, name='X_split/101'), TensorSpec(shape=(None, 256, 1, 16), dtype=tf.float32, name='X_split/102'), TensorSpec(shape=(None, 256, 1, 16), dtype=tf.float32, name='X_split/103'), TensorSpec(shape=(None, 256, 1, 16), dtype=tf.float32, name='X_split/104'), TensorSpec(shape=(None, 256, 1, 16), dtype=tf.float32, name='X_split/105'), TensorSpec(shape=(None, 256, 1, 16), dtype=tf.float32, name='X_split/106'), TensorSpec(shape=(None, 256, 1, 16), dtype=tf.float32, name='X_split/107'), TensorSpec(shape=(None, 256, 1, 16), dtype=tf.float32, name='X_split/108'), TensorSpec(shape=(None, 256, 1, 16), dtype=tf.float32, name='X_split/109'), TensorSpec(shape=(None, 256, 1, 16), dtype=tf.float32, name='X_split/110'), TensorSpec(shape=(None, 256, 1, 16), dtype=tf.float32, name='X_split/111'), TensorSpec(shape=(None, 256, 1, 16), dtype=tf.float32, name='X_split/112'), TensorSpec(shape=(None, 256, 1, 16), dtype=tf.float32, name='X_split/113'), TensorSpec(shape=(None, 256, 1, 16), dtype=tf.float32, name='X_split/114'), TensorSpec(shape=(None, 256, 1, 16), dtype=tf.float32, name='X_split/115'), TensorSpec(shape=(None, 256, 1, 16), dtype=tf.float32, name='X_split/116'), TensorSpec(shape=(None, 256, 1, 16), dtype=tf.float32, name='X_split/117'), TensorSpec(shape=(None, 256, 1, 16), dtype=tf.float32, name='X_split/118'), TensorSpec(shape=(None, 256, 1, 16), dtype=tf.float32, name='X_split/119'), TensorSpec(shape=(None, 256, 1, 16), dtype=tf.float32, name='X_split/120'), TensorSpec(shape=(None, 256, 1, 16), dtype=tf.float32, name='X_split/121'), TensorSpec(shape=(None, 256, 1, 16), dtype=tf.float32, name='X_split/122'), TensorSpec(shape=(None, 256, 1, 16), dtype=tf.float32, name='X_split/123'), TensorSpec(shape=(None, 256, 1, 16), dtype=tf.float32, name='X_split/124'), TensorSpec(shape=(None, 256, 1, 16), dtype=tf.float32, name='X_split/125'), TensorSpec(shape=(None, 256, 1, 16), dtype=tf.float32, name='X_split/126'), TensorSpec(shape=(None, 256, 1, 16), dtype=tf.float32, name='X_split/127'), TensorSpec(shape=(None, 256, 1, 16), dtype=tf.float32, name='X_split/128'), TensorSpec(shape=(None, 256, 1, 16), dtype=tf.float32, name='X_split/129'), TensorSpec(shape=(None, 256, 1, 16), dtype=tf.float32, name='X_split/130'), TensorSpec(shape=(None, 256, 1, 16), dtype=tf.float32, name='X_split/131'), TensorSpec(shape=(None, 256, 1, 16), dtype=tf.float32, name='X_split/132'), TensorSpec(shape=(None, 256, 1, 16), dtype=tf.float32, name='X_split/133'), TensorSpec(shape=(None, 256, 1, 16), dtype=tf.float32, name='X_split/134'), TensorSpec(shape=(None, 256, 1, 16), dtype=tf.float32, name='X_split/135'), TensorSpec(shape=(None, 256, 1, 16), dtype=tf.float32, name='X_split/136'), TensorSpec(shape=(None, 256, 1, 16), dtype=tf.float32, name='X_split/137'), TensorSpec(shape=(None, 256, 1, 16), dtype=tf.float32, name='X_split/138'), TensorSpec(shape=(None, 256, 1, 16), dtype=tf.float32, name='X_split/139'), TensorSpec(shape=(None, 256, 1, 16), dtype=tf.float32, name='X_split/140'), TensorSpec(shape=(None, 256, 1, 16), dtype=tf.float32, name='X_split/141'), TensorSpec(shape=(None, 256, 1, 16), dtype=tf.float32, name='X_split/142'), TensorSpec(shape=(None, 256, 1, 16), dtype=tf.float32, name='X_split/143'), TensorSpec(shape=(None, 256, 1, 16), dtype=tf.float32, name='X_split/144'), TensorSpec(shape=(None, 256, 1, 16), dtype=tf.float32, name='X_split/145'), TensorSpec(shape=(None, 256, 1, 16), dtype=tf.float32, name='X_split/146'), TensorSpec(shape=(None, 256, 1, 16), dtype=tf.float32, name='X_split/147'), TensorSpec(shape=(None, 256, 1, 16), dtype=tf.float32, name='X_split/148'), TensorSpec(shape=(None, 256, 1, 16), dtype=tf.float32, name='X_split/149'), TensorSpec(shape=(None, 256, 1, 16), dtype=tf.float32, name='X_split/150'), TensorSpec(shape=(None, 256, 1, 16), dtype=tf.float32, name='X_split/151'), TensorSpec(shape=(None, 256, 1, 16), dtype=tf.float32, name='X_split/152'), TensorSpec(shape=(None, 256, 1, 16), dtype=tf.float32, name='X_split/153'), TensorSpec(shape=(None, 256, 1, 16), dtype=tf.float32, name='X_split/154'), TensorSpec(shape=(None, 256, 1, 16), dtype=tf.float32, name='X_split/155'), TensorSpec(shape=(None, 256, 1, 16), dtype=tf.float32, name='X_split/156'), TensorSpec(shape=(None, 256, 1, 16), dtype=tf.float32, name='X_split/157'), TensorSpec(shape=(None, 256, 1, 16), dtype=tf.float32, name='X_split/158'), TensorSpec(shape=(None, 256, 1, 16), dtype=tf.float32, name='X_split/159')], 160, 2, <tensorflow.python.framework.func_graph.UnknownArgument object at 0x7f26f444a6a0>, <tensorflow.python.framework.func_graph.UnknownArgument object at 0x7f26f445bd30>), {}).\n",
      "INFO:tensorflow:Assets written to: ../results/test/cp.ckpt/assets\n",
      "1893/1893 [==============================] - 761s 402ms/step - loss: 0.8510 - acc: 0.5927 - mci_dem_sensitivity: 0.6143 - mci_dem_Specificity: 0.9189 - mci_dem_F1: 0.4278 - val_loss: 0.8656 - val_acc: 0.6378 - val_mci_dem_sensitivity: 0.5766 - val_mci_dem_Specificity: 0.8904 - val_mci_dem_F1: 0.3395\n",
      "2\n",
      "2\n",
      "2\n",
      "2\n",
      "2\n",
      "2\n",
      "2\n",
      "INFO:tensorflow:Unsupported signature for serialization: (([TensorSpec(shape=(None, 256, 1, 16), dtype=tf.float32, name='X_split/0'), TensorSpec(shape=(None, 256, 1, 16), dtype=tf.float32, name='X_split/1'), TensorSpec(shape=(None, 256, 1, 16), dtype=tf.float32, name='X_split/2'), TensorSpec(shape=(None, 256, 1, 16), dtype=tf.float32, name='X_split/3'), TensorSpec(shape=(None, 256, 1, 16), dtype=tf.float32, name='X_split/4'), TensorSpec(shape=(None, 256, 1, 16), dtype=tf.float32, name='X_split/5'), TensorSpec(shape=(None, 256, 1, 16), dtype=tf.float32, name='X_split/6'), TensorSpec(shape=(None, 256, 1, 16), dtype=tf.float32, name='X_split/7'), TensorSpec(shape=(None, 256, 1, 16), dtype=tf.float32, name='X_split/8'), TensorSpec(shape=(None, 256, 1, 16), dtype=tf.float32, name='X_split/9'), TensorSpec(shape=(None, 256, 1, 16), dtype=tf.float32, name='X_split/10'), TensorSpec(shape=(None, 256, 1, 16), dtype=tf.float32, name='X_split/11'), TensorSpec(shape=(None, 256, 1, 16), dtype=tf.float32, name='X_split/12'), TensorSpec(shape=(None, 256, 1, 16), dtype=tf.float32, name='X_split/13'), TensorSpec(shape=(None, 256, 1, 16), dtype=tf.float32, name='X_split/14'), TensorSpec(shape=(None, 256, 1, 16), dtype=tf.float32, name='X_split/15'), TensorSpec(shape=(None, 256, 1, 16), dtype=tf.float32, name='X_split/16'), TensorSpec(shape=(None, 256, 1, 16), dtype=tf.float32, name='X_split/17'), TensorSpec(shape=(None, 256, 1, 16), dtype=tf.float32, name='X_split/18'), TensorSpec(shape=(None, 256, 1, 16), dtype=tf.float32, name='X_split/19'), TensorSpec(shape=(None, 256, 1, 16), dtype=tf.float32, name='X_split/20'), TensorSpec(shape=(None, 256, 1, 16), dtype=tf.float32, name='X_split/21'), TensorSpec(shape=(None, 256, 1, 16), dtype=tf.float32, name='X_split/22'), TensorSpec(shape=(None, 256, 1, 16), dtype=tf.float32, name='X_split/23'), TensorSpec(shape=(None, 256, 1, 16), dtype=tf.float32, name='X_split/24'), TensorSpec(shape=(None, 256, 1, 16), dtype=tf.float32, name='X_split/25'), TensorSpec(shape=(None, 256, 1, 16), dtype=tf.float32, name='X_split/26'), TensorSpec(shape=(None, 256, 1, 16), dtype=tf.float32, name='X_split/27'), TensorSpec(shape=(None, 256, 1, 16), dtype=tf.float32, name='X_split/28'), TensorSpec(shape=(None, 256, 1, 16), dtype=tf.float32, name='X_split/29'), TensorSpec(shape=(None, 256, 1, 16), dtype=tf.float32, name='X_split/30'), TensorSpec(shape=(None, 256, 1, 16), dtype=tf.float32, name='X_split/31'), TensorSpec(shape=(None, 256, 1, 16), dtype=tf.float32, name='X_split/32'), TensorSpec(shape=(None, 256, 1, 16), dtype=tf.float32, name='X_split/33'), TensorSpec(shape=(None, 256, 1, 16), dtype=tf.float32, name='X_split/34'), TensorSpec(shape=(None, 256, 1, 16), dtype=tf.float32, name='X_split/35'), TensorSpec(shape=(None, 256, 1, 16), dtype=tf.float32, name='X_split/36'), TensorSpec(shape=(None, 256, 1, 16), dtype=tf.float32, name='X_split/37'), TensorSpec(shape=(None, 256, 1, 16), dtype=tf.float32, name='X_split/38'), TensorSpec(shape=(None, 256, 1, 16), dtype=tf.float32, name='X_split/39'), TensorSpec(shape=(None, 256, 1, 16), dtype=tf.float32, name='X_split/40'), TensorSpec(shape=(None, 256, 1, 16), dtype=tf.float32, name='X_split/41'), TensorSpec(shape=(None, 256, 1, 16), dtype=tf.float32, name='X_split/42'), TensorSpec(shape=(None, 256, 1, 16), dtype=tf.float32, name='X_split/43'), TensorSpec(shape=(None, 256, 1, 16), dtype=tf.float32, name='X_split/44'), TensorSpec(shape=(None, 256, 1, 16), dtype=tf.float32, name='X_split/45'), TensorSpec(shape=(None, 256, 1, 16), dtype=tf.float32, name='X_split/46'), TensorSpec(shape=(None, 256, 1, 16), dtype=tf.float32, name='X_split/47'), TensorSpec(shape=(None, 256, 1, 16), dtype=tf.float32, name='X_split/48'), TensorSpec(shape=(None, 256, 1, 16), dtype=tf.float32, name='X_split/49'), TensorSpec(shape=(None, 256, 1, 16), dtype=tf.float32, name='X_split/50'), TensorSpec(shape=(None, 256, 1, 16), dtype=tf.float32, name='X_split/51'), TensorSpec(shape=(None, 256, 1, 16), dtype=tf.float32, name='X_split/52'), TensorSpec(shape=(None, 256, 1, 16), dtype=tf.float32, name='X_split/53'), TensorSpec(shape=(None, 256, 1, 16), dtype=tf.float32, name='X_split/54'), TensorSpec(shape=(None, 256, 1, 16), dtype=tf.float32, name='X_split/55'), TensorSpec(shape=(None, 256, 1, 16), dtype=tf.float32, name='X_split/56'), TensorSpec(shape=(None, 256, 1, 16), dtype=tf.float32, name='X_split/57'), TensorSpec(shape=(None, 256, 1, 16), dtype=tf.float32, name='X_split/58'), TensorSpec(shape=(None, 256, 1, 16), dtype=tf.float32, name='X_split/59'), TensorSpec(shape=(None, 256, 1, 16), dtype=tf.float32, name='X_split/60'), TensorSpec(shape=(None, 256, 1, 16), dtype=tf.float32, name='X_split/61'), TensorSpec(shape=(None, 256, 1, 16), dtype=tf.float32, name='X_split/62'), TensorSpec(shape=(None, 256, 1, 16), dtype=tf.float32, name='X_split/63'), TensorSpec(shape=(None, 256, 1, 16), dtype=tf.float32, name='X_split/64'), TensorSpec(shape=(None, 256, 1, 16), dtype=tf.float32, name='X_split/65'), TensorSpec(shape=(None, 256, 1, 16), dtype=tf.float32, name='X_split/66'), TensorSpec(shape=(None, 256, 1, 16), dtype=tf.float32, name='X_split/67'), TensorSpec(shape=(None, 256, 1, 16), dtype=tf.float32, name='X_split/68'), TensorSpec(shape=(None, 256, 1, 16), dtype=tf.float32, name='X_split/69'), TensorSpec(shape=(None, 256, 1, 16), dtype=tf.float32, name='X_split/70'), TensorSpec(shape=(None, 256, 1, 16), dtype=tf.float32, name='X_split/71'), TensorSpec(shape=(None, 256, 1, 16), dtype=tf.float32, name='X_split/72'), TensorSpec(shape=(None, 256, 1, 16), dtype=tf.float32, name='X_split/73'), TensorSpec(shape=(None, 256, 1, 16), dtype=tf.float32, name='X_split/74'), TensorSpec(shape=(None, 256, 1, 16), dtype=tf.float32, name='X_split/75'), TensorSpec(shape=(None, 256, 1, 16), dtype=tf.float32, name='X_split/76'), TensorSpec(shape=(None, 256, 1, 16), dtype=tf.float32, name='X_split/77'), TensorSpec(shape=(None, 256, 1, 16), dtype=tf.float32, name='X_split/78'), TensorSpec(shape=(None, 256, 1, 16), dtype=tf.float32, name='X_split/79'), TensorSpec(shape=(None, 256, 1, 16), dtype=tf.float32, name='X_split/80'), TensorSpec(shape=(None, 256, 1, 16), dtype=tf.float32, name='X_split/81'), TensorSpec(shape=(None, 256, 1, 16), dtype=tf.float32, name='X_split/82'), TensorSpec(shape=(None, 256, 1, 16), dtype=tf.float32, name='X_split/83'), TensorSpec(shape=(None, 256, 1, 16), dtype=tf.float32, name='X_split/84'), TensorSpec(shape=(None, 256, 1, 16), dtype=tf.float32, name='X_split/85'), TensorSpec(shape=(None, 256, 1, 16), dtype=tf.float32, name='X_split/86'), TensorSpec(shape=(None, 256, 1, 16), dtype=tf.float32, name='X_split/87'), TensorSpec(shape=(None, 256, 1, 16), dtype=tf.float32, name='X_split/88'), TensorSpec(shape=(None, 256, 1, 16), dtype=tf.float32, name='X_split/89'), TensorSpec(shape=(None, 256, 1, 16), dtype=tf.float32, name='X_split/90'), TensorSpec(shape=(None, 256, 1, 16), dtype=tf.float32, name='X_split/91'), TensorSpec(shape=(None, 256, 1, 16), dtype=tf.float32, name='X_split/92'), TensorSpec(shape=(None, 256, 1, 16), dtype=tf.float32, name='X_split/93'), TensorSpec(shape=(None, 256, 1, 16), dtype=tf.float32, name='X_split/94'), TensorSpec(shape=(None, 256, 1, 16), dtype=tf.float32, name='X_split/95'), TensorSpec(shape=(None, 256, 1, 16), dtype=tf.float32, name='X_split/96'), TensorSpec(shape=(None, 256, 1, 16), dtype=tf.float32, name='X_split/97'), TensorSpec(shape=(None, 256, 1, 16), dtype=tf.float32, name='X_split/98'), TensorSpec(shape=(None, 256, 1, 16), dtype=tf.float32, name='X_split/99'), TensorSpec(shape=(None, 256, 1, 16), dtype=tf.float32, name='X_split/100'), TensorSpec(shape=(None, 256, 1, 16), dtype=tf.float32, name='X_split/101'), TensorSpec(shape=(None, 256, 1, 16), dtype=tf.float32, name='X_split/102'), TensorSpec(shape=(None, 256, 1, 16), dtype=tf.float32, name='X_split/103'), TensorSpec(shape=(None, 256, 1, 16), dtype=tf.float32, name='X_split/104'), TensorSpec(shape=(None, 256, 1, 16), dtype=tf.float32, name='X_split/105'), TensorSpec(shape=(None, 256, 1, 16), dtype=tf.float32, name='X_split/106'), TensorSpec(shape=(None, 256, 1, 16), dtype=tf.float32, name='X_split/107'), TensorSpec(shape=(None, 256, 1, 16), dtype=tf.float32, name='X_split/108'), TensorSpec(shape=(None, 256, 1, 16), dtype=tf.float32, name='X_split/109'), TensorSpec(shape=(None, 256, 1, 16), dtype=tf.float32, name='X_split/110'), TensorSpec(shape=(None, 256, 1, 16), dtype=tf.float32, name='X_split/111'), TensorSpec(shape=(None, 256, 1, 16), dtype=tf.float32, name='X_split/112'), TensorSpec(shape=(None, 256, 1, 16), dtype=tf.float32, name='X_split/113'), TensorSpec(shape=(None, 256, 1, 16), dtype=tf.float32, name='X_split/114'), TensorSpec(shape=(None, 256, 1, 16), dtype=tf.float32, name='X_split/115'), TensorSpec(shape=(None, 256, 1, 16), dtype=tf.float32, name='X_split/116'), TensorSpec(shape=(None, 256, 1, 16), dtype=tf.float32, name='X_split/117'), TensorSpec(shape=(None, 256, 1, 16), dtype=tf.float32, name='X_split/118'), TensorSpec(shape=(None, 256, 1, 16), dtype=tf.float32, name='X_split/119'), TensorSpec(shape=(None, 256, 1, 16), dtype=tf.float32, name='X_split/120'), TensorSpec(shape=(None, 256, 1, 16), dtype=tf.float32, name='X_split/121'), TensorSpec(shape=(None, 256, 1, 16), dtype=tf.float32, name='X_split/122'), TensorSpec(shape=(None, 256, 1, 16), dtype=tf.float32, name='X_split/123'), TensorSpec(shape=(None, 256, 1, 16), dtype=tf.float32, name='X_split/124'), TensorSpec(shape=(None, 256, 1, 16), dtype=tf.float32, name='X_split/125'), TensorSpec(shape=(None, 256, 1, 16), dtype=tf.float32, name='X_split/126'), TensorSpec(shape=(None, 256, 1, 16), dtype=tf.float32, name='X_split/127'), TensorSpec(shape=(None, 256, 1, 16), dtype=tf.float32, name='X_split/128'), TensorSpec(shape=(None, 256, 1, 16), dtype=tf.float32, name='X_split/129'), TensorSpec(shape=(None, 256, 1, 16), dtype=tf.float32, name='X_split/130'), TensorSpec(shape=(None, 256, 1, 16), dtype=tf.float32, name='X_split/131'), TensorSpec(shape=(None, 256, 1, 16), dtype=tf.float32, name='X_split/132'), TensorSpec(shape=(None, 256, 1, 16), dtype=tf.float32, name='X_split/133'), TensorSpec(shape=(None, 256, 1, 16), dtype=tf.float32, name='X_split/134'), TensorSpec(shape=(None, 256, 1, 16), dtype=tf.float32, name='X_split/135'), TensorSpec(shape=(None, 256, 1, 16), dtype=tf.float32, name='X_split/136'), TensorSpec(shape=(None, 256, 1, 16), dtype=tf.float32, name='X_split/137'), TensorSpec(shape=(None, 256, 1, 16), dtype=tf.float32, name='X_split/138'), TensorSpec(shape=(None, 256, 1, 16), dtype=tf.float32, name='X_split/139'), TensorSpec(shape=(None, 256, 1, 16), dtype=tf.float32, name='X_split/140'), TensorSpec(shape=(None, 256, 1, 16), dtype=tf.float32, name='X_split/141'), TensorSpec(shape=(None, 256, 1, 16), dtype=tf.float32, name='X_split/142'), TensorSpec(shape=(None, 256, 1, 16), dtype=tf.float32, name='X_split/143'), TensorSpec(shape=(None, 256, 1, 16), dtype=tf.float32, name='X_split/144'), TensorSpec(shape=(None, 256, 1, 16), dtype=tf.float32, name='X_split/145'), TensorSpec(shape=(None, 256, 1, 16), dtype=tf.float32, name='X_split/146'), TensorSpec(shape=(None, 256, 1, 16), dtype=tf.float32, name='X_split/147'), TensorSpec(shape=(None, 256, 1, 16), dtype=tf.float32, name='X_split/148'), TensorSpec(shape=(None, 256, 1, 16), dtype=tf.float32, name='X_split/149'), TensorSpec(shape=(None, 256, 1, 16), dtype=tf.float32, name='X_split/150'), TensorSpec(shape=(None, 256, 1, 16), dtype=tf.float32, name='X_split/151'), TensorSpec(shape=(None, 256, 1, 16), dtype=tf.float32, name='X_split/152'), TensorSpec(shape=(None, 256, 1, 16), dtype=tf.float32, name='X_split/153'), TensorSpec(shape=(None, 256, 1, 16), dtype=tf.float32, name='X_split/154'), TensorSpec(shape=(None, 256, 1, 16), dtype=tf.float32, name='X_split/155'), TensorSpec(shape=(None, 256, 1, 16), dtype=tf.float32, name='X_split/156'), TensorSpec(shape=(None, 256, 1, 16), dtype=tf.float32, name='X_split/157'), TensorSpec(shape=(None, 256, 1, 16), dtype=tf.float32, name='X_split/158'), TensorSpec(shape=(None, 256, 1, 16), dtype=tf.float32, name='X_split/159')], 160, 2, <tensorflow.python.framework.func_graph.UnknownArgument object at 0x7f26f444a6a0>, <tensorflow.python.framework.func_graph.UnknownArgument object at 0x7f26f445bd30>), {}).\n",
      "INFO:tensorflow:Unsupported signature for serialization: (([TensorSpec(shape=(None, 256, 1, 16), dtype=tf.float32, name='X_split/0'), TensorSpec(shape=(None, 256, 1, 16), dtype=tf.float32, name='X_split/1'), TensorSpec(shape=(None, 256, 1, 16), dtype=tf.float32, name='X_split/2'), TensorSpec(shape=(None, 256, 1, 16), dtype=tf.float32, name='X_split/3'), TensorSpec(shape=(None, 256, 1, 16), dtype=tf.float32, name='X_split/4'), TensorSpec(shape=(None, 256, 1, 16), dtype=tf.float32, name='X_split/5'), TensorSpec(shape=(None, 256, 1, 16), dtype=tf.float32, name='X_split/6'), TensorSpec(shape=(None, 256, 1, 16), dtype=tf.float32, name='X_split/7'), TensorSpec(shape=(None, 256, 1, 16), dtype=tf.float32, name='X_split/8'), TensorSpec(shape=(None, 256, 1, 16), dtype=tf.float32, name='X_split/9'), TensorSpec(shape=(None, 256, 1, 16), dtype=tf.float32, name='X_split/10'), TensorSpec(shape=(None, 256, 1, 16), dtype=tf.float32, name='X_split/11'), TensorSpec(shape=(None, 256, 1, 16), dtype=tf.float32, name='X_split/12'), TensorSpec(shape=(None, 256, 1, 16), dtype=tf.float32, name='X_split/13'), TensorSpec(shape=(None, 256, 1, 16), dtype=tf.float32, name='X_split/14'), TensorSpec(shape=(None, 256, 1, 16), dtype=tf.float32, name='X_split/15'), TensorSpec(shape=(None, 256, 1, 16), dtype=tf.float32, name='X_split/16'), TensorSpec(shape=(None, 256, 1, 16), dtype=tf.float32, name='X_split/17'), TensorSpec(shape=(None, 256, 1, 16), dtype=tf.float32, name='X_split/18'), TensorSpec(shape=(None, 256, 1, 16), dtype=tf.float32, name='X_split/19'), TensorSpec(shape=(None, 256, 1, 16), dtype=tf.float32, name='X_split/20'), TensorSpec(shape=(None, 256, 1, 16), dtype=tf.float32, name='X_split/21'), TensorSpec(shape=(None, 256, 1, 16), dtype=tf.float32, name='X_split/22'), TensorSpec(shape=(None, 256, 1, 16), dtype=tf.float32, name='X_split/23'), TensorSpec(shape=(None, 256, 1, 16), dtype=tf.float32, name='X_split/24'), TensorSpec(shape=(None, 256, 1, 16), dtype=tf.float32, name='X_split/25'), TensorSpec(shape=(None, 256, 1, 16), dtype=tf.float32, name='X_split/26'), TensorSpec(shape=(None, 256, 1, 16), dtype=tf.float32, name='X_split/27'), TensorSpec(shape=(None, 256, 1, 16), dtype=tf.float32, name='X_split/28'), TensorSpec(shape=(None, 256, 1, 16), dtype=tf.float32, name='X_split/29'), TensorSpec(shape=(None, 256, 1, 16), dtype=tf.float32, name='X_split/30'), TensorSpec(shape=(None, 256, 1, 16), dtype=tf.float32, name='X_split/31'), TensorSpec(shape=(None, 256, 1, 16), dtype=tf.float32, name='X_split/32'), TensorSpec(shape=(None, 256, 1, 16), dtype=tf.float32, name='X_split/33'), TensorSpec(shape=(None, 256, 1, 16), dtype=tf.float32, name='X_split/34'), TensorSpec(shape=(None, 256, 1, 16), dtype=tf.float32, name='X_split/35'), TensorSpec(shape=(None, 256, 1, 16), dtype=tf.float32, name='X_split/36'), TensorSpec(shape=(None, 256, 1, 16), dtype=tf.float32, name='X_split/37'), TensorSpec(shape=(None, 256, 1, 16), dtype=tf.float32, name='X_split/38'), TensorSpec(shape=(None, 256, 1, 16), dtype=tf.float32, name='X_split/39'), TensorSpec(shape=(None, 256, 1, 16), dtype=tf.float32, name='X_split/40'), TensorSpec(shape=(None, 256, 1, 16), dtype=tf.float32, name='X_split/41'), TensorSpec(shape=(None, 256, 1, 16), dtype=tf.float32, name='X_split/42'), TensorSpec(shape=(None, 256, 1, 16), dtype=tf.float32, name='X_split/43'), TensorSpec(shape=(None, 256, 1, 16), dtype=tf.float32, name='X_split/44'), TensorSpec(shape=(None, 256, 1, 16), dtype=tf.float32, name='X_split/45'), TensorSpec(shape=(None, 256, 1, 16), dtype=tf.float32, name='X_split/46'), TensorSpec(shape=(None, 256, 1, 16), dtype=tf.float32, name='X_split/47'), TensorSpec(shape=(None, 256, 1, 16), dtype=tf.float32, name='X_split/48'), TensorSpec(shape=(None, 256, 1, 16), dtype=tf.float32, name='X_split/49'), TensorSpec(shape=(None, 256, 1, 16), dtype=tf.float32, name='X_split/50'), TensorSpec(shape=(None, 256, 1, 16), dtype=tf.float32, name='X_split/51'), TensorSpec(shape=(None, 256, 1, 16), dtype=tf.float32, name='X_split/52'), TensorSpec(shape=(None, 256, 1, 16), dtype=tf.float32, name='X_split/53'), TensorSpec(shape=(None, 256, 1, 16), dtype=tf.float32, name='X_split/54'), TensorSpec(shape=(None, 256, 1, 16), dtype=tf.float32, name='X_split/55'), TensorSpec(shape=(None, 256, 1, 16), dtype=tf.float32, name='X_split/56'), TensorSpec(shape=(None, 256, 1, 16), dtype=tf.float32, name='X_split/57'), TensorSpec(shape=(None, 256, 1, 16), dtype=tf.float32, name='X_split/58'), TensorSpec(shape=(None, 256, 1, 16), dtype=tf.float32, name='X_split/59'), TensorSpec(shape=(None, 256, 1, 16), dtype=tf.float32, name='X_split/60'), TensorSpec(shape=(None, 256, 1, 16), dtype=tf.float32, name='X_split/61'), TensorSpec(shape=(None, 256, 1, 16), dtype=tf.float32, name='X_split/62'), TensorSpec(shape=(None, 256, 1, 16), dtype=tf.float32, name='X_split/63'), TensorSpec(shape=(None, 256, 1, 16), dtype=tf.float32, name='X_split/64'), TensorSpec(shape=(None, 256, 1, 16), dtype=tf.float32, name='X_split/65'), TensorSpec(shape=(None, 256, 1, 16), dtype=tf.float32, name='X_split/66'), TensorSpec(shape=(None, 256, 1, 16), dtype=tf.float32, name='X_split/67'), TensorSpec(shape=(None, 256, 1, 16), dtype=tf.float32, name='X_split/68'), TensorSpec(shape=(None, 256, 1, 16), dtype=tf.float32, name='X_split/69'), TensorSpec(shape=(None, 256, 1, 16), dtype=tf.float32, name='X_split/70'), TensorSpec(shape=(None, 256, 1, 16), dtype=tf.float32, name='X_split/71'), TensorSpec(shape=(None, 256, 1, 16), dtype=tf.float32, name='X_split/72'), TensorSpec(shape=(None, 256, 1, 16), dtype=tf.float32, name='X_split/73'), TensorSpec(shape=(None, 256, 1, 16), dtype=tf.float32, name='X_split/74'), TensorSpec(shape=(None, 256, 1, 16), dtype=tf.float32, name='X_split/75'), TensorSpec(shape=(None, 256, 1, 16), dtype=tf.float32, name='X_split/76'), TensorSpec(shape=(None, 256, 1, 16), dtype=tf.float32, name='X_split/77'), TensorSpec(shape=(None, 256, 1, 16), dtype=tf.float32, name='X_split/78'), TensorSpec(shape=(None, 256, 1, 16), dtype=tf.float32, name='X_split/79'), TensorSpec(shape=(None, 256, 1, 16), dtype=tf.float32, name='X_split/80'), TensorSpec(shape=(None, 256, 1, 16), dtype=tf.float32, name='X_split/81'), TensorSpec(shape=(None, 256, 1, 16), dtype=tf.float32, name='X_split/82'), TensorSpec(shape=(None, 256, 1, 16), dtype=tf.float32, name='X_split/83'), TensorSpec(shape=(None, 256, 1, 16), dtype=tf.float32, name='X_split/84'), TensorSpec(shape=(None, 256, 1, 16), dtype=tf.float32, name='X_split/85'), TensorSpec(shape=(None, 256, 1, 16), dtype=tf.float32, name='X_split/86'), TensorSpec(shape=(None, 256, 1, 16), dtype=tf.float32, name='X_split/87'), TensorSpec(shape=(None, 256, 1, 16), dtype=tf.float32, name='X_split/88'), TensorSpec(shape=(None, 256, 1, 16), dtype=tf.float32, name='X_split/89'), TensorSpec(shape=(None, 256, 1, 16), dtype=tf.float32, name='X_split/90'), TensorSpec(shape=(None, 256, 1, 16), dtype=tf.float32, name='X_split/91'), TensorSpec(shape=(None, 256, 1, 16), dtype=tf.float32, name='X_split/92'), TensorSpec(shape=(None, 256, 1, 16), dtype=tf.float32, name='X_split/93'), TensorSpec(shape=(None, 256, 1, 16), dtype=tf.float32, name='X_split/94'), TensorSpec(shape=(None, 256, 1, 16), dtype=tf.float32, name='X_split/95'), TensorSpec(shape=(None, 256, 1, 16), dtype=tf.float32, name='X_split/96'), TensorSpec(shape=(None, 256, 1, 16), dtype=tf.float32, name='X_split/97'), TensorSpec(shape=(None, 256, 1, 16), dtype=tf.float32, name='X_split/98'), TensorSpec(shape=(None, 256, 1, 16), dtype=tf.float32, name='X_split/99'), TensorSpec(shape=(None, 256, 1, 16), dtype=tf.float32, name='X_split/100'), TensorSpec(shape=(None, 256, 1, 16), dtype=tf.float32, name='X_split/101'), TensorSpec(shape=(None, 256, 1, 16), dtype=tf.float32, name='X_split/102'), TensorSpec(shape=(None, 256, 1, 16), dtype=tf.float32, name='X_split/103'), TensorSpec(shape=(None, 256, 1, 16), dtype=tf.float32, name='X_split/104'), TensorSpec(shape=(None, 256, 1, 16), dtype=tf.float32, name='X_split/105'), TensorSpec(shape=(None, 256, 1, 16), dtype=tf.float32, name='X_split/106'), TensorSpec(shape=(None, 256, 1, 16), dtype=tf.float32, name='X_split/107'), TensorSpec(shape=(None, 256, 1, 16), dtype=tf.float32, name='X_split/108'), TensorSpec(shape=(None, 256, 1, 16), dtype=tf.float32, name='X_split/109'), TensorSpec(shape=(None, 256, 1, 16), dtype=tf.float32, name='X_split/110'), TensorSpec(shape=(None, 256, 1, 16), dtype=tf.float32, name='X_split/111'), TensorSpec(shape=(None, 256, 1, 16), dtype=tf.float32, name='X_split/112'), TensorSpec(shape=(None, 256, 1, 16), dtype=tf.float32, name='X_split/113'), TensorSpec(shape=(None, 256, 1, 16), dtype=tf.float32, name='X_split/114'), TensorSpec(shape=(None, 256, 1, 16), dtype=tf.float32, name='X_split/115'), TensorSpec(shape=(None, 256, 1, 16), dtype=tf.float32, name='X_split/116'), TensorSpec(shape=(None, 256, 1, 16), dtype=tf.float32, name='X_split/117'), TensorSpec(shape=(None, 256, 1, 16), dtype=tf.float32, name='X_split/118'), TensorSpec(shape=(None, 256, 1, 16), dtype=tf.float32, name='X_split/119'), TensorSpec(shape=(None, 256, 1, 16), dtype=tf.float32, name='X_split/120'), TensorSpec(shape=(None, 256, 1, 16), dtype=tf.float32, name='X_split/121'), TensorSpec(shape=(None, 256, 1, 16), dtype=tf.float32, name='X_split/122'), TensorSpec(shape=(None, 256, 1, 16), dtype=tf.float32, name='X_split/123'), TensorSpec(shape=(None, 256, 1, 16), dtype=tf.float32, name='X_split/124'), TensorSpec(shape=(None, 256, 1, 16), dtype=tf.float32, name='X_split/125'), TensorSpec(shape=(None, 256, 1, 16), dtype=tf.float32, name='X_split/126'), TensorSpec(shape=(None, 256, 1, 16), dtype=tf.float32, name='X_split/127'), TensorSpec(shape=(None, 256, 1, 16), dtype=tf.float32, name='X_split/128'), TensorSpec(shape=(None, 256, 1, 16), dtype=tf.float32, name='X_split/129'), TensorSpec(shape=(None, 256, 1, 16), dtype=tf.float32, name='X_split/130'), TensorSpec(shape=(None, 256, 1, 16), dtype=tf.float32, name='X_split/131'), TensorSpec(shape=(None, 256, 1, 16), dtype=tf.float32, name='X_split/132'), TensorSpec(shape=(None, 256, 1, 16), dtype=tf.float32, name='X_split/133'), TensorSpec(shape=(None, 256, 1, 16), dtype=tf.float32, name='X_split/134'), TensorSpec(shape=(None, 256, 1, 16), dtype=tf.float32, name='X_split/135'), TensorSpec(shape=(None, 256, 1, 16), dtype=tf.float32, name='X_split/136'), TensorSpec(shape=(None, 256, 1, 16), dtype=tf.float32, name='X_split/137'), TensorSpec(shape=(None, 256, 1, 16), dtype=tf.float32, name='X_split/138'), TensorSpec(shape=(None, 256, 1, 16), dtype=tf.float32, name='X_split/139'), TensorSpec(shape=(None, 256, 1, 16), dtype=tf.float32, name='X_split/140'), TensorSpec(shape=(None, 256, 1, 16), dtype=tf.float32, name='X_split/141'), TensorSpec(shape=(None, 256, 1, 16), dtype=tf.float32, name='X_split/142'), TensorSpec(shape=(None, 256, 1, 16), dtype=tf.float32, name='X_split/143'), TensorSpec(shape=(None, 256, 1, 16), dtype=tf.float32, name='X_split/144'), TensorSpec(shape=(None, 256, 1, 16), dtype=tf.float32, name='X_split/145'), TensorSpec(shape=(None, 256, 1, 16), dtype=tf.float32, name='X_split/146'), TensorSpec(shape=(None, 256, 1, 16), dtype=tf.float32, name='X_split/147'), TensorSpec(shape=(None, 256, 1, 16), dtype=tf.float32, name='X_split/148'), TensorSpec(shape=(None, 256, 1, 16), dtype=tf.float32, name='X_split/149'), TensorSpec(shape=(None, 256, 1, 16), dtype=tf.float32, name='X_split/150'), TensorSpec(shape=(None, 256, 1, 16), dtype=tf.float32, name='X_split/151'), TensorSpec(shape=(None, 256, 1, 16), dtype=tf.float32, name='X_split/152'), TensorSpec(shape=(None, 256, 1, 16), dtype=tf.float32, name='X_split/153'), TensorSpec(shape=(None, 256, 1, 16), dtype=tf.float32, name='X_split/154'), TensorSpec(shape=(None, 256, 1, 16), dtype=tf.float32, name='X_split/155'), TensorSpec(shape=(None, 256, 1, 16), dtype=tf.float32, name='X_split/156'), TensorSpec(shape=(None, 256, 1, 16), dtype=tf.float32, name='X_split/157'), TensorSpec(shape=(None, 256, 1, 16), dtype=tf.float32, name='X_split/158'), TensorSpec(shape=(None, 256, 1, 16), dtype=tf.float32, name='X_split/159')], 160, 2, <tensorflow.python.framework.func_graph.UnknownArgument object at 0x7f26f444a6a0>, <tensorflow.python.framework.func_graph.UnknownArgument object at 0x7f26f445bd30>), {}).\n",
      "INFO:tensorflow:Unsupported signature for serialization: (([TensorSpec(shape=(None, 256, 1, 16), dtype=tf.float32, name='X_split/0'), TensorSpec(shape=(None, 256, 1, 16), dtype=tf.float32, name='X_split/1'), TensorSpec(shape=(None, 256, 1, 16), dtype=tf.float32, name='X_split/2'), TensorSpec(shape=(None, 256, 1, 16), dtype=tf.float32, name='X_split/3'), TensorSpec(shape=(None, 256, 1, 16), dtype=tf.float32, name='X_split/4'), TensorSpec(shape=(None, 256, 1, 16), dtype=tf.float32, name='X_split/5'), TensorSpec(shape=(None, 256, 1, 16), dtype=tf.float32, name='X_split/6'), TensorSpec(shape=(None, 256, 1, 16), dtype=tf.float32, name='X_split/7'), TensorSpec(shape=(None, 256, 1, 16), dtype=tf.float32, name='X_split/8'), TensorSpec(shape=(None, 256, 1, 16), dtype=tf.float32, name='X_split/9'), TensorSpec(shape=(None, 256, 1, 16), dtype=tf.float32, name='X_split/10'), TensorSpec(shape=(None, 256, 1, 16), dtype=tf.float32, name='X_split/11'), TensorSpec(shape=(None, 256, 1, 16), dtype=tf.float32, name='X_split/12'), TensorSpec(shape=(None, 256, 1, 16), dtype=tf.float32, name='X_split/13'), TensorSpec(shape=(None, 256, 1, 16), dtype=tf.float32, name='X_split/14'), TensorSpec(shape=(None, 256, 1, 16), dtype=tf.float32, name='X_split/15'), TensorSpec(shape=(None, 256, 1, 16), dtype=tf.float32, name='X_split/16'), TensorSpec(shape=(None, 256, 1, 16), dtype=tf.float32, name='X_split/17'), TensorSpec(shape=(None, 256, 1, 16), dtype=tf.float32, name='X_split/18'), TensorSpec(shape=(None, 256, 1, 16), dtype=tf.float32, name='X_split/19'), TensorSpec(shape=(None, 256, 1, 16), dtype=tf.float32, name='X_split/20'), TensorSpec(shape=(None, 256, 1, 16), dtype=tf.float32, name='X_split/21'), TensorSpec(shape=(None, 256, 1, 16), dtype=tf.float32, name='X_split/22'), TensorSpec(shape=(None, 256, 1, 16), dtype=tf.float32, name='X_split/23'), TensorSpec(shape=(None, 256, 1, 16), dtype=tf.float32, name='X_split/24'), TensorSpec(shape=(None, 256, 1, 16), dtype=tf.float32, name='X_split/25'), TensorSpec(shape=(None, 256, 1, 16), dtype=tf.float32, name='X_split/26'), TensorSpec(shape=(None, 256, 1, 16), dtype=tf.float32, name='X_split/27'), TensorSpec(shape=(None, 256, 1, 16), dtype=tf.float32, name='X_split/28'), TensorSpec(shape=(None, 256, 1, 16), dtype=tf.float32, name='X_split/29'), TensorSpec(shape=(None, 256, 1, 16), dtype=tf.float32, name='X_split/30'), TensorSpec(shape=(None, 256, 1, 16), dtype=tf.float32, name='X_split/31'), TensorSpec(shape=(None, 256, 1, 16), dtype=tf.float32, name='X_split/32'), TensorSpec(shape=(None, 256, 1, 16), dtype=tf.float32, name='X_split/33'), TensorSpec(shape=(None, 256, 1, 16), dtype=tf.float32, name='X_split/34'), TensorSpec(shape=(None, 256, 1, 16), dtype=tf.float32, name='X_split/35'), TensorSpec(shape=(None, 256, 1, 16), dtype=tf.float32, name='X_split/36'), TensorSpec(shape=(None, 256, 1, 16), dtype=tf.float32, name='X_split/37'), TensorSpec(shape=(None, 256, 1, 16), dtype=tf.float32, name='X_split/38'), TensorSpec(shape=(None, 256, 1, 16), dtype=tf.float32, name='X_split/39'), TensorSpec(shape=(None, 256, 1, 16), dtype=tf.float32, name='X_split/40'), TensorSpec(shape=(None, 256, 1, 16), dtype=tf.float32, name='X_split/41'), TensorSpec(shape=(None, 256, 1, 16), dtype=tf.float32, name='X_split/42'), TensorSpec(shape=(None, 256, 1, 16), dtype=tf.float32, name='X_split/43'), TensorSpec(shape=(None, 256, 1, 16), dtype=tf.float32, name='X_split/44'), TensorSpec(shape=(None, 256, 1, 16), dtype=tf.float32, name='X_split/45'), TensorSpec(shape=(None, 256, 1, 16), dtype=tf.float32, name='X_split/46'), TensorSpec(shape=(None, 256, 1, 16), dtype=tf.float32, name='X_split/47'), TensorSpec(shape=(None, 256, 1, 16), dtype=tf.float32, name='X_split/48'), TensorSpec(shape=(None, 256, 1, 16), dtype=tf.float32, name='X_split/49'), TensorSpec(shape=(None, 256, 1, 16), dtype=tf.float32, name='X_split/50'), TensorSpec(shape=(None, 256, 1, 16), dtype=tf.float32, name='X_split/51'), TensorSpec(shape=(None, 256, 1, 16), dtype=tf.float32, name='X_split/52'), TensorSpec(shape=(None, 256, 1, 16), dtype=tf.float32, name='X_split/53'), TensorSpec(shape=(None, 256, 1, 16), dtype=tf.float32, name='X_split/54'), TensorSpec(shape=(None, 256, 1, 16), dtype=tf.float32, name='X_split/55'), TensorSpec(shape=(None, 256, 1, 16), dtype=tf.float32, name='X_split/56'), TensorSpec(shape=(None, 256, 1, 16), dtype=tf.float32, name='X_split/57'), TensorSpec(shape=(None, 256, 1, 16), dtype=tf.float32, name='X_split/58'), TensorSpec(shape=(None, 256, 1, 16), dtype=tf.float32, name='X_split/59'), TensorSpec(shape=(None, 256, 1, 16), dtype=tf.float32, name='X_split/60'), TensorSpec(shape=(None, 256, 1, 16), dtype=tf.float32, name='X_split/61'), TensorSpec(shape=(None, 256, 1, 16), dtype=tf.float32, name='X_split/62'), TensorSpec(shape=(None, 256, 1, 16), dtype=tf.float32, name='X_split/63'), TensorSpec(shape=(None, 256, 1, 16), dtype=tf.float32, name='X_split/64'), TensorSpec(shape=(None, 256, 1, 16), dtype=tf.float32, name='X_split/65'), TensorSpec(shape=(None, 256, 1, 16), dtype=tf.float32, name='X_split/66'), TensorSpec(shape=(None, 256, 1, 16), dtype=tf.float32, name='X_split/67'), TensorSpec(shape=(None, 256, 1, 16), dtype=tf.float32, name='X_split/68'), TensorSpec(shape=(None, 256, 1, 16), dtype=tf.float32, name='X_split/69'), TensorSpec(shape=(None, 256, 1, 16), dtype=tf.float32, name='X_split/70'), TensorSpec(shape=(None, 256, 1, 16), dtype=tf.float32, name='X_split/71'), TensorSpec(shape=(None, 256, 1, 16), dtype=tf.float32, name='X_split/72'), TensorSpec(shape=(None, 256, 1, 16), dtype=tf.float32, name='X_split/73'), TensorSpec(shape=(None, 256, 1, 16), dtype=tf.float32, name='X_split/74'), TensorSpec(shape=(None, 256, 1, 16), dtype=tf.float32, name='X_split/75'), TensorSpec(shape=(None, 256, 1, 16), dtype=tf.float32, name='X_split/76'), TensorSpec(shape=(None, 256, 1, 16), dtype=tf.float32, name='X_split/77'), TensorSpec(shape=(None, 256, 1, 16), dtype=tf.float32, name='X_split/78'), TensorSpec(shape=(None, 256, 1, 16), dtype=tf.float32, name='X_split/79'), TensorSpec(shape=(None, 256, 1, 16), dtype=tf.float32, name='X_split/80'), TensorSpec(shape=(None, 256, 1, 16), dtype=tf.float32, name='X_split/81'), TensorSpec(shape=(None, 256, 1, 16), dtype=tf.float32, name='X_split/82'), TensorSpec(shape=(None, 256, 1, 16), dtype=tf.float32, name='X_split/83'), TensorSpec(shape=(None, 256, 1, 16), dtype=tf.float32, name='X_split/84'), TensorSpec(shape=(None, 256, 1, 16), dtype=tf.float32, name='X_split/85'), TensorSpec(shape=(None, 256, 1, 16), dtype=tf.float32, name='X_split/86'), TensorSpec(shape=(None, 256, 1, 16), dtype=tf.float32, name='X_split/87'), TensorSpec(shape=(None, 256, 1, 16), dtype=tf.float32, name='X_split/88'), TensorSpec(shape=(None, 256, 1, 16), dtype=tf.float32, name='X_split/89'), TensorSpec(shape=(None, 256, 1, 16), dtype=tf.float32, name='X_split/90'), TensorSpec(shape=(None, 256, 1, 16), dtype=tf.float32, name='X_split/91'), TensorSpec(shape=(None, 256, 1, 16), dtype=tf.float32, name='X_split/92'), TensorSpec(shape=(None, 256, 1, 16), dtype=tf.float32, name='X_split/93'), TensorSpec(shape=(None, 256, 1, 16), dtype=tf.float32, name='X_split/94'), TensorSpec(shape=(None, 256, 1, 16), dtype=tf.float32, name='X_split/95'), TensorSpec(shape=(None, 256, 1, 16), dtype=tf.float32, name='X_split/96'), TensorSpec(shape=(None, 256, 1, 16), dtype=tf.float32, name='X_split/97'), TensorSpec(shape=(None, 256, 1, 16), dtype=tf.float32, name='X_split/98'), TensorSpec(shape=(None, 256, 1, 16), dtype=tf.float32, name='X_split/99'), TensorSpec(shape=(None, 256, 1, 16), dtype=tf.float32, name='X_split/100'), TensorSpec(shape=(None, 256, 1, 16), dtype=tf.float32, name='X_split/101'), TensorSpec(shape=(None, 256, 1, 16), dtype=tf.float32, name='X_split/102'), TensorSpec(shape=(None, 256, 1, 16), dtype=tf.float32, name='X_split/103'), TensorSpec(shape=(None, 256, 1, 16), dtype=tf.float32, name='X_split/104'), TensorSpec(shape=(None, 256, 1, 16), dtype=tf.float32, name='X_split/105'), TensorSpec(shape=(None, 256, 1, 16), dtype=tf.float32, name='X_split/106'), TensorSpec(shape=(None, 256, 1, 16), dtype=tf.float32, name='X_split/107'), TensorSpec(shape=(None, 256, 1, 16), dtype=tf.float32, name='X_split/108'), TensorSpec(shape=(None, 256, 1, 16), dtype=tf.float32, name='X_split/109'), TensorSpec(shape=(None, 256, 1, 16), dtype=tf.float32, name='X_split/110'), TensorSpec(shape=(None, 256, 1, 16), dtype=tf.float32, name='X_split/111'), TensorSpec(shape=(None, 256, 1, 16), dtype=tf.float32, name='X_split/112'), TensorSpec(shape=(None, 256, 1, 16), dtype=tf.float32, name='X_split/113'), TensorSpec(shape=(None, 256, 1, 16), dtype=tf.float32, name='X_split/114'), TensorSpec(shape=(None, 256, 1, 16), dtype=tf.float32, name='X_split/115'), TensorSpec(shape=(None, 256, 1, 16), dtype=tf.float32, name='X_split/116'), TensorSpec(shape=(None, 256, 1, 16), dtype=tf.float32, name='X_split/117'), TensorSpec(shape=(None, 256, 1, 16), dtype=tf.float32, name='X_split/118'), TensorSpec(shape=(None, 256, 1, 16), dtype=tf.float32, name='X_split/119'), TensorSpec(shape=(None, 256, 1, 16), dtype=tf.float32, name='X_split/120'), TensorSpec(shape=(None, 256, 1, 16), dtype=tf.float32, name='X_split/121'), TensorSpec(shape=(None, 256, 1, 16), dtype=tf.float32, name='X_split/122'), TensorSpec(shape=(None, 256, 1, 16), dtype=tf.float32, name='X_split/123'), TensorSpec(shape=(None, 256, 1, 16), dtype=tf.float32, name='X_split/124'), TensorSpec(shape=(None, 256, 1, 16), dtype=tf.float32, name='X_split/125'), TensorSpec(shape=(None, 256, 1, 16), dtype=tf.float32, name='X_split/126'), TensorSpec(shape=(None, 256, 1, 16), dtype=tf.float32, name='X_split/127'), TensorSpec(shape=(None, 256, 1, 16), dtype=tf.float32, name='X_split/128'), TensorSpec(shape=(None, 256, 1, 16), dtype=tf.float32, name='X_split/129'), TensorSpec(shape=(None, 256, 1, 16), dtype=tf.float32, name='X_split/130'), TensorSpec(shape=(None, 256, 1, 16), dtype=tf.float32, name='X_split/131'), TensorSpec(shape=(None, 256, 1, 16), dtype=tf.float32, name='X_split/132'), TensorSpec(shape=(None, 256, 1, 16), dtype=tf.float32, name='X_split/133'), TensorSpec(shape=(None, 256, 1, 16), dtype=tf.float32, name='X_split/134'), TensorSpec(shape=(None, 256, 1, 16), dtype=tf.float32, name='X_split/135'), TensorSpec(shape=(None, 256, 1, 16), dtype=tf.float32, name='X_split/136'), TensorSpec(shape=(None, 256, 1, 16), dtype=tf.float32, name='X_split/137'), TensorSpec(shape=(None, 256, 1, 16), dtype=tf.float32, name='X_split/138'), TensorSpec(shape=(None, 256, 1, 16), dtype=tf.float32, name='X_split/139'), TensorSpec(shape=(None, 256, 1, 16), dtype=tf.float32, name='X_split/140'), TensorSpec(shape=(None, 256, 1, 16), dtype=tf.float32, name='X_split/141'), TensorSpec(shape=(None, 256, 1, 16), dtype=tf.float32, name='X_split/142'), TensorSpec(shape=(None, 256, 1, 16), dtype=tf.float32, name='X_split/143'), TensorSpec(shape=(None, 256, 1, 16), dtype=tf.float32, name='X_split/144'), TensorSpec(shape=(None, 256, 1, 16), dtype=tf.float32, name='X_split/145'), TensorSpec(shape=(None, 256, 1, 16), dtype=tf.float32, name='X_split/146'), TensorSpec(shape=(None, 256, 1, 16), dtype=tf.float32, name='X_split/147'), TensorSpec(shape=(None, 256, 1, 16), dtype=tf.float32, name='X_split/148'), TensorSpec(shape=(None, 256, 1, 16), dtype=tf.float32, name='X_split/149'), TensorSpec(shape=(None, 256, 1, 16), dtype=tf.float32, name='X_split/150'), TensorSpec(shape=(None, 256, 1, 16), dtype=tf.float32, name='X_split/151'), TensorSpec(shape=(None, 256, 1, 16), dtype=tf.float32, name='X_split/152'), TensorSpec(shape=(None, 256, 1, 16), dtype=tf.float32, name='X_split/153'), TensorSpec(shape=(None, 256, 1, 16), dtype=tf.float32, name='X_split/154'), TensorSpec(shape=(None, 256, 1, 16), dtype=tf.float32, name='X_split/155'), TensorSpec(shape=(None, 256, 1, 16), dtype=tf.float32, name='X_split/156'), TensorSpec(shape=(None, 256, 1, 16), dtype=tf.float32, name='X_split/157'), TensorSpec(shape=(None, 256, 1, 16), dtype=tf.float32, name='X_split/158'), TensorSpec(shape=(None, 256, 1, 16), dtype=tf.float32, name='X_split/159')], 160, 2, <tensorflow.python.framework.func_graph.UnknownArgument object at 0x7f26f444a6a0>, <tensorflow.python.framework.func_graph.UnknownArgument object at 0x7f26f445bd30>), {}).\n",
      "INFO:tensorflow:Assets written to: ../results/test/fold_0/model/assets\n"
     ]
    },
    {
     "ename": "NameError",
     "evalue": "name 'model' is not defined",
     "output_type": "error",
     "traceback": [
      "\u001b[0;31m---------------------------------------------------------------------------\u001b[0m",
      "\u001b[0;31mNameError\u001b[0m                                 Traceback (most recent call last)",
      "\u001b[0;32m<ipython-input-8-d9fa88c76547>\u001b[0m in \u001b[0;36m<module>\u001b[0;34m\u001b[0m\n\u001b[1;32m      2\u001b[0m     last_model = trainer.continue_training(fold,network,metrics=metrics,\n\u001b[1;32m      3\u001b[0m                                            callbacks_list=callbacks)\n\u001b[0;32m----> 4\u001b[0;31m     results = trainer.test_model(model,test_pipe,fold=fold,keep_data=True, \n\u001b[0m\u001b[1;32m      5\u001b[0m                                  data_loaded=False,iterative=False)\n\u001b[1;32m      6\u001b[0m     \u001b[0mconf_mat\u001b[0m \u001b[0;34m=\u001b[0m \u001b[0mtrainer\u001b[0m\u001b[0;34m.\u001b[0m\u001b[0mevaluate3classes\u001b[0m\u001b[0;34m(\u001b[0m\u001b[0mresults\u001b[0m\u001b[0;34m[\u001b[0m\u001b[0;36m0\u001b[0m\u001b[0;34m]\u001b[0m\u001b[0;34m,\u001b[0m\u001b[0mresults\u001b[0m\u001b[0;34m[\u001b[0m\u001b[0;36m1\u001b[0m\u001b[0;34m]\u001b[0m\u001b[0;34m,\u001b[0m\u001b[0mfold\u001b[0m\u001b[0;34m=\u001b[0m\u001b[0mfold\u001b[0m\u001b[0;34m,\u001b[0m\u001b[0mmetrics\u001b[0m\u001b[0;34m=\u001b[0m\u001b[0mmetrics\u001b[0m\u001b[0;34m[\u001b[0m\u001b[0;36m1\u001b[0m\u001b[0;34m:\u001b[0m\u001b[0;34m]\u001b[0m\u001b[0;34m)\u001b[0m\u001b[0;34m\u001b[0m\u001b[0;34m\u001b[0m\u001b[0m\n",
      "\u001b[0;31mNameError\u001b[0m: name 'model' is not defined"
     ]
    }
   ],
   "source": [
    "\n",
    "for fold in np.arange(0,5,1):\n",
    "    model = trainer.continue_training(fold,network,metrics=metrics,\n",
    "                                           callbacks_list=callbacks)\n",
    "    del model\n",
    "    test_pipe, model, feature_model = get_test_objects(fold,network)\n",
    "    results = trainer.test_model(last_model,test_pipe,fold=fold,keep_data=False, \n",
    "                                 data_loaded=False,iterative=False)\n",
    "    conf_mat = trainer.evaluate3classes(results[0],results[1],fold=fold,metrics=metrics[1:])\n",
    "    \"\"\"\n",
    "    results_features_test = trainer.test_model(feature_model,test_pipe,fold,\n",
    "                                                 keep_data=False,data_loaded=True,\n",
    "                                                 subject_group='test_subjects.json',\n",
    "                                                 iterative=False,\n",
    "                                                 make_classification=False)\n",
    "    results_features_train = trainer.test_model(feature_model,test_pipe,fold,\n",
    "                                                 keep_data=False,data_loaded=False,\n",
    "                                                 subject_group='train_subjects.json',\n",
    "                                                iterative=True,\n",
    "                                                make_classification=False)\n",
    "    \"\"\""
   ]
  },
  {
   "cell_type": "code",
   "execution_count": 34,
   "metadata": {},
   "outputs": [
    {
     "name": "stdout",
     "output_type": "stream",
     "text": [
      "{'mci': 3, 'dementia': 6, 'control': 21}\n"
     ]
    },
    {
     "name": "stderr",
     "output_type": "stream",
     "text": [
      "  0%|          | 0/30 [00:00<?, ?it/s]"
     ]
    },
    {
     "name": "stdout",
     "output_type": "stream",
     "text": [
      "\n"
     ]
    },
    {
     "name": "stderr",
     "output_type": "stream",
     "text": [
      "100%|██████████| 30/30 [00:21<00:00,  1.43it/s]\n"
     ]
    },
    {
     "name": "stdout",
     "output_type": "stream",
     "text": [
      "Exponential moving z score with alpha: 0.0005\n"
     ]
    },
    {
     "name": "stderr",
     "output_type": "stream",
     "text": [
      "100%|██████████| 30/30 [03:26<00:00,  6.88s/it]\n"
     ]
    },
    {
     "name": "stdout",
     "output_type": "stream",
     "text": [
      "| ids         |   y |   pred | site   |\n",
      "|:------------|----:|-------:|:-------|\n",
      "| control001  |   0 |      0 | A      |\n",
      "| control002  |   0 |      1 | B      |\n",
      "| control003  |   0 |      0 | A      |\n",
      "| control004  |   0 |      0 | A      |\n",
      "| control005  |   0 |      0 | A      |\n",
      "| control006  |   0 |      0 | A      |\n",
      "| control007  |   0 |      0 | A      |\n",
      "| control008  |   0 |      1 | B      |\n",
      "| control009  |   0 |      1 | B      |\n",
      "| control010  |   0 |      1 | B      |\n",
      "| control011  |   0 |      0 | A      |\n",
      "| control012  |   0 |      0 | A      |\n",
      "| control013  |   0 |      0 | A      |\n",
      "| control014  |   0 |      1 | B      |\n",
      "| control015  |   0 |      0 | A      |\n",
      "| control016  |   0 |      0 | A      |\n",
      "| control017  |   0 |      1 | B      |\n",
      "| control021  |   0 |      0 | A      |\n",
      "| control022  |   0 |      0 | A      |\n",
      "| control024  |   0 |      0 | A      |\n",
      "| control025  |   0 |      0 | A      |\n",
      "| dementia001 |   2 |      0 | A      |\n",
      "| dementia002 |   2 |      1 | B      |\n",
      "| dementia003 |   2 |      0 | A      |\n",
      "| dementia004 |   2 |      1 | B      |\n",
      "| dementia005 |   2 |      2 | A      |\n",
      "| dementia010 |   2 |      2 | A      |\n",
      "| mci001      |   1 |      1 | B      |\n",
      "| mci002      |   1 |      1 | B      |\n",
      "| mci003      |   1 |      1 | B      |\n",
      "Todo: Wrap into method\n",
      "mci_dem_sensitivity : tf.Tensor(0.5777778, shape=(), dtype=float32)\n",
      "mci_dem_Specificity : tf.Tensor(0.89105505, shape=(), dtype=float32)\n",
      "mci_dem_F1 : tf.Tensor(0.34134084, shape=(), dtype=float32)\n"
     ]
    }
   ],
   "source": [
    "\n",
    "results = trainer.test_model(last_model,test_pipe,fold=fold,keep_data=False, \n",
    "                             data_loaded=False,iterative=False)\n",
    "conf_mat = trainer.evaluate3classes(results[0],results[1],fold=fold,metrics=metrics[1:])"
   ]
  },
  {
   "cell_type": "code",
   "execution_count": null,
   "metadata": {},
   "outputs": [],
   "source": []
  }
 ],
 "metadata": {
  "accelerator": "GPU",
  "colab": {
   "collapsed_sections": [],
   "machine_shape": "hm",
   "name": "TestBioMagRecordigCondition.ipynb",
   "provenance": [
    {
     "file_id": "1UZZQRC4fchs98023p2l2Pya0k9BC47O8",
     "timestamp": 1613488495525
    },
    {
     "file_id": "16rSHFp0m66NcISX8_1iooHjPVj27EUKy",
     "timestamp": 1611826484394
    },
    {
     "file_id": "1VLK94dcSGEX1eQ_5I41jl_FC8jU8eUZW",
     "timestamp": 1608897627522
    },
    {
     "file_id": "1fxnm573RhEDrKAahcFuZE3p3tc6KNYt3",
     "timestamp": 1592946920597
    },
    {
     "file_id": "1Zorox5fLc_htQPRJATcVMfNJnmbkbUuP",
     "timestamp": 1592807800147
    },
    {
     "file_id": "1C_RGC8UOOZvOabAbGXKk_PSqEJUUw8Ay",
     "timestamp": 1591726733306
    }
   ]
  },
  "kernelspec": {
   "display_name": "Python 3",
   "language": "python",
   "name": "python3"
  },
  "language_info": {
   "codemirror_mode": {
    "name": "ipython",
    "version": 3
   },
   "file_extension": ".py",
   "mimetype": "text/x-python",
   "name": "python",
   "nbconvert_exporter": "python",
   "pygments_lexer": "ipython3",
   "version": "3.6.9"
  }
 },
 "nbformat": 4,
 "nbformat_minor": 4
}
