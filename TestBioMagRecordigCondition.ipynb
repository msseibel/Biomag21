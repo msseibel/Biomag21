{
 "cells": [
  {
   "cell_type": "code",
   "execution_count": 1,
   "metadata": {
    "colab": {
     "base_uri": "https://localhost:8080/",
     "height": 54
    },
    "executionInfo": {
     "elapsed": 28798,
     "status": "ok",
     "timestamp": 1614156233430,
     "user": {
      "displayName": "marc",
      "photoUrl": "",
      "userId": "05336137283309084315"
     },
     "user_tz": -60
    },
    "id": "W6pedaIjyzN4",
    "outputId": "d1fb32aa-e2c5-44fb-fb79-38c29fc83ff5"
   },
   "outputs": [
    {
     "data": {
      "text/plain": [
       "'/device:GPU:0'"
      ]
     },
     "execution_count": 1,
     "metadata": {},
     "output_type": "execute_result"
    }
   ],
   "source": [
    "import tensorflow as tf\n",
    "tf.test.gpu_device_name()\n"
   ]
  },
  {
   "cell_type": "code",
   "execution_count": 2,
   "metadata": {},
   "outputs": [
    {
     "name": "stdout",
     "output_type": "stream",
     "text": [
      "Tue Mar  2 22:02:11 2021       \n",
      "+-----------------------------------------------------------------------------+\n",
      "| NVIDIA-SMI 450.102.04   Driver Version: 450.102.04   CUDA Version: 11.0     |\n",
      "|-------------------------------+----------------------+----------------------+\n",
      "| GPU  Name        Persistence-M| Bus-Id        Disp.A | Volatile Uncorr. ECC |\n",
      "| Fan  Temp  Perf  Pwr:Usage/Cap|         Memory-Usage | GPU-Util  Compute M. |\n",
      "|                               |                      |               MIG M. |\n",
      "|===============================+======================+======================|\n",
      "|   0  GeForce RTX 208...  Off  | 00000000:1A:00.0 Off |                  N/A |\n",
      "| 32%   31C    P2    62W / 250W |    158MiB / 11019MiB |      0%      Default |\n",
      "|                               |                      |                  N/A |\n",
      "+-------------------------------+----------------------+----------------------+\n",
      "                                                                               \n",
      "+-----------------------------------------------------------------------------+\n",
      "| Processes:                                                                  |\n",
      "|  GPU   GI   CI        PID   Type   Process name                  GPU Memory |\n",
      "|        ID   ID                                                   Usage      |\n",
      "|=============================================================================|\n",
      "+-----------------------------------------------------------------------------+\n"
     ]
    }
   ],
   "source": [
    "!nvidia-smi"
   ]
  },
  {
   "cell_type": "code",
   "execution_count": 64,
   "metadata": {
    "collapsed": true,
    "jupyter": {
     "outputs_hidden": true
    }
   },
   "outputs": [
    {
     "name": "stdout",
     "output_type": "stream",
     "text": [
      "def tf___pairwise_add(X_split, num_channels, source_axis, mode, aggregation):\n",
      "    do_return = False\n",
      "    retval_ = ag__.UndefinedReturnValue()\n",
      "    with ag__.FunctionScope('_pairwise_add', 'fscope', ag__.ConversionOptions(recursive=True, user_requested=True, optional_features=(), internal_convert_user_code=True)) as fscope:\n",
      "        print('Tracing')\n",
      "        ag__.converted_call(tf.print, ('executing',), None, fscope)\n",
      "        max_pairwise_similarity = ag__.converted_call(tf.TensorArray, (), dict(dtype=tf.float32, size=(num_channels - 1)), fscope)\n",
      "\n",
      "        def get_state_5():\n",
      "            return (max_pairwise_similarity,)\n",
      "\n",
      "        def set_state_5(loop_vars):\n",
      "            nonlocal max_pairwise_similarity\n",
      "            (max_pairwise_similarity,) = loop_vars\n",
      "\n",
      "        def loop_body(itr):\n",
      "            nonlocal max_pairwise_similarity\n",
      "            k = itr\n",
      "\n",
      "            def get_state_1():\n",
      "                return ()\n",
      "\n",
      "            def set_state_1(loop_vars):\n",
      "                pass\n",
      "\n",
      "            def if_true_1():\n",
      "                pairwise_sim_ij = (X_split[ag__.converted_call(slice, ((k + 1), 160, 1), None, fscope)] + X_split[k])\n",
      "                return pairwise_sim_ij\n",
      "\n",
      "            def if_false_1():\n",
      "\n",
      "                def get_state():\n",
      "                    return ()\n",
      "\n",
      "                def set_state(loop_vars):\n",
      "                    pass\n",
      "\n",
      "                def if_true():\n",
      "                    right = (X_split[ag__.converted_call(slice, ((k + 1), 160, 1), None, fscope)] + X_split[k])\n",
      "                    left = (X_split[ag__.converted_call(slice, (0, (k + 1), 1), None, fscope)] + X_split[k])\n",
      "                    pairwise_sim_ij = ag__.converted_call(tf.concat, ([right, left],), dict(axis=0), fscope)\n",
      "                    return pairwise_sim_ij\n",
      "\n",
      "                def if_false():\n",
      "                    raise ValueError\n",
      "                    return pairwise_sim_ij\n",
      "                cond = (mode == 'off-diag')\n",
      "                pairwise_sim_ij = ag__.if_stmt(cond, if_true, if_false, get_state, set_state, ('pairwise_sim_ij',), ())\n",
      "                return pairwise_sim_ij\n",
      "            cond_1 = (mode == 'half')\n",
      "            pairwise_sim_ij = ag__.if_stmt(cond_1, if_true_1, if_false_1, get_state_1, set_state_1, ('pairwise_sim_ij',), ())\n",
      "\n",
      "            def get_state_4():\n",
      "                return ()\n",
      "\n",
      "            def set_state_4(loop_vars):\n",
      "                pass\n",
      "\n",
      "            def if_true_4():\n",
      "                connec = ag__.converted_call(tf.reduce_max, (pairwise_sim_ij,), dict(axis=(0, (- 2))), fscope)\n",
      "                return connec\n",
      "\n",
      "            def if_false_4():\n",
      "\n",
      "                def get_state_3():\n",
      "                    return ()\n",
      "\n",
      "                def set_state_3(loop_vars):\n",
      "                    pass\n",
      "\n",
      "                def if_true_3():\n",
      "                    connec = ag__.converted_call(tf.reduce_mean, (pairwise_sim_ij,), dict(axis=(0, (- 2))), fscope)\n",
      "                    return connec\n",
      "\n",
      "                def if_false_3():\n",
      "\n",
      "                    def get_state_2():\n",
      "                        return ()\n",
      "\n",
      "                    def set_state_2(loop_vars):\n",
      "                        pass\n",
      "\n",
      "                    def if_true_2():\n",
      "                        connec = pairwise_sim_ij\n",
      "                        return connec\n",
      "\n",
      "                    def if_false_2():\n",
      "                        raise ValueError\n",
      "                        return connec\n",
      "                    cond_2 = (aggregation == None)\n",
      "                    connec = ag__.if_stmt(cond_2, if_true_2, if_false_2, get_state_2, set_state_2, ('connec',), ())\n",
      "                    return connec\n",
      "                cond_3 = (aggregation == 'mean')\n",
      "                connec = ag__.if_stmt(cond_3, if_true_3, if_false_3, get_state_3, set_state_3, ('connec',), ())\n",
      "                return connec\n",
      "            cond_4 = (aggregation == 'max')\n",
      "            connec = ag__.if_stmt(cond_4, if_true_4, if_false_4, get_state_4, set_state_4, ('connec',), ())\n",
      "            max_pairwise_similarity = ag__.converted_call(max_pairwise_similarity.write, (k, connec), None, fscope)\n",
      "        ag__.for_stmt(ag__.converted_call(range, (num_channels,), None, fscope)[:(- 1)], None, loop_body, get_state_5, set_state_5, ('max_pairwise_similarity',), {})\n",
      "        max_pairswise_similarity = ag__.converted_call(max_pairwise_similarity.stack, (), None, fscope)\n",
      "        try:\n",
      "            do_return = True\n",
      "            retval_ = fscope.mark_return_value(ag__.converted_call(tf.transpose, (max_pairswise_similarity, [1, 2, 0, 3]), None, fscope))\n",
      "        except:\n",
      "            do_return = False\n",
      "            raise\n",
      "\n",
      "        def get_state_6():\n",
      "            return ()\n",
      "\n",
      "        def set_state_6(loop_vars):\n",
      "            pass\n",
      "\n",
      "        def if_true_5():\n",
      "            try:\n",
      "                do_return = True\n",
      "                retval_ = fscope.mark_return_value(ag__.converted_call(tf.concat, (max_pairwise_similarity,), dict(axis=source_axis), fscope))\n",
      "            except:\n",
      "                do_return = False\n",
      "                raise\n",
      "            return (do_return, retval_)\n",
      "\n",
      "        def if_false_5():\n",
      "            return (do_return, retval_)\n",
      "        cond_5 = ag__.not_(do_return)\n",
      "        (do_return, retval_) = ag__.if_stmt(cond_5, if_true_5, if_false_5, get_state_6, set_state_6, ('do_return', 'retval_'), ())\n",
      "    (do_return,)\n",
      "    return ag__.retval(retval_)\n",
      "\n"
     ]
    }
   ],
   "source": [
    "print(tf.autograph.to_code(model_zoo._pairwise_add.python_function))"
   ]
  },
  {
   "cell_type": "code",
   "execution_count": 3,
   "metadata": {
    "colab": {
     "base_uri": "https://localhost:8080/"
    },
    "executionInfo": {
     "elapsed": 37659,
     "status": "ok",
     "timestamp": 1614156242377,
     "user": {
      "displayName": "marc",
      "photoUrl": "",
      "userId": "05336137283309084315"
     },
     "user_tz": -60
    },
    "id": "Sw1lNH3ZzC7z",
    "outputId": "771c192f-925c-46ef-986f-17c2876106ca"
   },
   "outputs": [
    {
     "name": "stdout",
     "output_type": "stream",
     "text": [
      "\u001b[33mWARNING: The directory '/.cache/pip' or its parent directory is not owned or is not writable by the current user. The cache has been disabled. Check the permissions and owner of that directory. If executing pip with sudo, you may want sudo's -H flag.\u001b[0m\n",
      "Defaulting to user installation because normal site-packages is not writeable\n",
      "Requirement already satisfied: mne in /usr/local/lib/python3.6/dist-packages (0.20.5)\n",
      "Requirement already satisfied: numpy>=1.11.3 in /usr/local/lib/python3.6/dist-packages (from mne) (1.18.4)\n",
      "Requirement already satisfied: scipy>=0.17.1 in /usr/local/lib/python3.6/dist-packages (from mne) (1.4.1)\n",
      "\u001b[33mWARNING: You are using pip version 20.1; however, version 21.0.1 is available.\n",
      "You should consider upgrading via the '/usr/bin/python3 -m pip install --upgrade pip' command.\u001b[0m\n",
      "\u001b[33mWARNING: The directory '/.cache/pip' or its parent directory is not owned or is not writable by the current user. The cache has been disabled. Check the permissions and owner of that directory. If executing pip with sudo, you may want sudo's -H flag.\u001b[0m\n",
      "Defaulting to user installation because normal site-packages is not writeable\n",
      "Requirement already satisfied: tensorflow-addons in /.local/lib/python3.6/site-packages (0.12.1)\n",
      "Requirement already satisfied: typeguard>=2.7 in /.local/lib/python3.6/site-packages (from tensorflow-addons) (2.11.1)\n",
      "\u001b[33mWARNING: You are using pip version 20.1; however, version 21.0.1 is available.\n",
      "You should consider upgrading via the '/usr/bin/python3 -m pip install --upgrade pip' command.\u001b[0m\n",
      "\u001b[33mWARNING: The directory '/.cache/pip' or its parent directory is not owned or is not writable by the current user. The cache has been disabled. Check the permissions and owner of that directory. If executing pip with sudo, you may want sudo's -H flag.\u001b[0m\n",
      "Defaulting to user installation because normal site-packages is not writeable\n",
      "Requirement already satisfied: scikit-learn in /.local/lib/python3.6/site-packages (0.24.1)\n",
      "Requirement already satisfied: numpy>=1.13.3 in /usr/local/lib/python3.6/dist-packages (from scikit-learn) (1.18.4)\n",
      "Requirement already satisfied: scipy>=0.19.1 in /usr/local/lib/python3.6/dist-packages (from scikit-learn) (1.4.1)\n",
      "Requirement already satisfied: threadpoolctl>=2.0.0 in /.local/lib/python3.6/site-packages (from scikit-learn) (2.1.0)\n",
      "Requirement already satisfied: joblib>=0.11 in /.local/lib/python3.6/site-packages (from scikit-learn) (1.0.1)\n",
      "\u001b[33mWARNING: You are using pip version 20.1; however, version 21.0.1 is available.\n",
      "You should consider upgrading via the '/usr/bin/python3 -m pip install --upgrade pip' command.\u001b[0m\n",
      "\u001b[33mWARNING: The directory '/.cache/pip' or its parent directory is not owned or is not writable by the current user. The cache has been disabled. Check the permissions and owner of that directory. If executing pip with sudo, you may want sudo's -H flag.\u001b[0m\n",
      "Defaulting to user installation because normal site-packages is not writeable\n",
      "Requirement already satisfied: tqdm in /.local/lib/python3.6/site-packages (4.58.0)\n",
      "\u001b[33mWARNING: You are using pip version 20.1; however, version 21.0.1 is available.\n",
      "You should consider upgrading via the '/usr/bin/python3 -m pip install --upgrade pip' command.\u001b[0m\n"
     ]
    }
   ],
   "source": [
    "!pip install mne\n",
    "!pip install tensorflow-addons\n",
    "!pip install scikit-learn\n",
    "!pip install tqdm"
   ]
  },
  {
   "cell_type": "code",
   "execution_count": 4,
   "metadata": {
    "executionInfo": {
     "elapsed": 37658,
     "status": "ok",
     "timestamp": 1614156242379,
     "user": {
      "displayName": "marc",
      "photoUrl": "",
      "userId": "05336137283309084315"
     },
     "user_tz": -60
    },
    "id": "_wN8Nfh5GgxY"
   },
   "outputs": [],
   "source": [
    "from IPython.core.magic import register_cell_magic\n",
    "@register_cell_magic\n",
    "def run_and_save(line, cell):\n",
    "    'Run and save python code block to a file'\n",
    "    with open(line, 'wt') as fd:\n",
    "        fd.write(cell)\n",
    "    code = compile(cell, line, 'exec')\n",
    "    exec(code, globals())"
   ]
  },
  {
   "cell_type": "code",
   "execution_count": 5,
   "metadata": {
    "executionInfo": {
     "elapsed": 37656,
     "status": "ok",
     "timestamp": 1614156242380,
     "user": {
      "displayName": "marc",
      "photoUrl": "",
      "userId": "05336137283309084315"
     },
     "user_tz": -60
    },
    "id": "52losAMxJ-0N"
   },
   "outputs": [],
   "source": [
    "import os\n",
    "try:\n",
    "    networkname=\"../results/correlation1\"\n",
    "    os.makedirs(networkname)\n",
    "except:\n",
    "    print('Exists')"
   ]
  },
  {
   "cell_type": "code",
   "execution_count": 6,
   "metadata": {
    "colab": {
     "base_uri": "https://localhost:8080/"
    },
    "executionInfo": {
     "elapsed": 51133,
     "status": "ok",
     "timestamp": 1614156255874,
     "user": {
      "displayName": "marc",
      "photoUrl": "",
      "userId": "05336137283309084315"
     },
     "user_tz": -60
    },
    "id": "dsHb93Bfgppq",
    "outputId": "d83433ea-fdc0-4d20-e9fb-3a36a12d4c06"
   },
   "outputs": [
    {
     "name": "stdout",
     "output_type": "stream",
     "text": [
      "r\n",
      "calc scores updata\n",
      "r\n"
     ]
    },
    {
     "name": "stderr",
     "output_type": "stream",
     "text": [
      "/tf/TeleBrain/Biomag21/libs/utils.py:382: UserWarning: Method is deprecated us 'get_site'.\n",
      "  warnings.warn(\"Method is deprecated us 'get_site'.\")\n"
     ]
    }
   ],
   "source": [
    "%%run_and_save {networkname}/config.py\n",
    "\n",
    "import matplotlib\n",
    "from libs import GeneratorCNN\n",
    "matplotlib.interactive(False)\n",
    "from importlib import reload\n",
    "import gc\n",
    "from libs import model_zoo\n",
    "import BaseLineModel as approach\n",
    "import numpy as np\n",
    "from importlib import reload\n",
    "from libs import utils\n",
    "from libs.utils import Bunch\n",
    "from libs import Multi_Class_Metrics as mcm\n",
    "from tensorflow.keras import callbacks\n",
    "\n",
    "reload(utils)\n",
    "reload(GeneratorCNN)\n",
    "reload(model_zoo)\n",
    "network = model_zoo.ConnectivityModel#EEGNetLawhern#ConnectivityModel#SpatialTemporalMultiClass#ConnectivityModel#Channel_Decision_Small#Channel_Decision_Model#ShallowConvNetMultiClass#SpatialTemporalMultiClass#ShallowConvNetMultiClassLinear##SpatialAverageModel# ConnectivityModel#\n",
    "gc.collect()\n",
    "use_stable=True\n",
    "subjects = {'dementia':[],'control':[],'mci':[]}\n",
    "utils.get_subjects_wrt_site(subjects,30,30,'dementia')\n",
    "utils.get_subjects_wrt_site(subjects,100,100,'control')\n",
    "utils.get_subjects_wrt_site(subjects,1,15,'mci')\n",
    "subjects['dementia'].remove(27)\n",
    "\n",
    "use_stable='all'\n",
    "if use_stable=='order0':\n",
    "    channel_matches = np.load('pareto_opt_matches.npy')\n",
    "    channel_matches = utils.get_stable_channels(channel_matches,0).T#[:,44:46]\n",
    "elif use_stable=='all':\n",
    "    import json\n",
    "    with open('A_B_bestpositional_hungarian.json') as f:\n",
    "        match = json.load(f)\n",
    "    match['matching0'].pop('info')\n",
    "    channel_matches = np.array([list(match['matching0'].keys()),list(match['matching0'].values())]).astype(int)\n",
    "elif use_stable is None:\n",
    "    channel_matches = np.stack([np.arange(160),np.arange(160)])\n",
    "\n",
    "site_as_label = False\n",
    "if site_as_label:\n",
    "    num_classes = 2\n",
    "else:\n",
    "    num_classes = 3\n",
    "\n",
    "\n",
    "sensitivity_mci_dem = mcm.MultiClassRecall(num_classes=num_classes,\n",
    "                                           pos_ind=[1,2],\n",
    "                                           average='macro',\n",
    "                                           name=\"mci_dem_sensitivity\")\n",
    "specificity_mci_dem = mcm.MultiClassSpecificity(num_classes=num_classes,\n",
    "                                                pos_ind=[1,2],\n",
    "                                                average='macro',\n",
    "                                                name=\"mci_dem_Specificity\")\n",
    "f1_mci_dem = mcm.MultiClassF1(num_classes=num_classes,\n",
    "                              pos_ind=[1,2],average='macro',\n",
    "                              name=\"mci_dem_F1\")\n",
    "metrics = ['acc', sensitivity_mci_dem, specificity_mci_dem,f1_mci_dem]\n",
    "\n",
    "\n",
    "callbacks = [callbacks.EarlyStopping(patience=5,\n",
    "                                     restore_best_weights=True,\n",
    "                                     monitor=\"val_mci_dem_F1\",\n",
    "                                     mode='max',\n",
    "                                     verbose=1)]\n",
    "frame_size = utils.Bunch(value=2,unit='s')\n",
    "fs = 256\n",
    "network_params = {\n",
    "    'batch_size':8,\n",
    "    'use_bn':True,\n",
    "    'do_ratio':0.2,\n",
    "    'numTrainEpochs':15,\n",
    "    'optimizer':'adam',\n",
    "    'frame_size':frame_size,\n",
    "    'cross_subjects':True,\n",
    "    'num_classes':num_classes,\n",
    "    'n_folds':5,\n",
    "    'use_class_weights':True,\n",
    "    'workers':8,\n",
    "    'multiprocessing':False,\n",
    "    'monitor':\"val_mci_dem_F1\"\n",
    "    }\n",
    "\n",
    "data_params={\n",
    "             'standardize':'em_astd',#'ema',#'look_at_time',# look_at_time\n",
    "             'fs':fs,\n",
    "             'channel_matches':channel_matches,\n",
    "             'subjects':subjects,\n",
    "             'test_ratio':0.2,\n",
    "             'readSubjects_params':{\n",
    "                 'site_as_label':site_as_label,\n",
    "                 'l_freq':1,\n",
    "                 'h_freq':14,\n",
    "                 'frame_length':utils.time2samples(time_container=frame_size,fs=fs),\n",
    "                 'bad_samples_path':r'../cache/bad_samples'\n",
    "                 },\n",
    "            }\n",
    "# the first 80 magnetic poles contain the inner magnetic field\n",
    "SA  = np.load('SA.npy')[:,:80]\n",
    "SB  = np.load('SB.npy')[:,:80]\n",
    "pSA = np.load('pSA.npy')[:80]\n",
    "pSB = np.load('pSB.npy')[:80]\n",
    "\n",
    "# Build augmentation pipeline for Generator\n",
    "function_params = {}\n",
    "function_params['draw_random_time_frame']={\n",
    "   'frame_length':utils.time2samples(fs=data_params['fs'],time_container=network_params['frame_size']),\n",
    "   'trial_length':5*60*data_params['fs']}\n",
    "function_params['additive_correlated_noise']={'sigma_noise':5e-2}\n",
    "function_params['transform_recording_site']={'sensor_inv':[pSA,pSB],\n",
    "                                             'sensor_fwd':[SA,SB],\n",
    "                                             'map_to':'random'}\n",
    "function_params['apply_channel_matches']={'matches':data_params['channel_matches']}\n",
    "\n",
    "functions=[GeneratorCNN.draw_random_time_frame,\n",
    "           GeneratorCNN.additive_correlated_noise,\n",
    "           GeneratorCNN.transform_recording_site,\n",
    "           GeneratorCNN.apply_channel_matches\n",
    "           ]\n",
    "\n",
    "prob = {'apply_channel_matches':1.0,\n",
    "        'draw_random_time_frame':1.0,\n",
    "        'transform_recording_site':1.0,\n",
    "        'additive_correlated_noise':0.5,\n",
    "        }\n",
    "\n",
    "train_aug_pipe=GeneratorCNN.Augment_Pipeline(functions=functions,\n",
    "                                  params=function_params,\n",
    "                                  p=prob)\n",
    "func = [\n",
    "        GeneratorCNN.draw_random_time_frame,\n",
    "        GeneratorCNN.transform_recording_site,\n",
    "        GeneratorCNN.apply_channel_matches]\n",
    "p = {'transform_recording_site':1,'apply_channel_matches':1,'draw_random_time_frame':1}\n",
    "aug_params = {\n",
    "    'transform_recording_site':\n",
    "       {'map_to':'identity',\n",
    "        'sensor_inv':[pSA,pSB],\n",
    "        'sensor_fwd':[SA,SB]},\n",
    "    'apply_channel_matches':\n",
    "        {'matches':data_params['channel_matches']},\n",
    "    'draw_random_time_frame':\n",
    "        {'frame_length':utils.time2samples(fs=data_params['fs'],time_container=network_params['frame_size']),\n",
    "        'trial_length':5*60*data_params['fs']}\n",
    "        }\n",
    "valid_pipe = GeneratorCNN.Augment_Pipeline(func,aug_params,p)"
   ]
  },
  {
   "cell_type": "markdown",
   "metadata": {
    "id": "JZXNgHc5MU_K"
   },
   "source": [
    "reload(mcm)\n",
    "reload(GeneratorCNN)\n",
    "reload(approach.GeneratorCNN)\n",
    "reload(utils)\n",
    "reload(model_zoo)\n",
    "reload(approach)\n",
    "reload(approach.readSubjects)"
   ]
  },
  {
   "cell_type": "code",
   "execution_count": 7,
   "metadata": {
    "executionInfo": {
     "elapsed": 865,
     "status": "ok",
     "timestamp": 1614156896699,
     "user": {
      "displayName": "marc",
      "photoUrl": "",
      "userId": "05336137283309084315"
     },
     "user_tz": -60
    },
    "id": "5veaANQd1czo"
   },
   "outputs": [],
   "source": [
    "reload(approach)\n",
    "\n",
    "trainer = approach.RunTraining(dataDir=r'../cache/raw',\n",
    "                               train_path_info='./info',\n",
    "                               static_data_params=data_params,\n",
    "                               network_params=network_params,\n",
    "                               completeDir=networkname)"
   ]
  },
  {
   "cell_type": "code",
   "execution_count": null,
   "metadata": {
    "colab": {
     "base_uri": "https://localhost:8080/"
    },
    "executionInfo": {
     "elapsed": 976,
     "status": "ok",
     "timestamp": 1614156471891,
     "user": {
      "displayName": "marc",
      "photoUrl": "",
      "userId": "05336137283309084315"
     },
     "user_tz": -60
    },
    "id": "Uwmj6DAs2dqB",
    "outputId": "efa169fc-0888-4c00-ec8e-2e6f4d9fa19b"
   },
   "outputs": [
    {
     "name": "stdout",
     "output_type": "stream",
     "text": [
      "\n",
      "#########\n",
      "{'mci': 12, 'dementia': 22, 'control': 79}\n"
     ]
    },
    {
     "name": "stderr",
     "output_type": "stream",
     "text": [
      "/.local/lib/python3.6/site-packages/sklearn/model_selection/_split.py:668: UserWarning: The least populated class in y has only 1 members, which is less than n_splits=5.\n",
      "  % (min_groups, self.n_splits)), UserWarning)\n",
      "  0%|          | 0/113 [00:00<?, ?it/s]"
     ]
    },
    {
     "name": "stdout",
     "output_type": "stream",
     "text": [
      "\n"
     ]
    },
    {
     "name": "stderr",
     "output_type": "stream",
     "text": [
      "/tf/TeleBrain/Biomag21/libs/utils.py:382: UserWarning: Method is deprecated us 'get_site'.\n",
      "  warnings.warn(\"Method is deprecated us 'get_site'.\")\n",
      "100%|██████████| 113/113 [01:19<00:00,  1.42it/s]\n"
     ]
    },
    {
     "name": "stdout",
     "output_type": "stream",
     "text": [
      "Network has shape:  (512, 160, 1)\n",
      "2\n",
      "Tracing\n",
      "Model: \"model\"\n",
      "_________________________________________________________________\n",
      "Layer (type)                 Output Shape              Param #   \n",
      "=================================================================\n",
      "input_1 (InputLayer)         [(None, 512, 160, 1)]     0         \n",
      "_________________________________________________________________\n",
      "conv2d (Conv2D)              (None, 512, 160, 16)      576       \n",
      "_________________________________________________________________\n",
      "average_pooling2d (AveragePo (None, 256, 160, 16)      0         \n",
      "_________________________________________________________________\n",
      "pairwise_channel_add (Pairwi (None, 256, 159, 16)      0         \n",
      "_________________________________________________________________\n",
      "spatial_conv (Conv2D)        (None, 256, 1, 16)        40720     \n",
      "_________________________________________________________________\n",
      "batch_normalization (BatchNo (None, 256, 1, 16)        64        \n",
      "_________________________________________________________________\n",
      "activation (Activation)      (None, 256, 1, 16)        0         \n",
      "_________________________________________________________________\n",
      "average_pooling2d_1 (Average (None, 34, 1, 16)         0         \n",
      "_________________________________________________________________\n",
      "activation_1 (Activation)    (None, 34, 1, 16)         0         \n",
      "_________________________________________________________________\n",
      "flatten (Flatten)            (None, 544)               0         \n",
      "_________________________________________________________________\n",
      "dropout (Dropout)            (None, 544)               0         \n",
      "_________________________________________________________________\n",
      "dense (Dense)                (None, 3)                 1635      \n",
      "=================================================================\n",
      "Total params: 42,995\n",
      "Trainable params: 42,963\n",
      "Non-trainable params: 32\n",
      "_________________________________________________________________\n",
      "class_weights: \n",
      " {0: 0.4767932489451477, 1: 3.138888888888889, 2: 1.7121212121212122}\n",
      "num splits:  10\n",
      "Exponential moving z score with alpha: 0.0005\n"
     ]
    },
    {
     "name": "stderr",
     "output_type": "stream",
     "text": [
      "/.local/lib/python3.6/site-packages/sklearn/utils/validation.py:72: FutureWarning: Pass classes=[0 1 2], y=[0 0 0 0 0 0 0 0 0 0 0 0 0 0 0 0 0 0 0 0 0 0 0 0 0 0 0 0 0 0 0 0 0 0 0 0 0\n",
      " 0 0 0 0 0 0 0 0 0 0 0 0 0 0 0 0 0 0 0 0 0 0 0 0 0 0 0 0 0 0 0 0 0 0 0 0 0\n",
      " 0 0 0 0 0 2 2 2 2 2 2 2 2 2 2 2 2 2 2 2 2 2 2 2 2 2 2 1 1 1 1 1 1 1 1 1 1\n",
      " 1 1] as keyword args. From version 1.0 (renaming of 0.25) passing these as positional arguments will result in an error\n",
      "  \"will result in an error\", FutureWarning)\n"
     ]
    },
    {
     "name": "stdout",
     "output_type": "stream",
     "text": [
      "Exponential moving z score with alpha: 0.0005\n",
      "Train Patients: \n",
      " ['control18' 'control19' 'control20' 'control26' 'control27' 'control28'\n",
      " 'control29' 'control30' 'control31' 'control33' 'control34' 'control35'\n",
      " 'control36' 'control37' 'control38' 'control39' 'control40' 'control41'\n",
      " 'control42' 'control43' 'control44' 'control45' 'control46' 'control47'\n",
      " 'control48' 'control49' 'control50' 'control51' 'control52' 'control54'\n",
      " 'control55' 'control56' 'control57' 'control58' 'control59' 'control61'\n",
      " 'control62' 'control63' 'control64' 'control66' 'control67' 'control68'\n",
      " 'control69' 'control70' 'control71' 'control72' 'control73' 'control74'\n",
      " 'control75' 'control76' 'control77' 'control79' 'control80' 'control81'\n",
      " 'control82' 'control83' 'control84' 'control85' 'control86' 'control87'\n",
      " 'control88' 'control89' 'control90' 'control91' 'control92' 'control93'\n",
      " 'control94' 'control96' 'control97' 'control98' 'control99' 'dementia11'\n",
      " 'dementia13' 'dementia14' 'dementia15' 'dementia16' 'dementia17'\n",
      " 'dementia18' 'dementia19' 'dementia20' 'dementia21' 'dementia22'\n",
      " 'dementia24' 'dementia25' 'dementia28' 'dementia29' 'dementia6'\n",
      " 'dementia7' 'dementia8' 'dementia9' 'mci10' 'mci11' 'mci12' 'mci13'\n",
      " 'mci14' 'mci15' 'mci4' 'mci5' 'mci7' 'mci8' 'mci9'] \n",
      " In Total:  101\n",
      "Valid Patients: \n",
      " ['control100' 'control23' 'control32' 'control53' 'control60' 'control65'\n",
      " 'control78' 'control95' 'dementia12' 'dementia23' 'dementia26' 'mci6'] \n",
      " In Total:  12\n"
     ]
    },
    {
     "name": "stderr",
     "output_type": "stream",
     "text": [
      "/tf/TeleBrain/Biomag21/libs/GeneratorCNN.py:489: UserWarning: Make sure that the recording site is provided for each subject.\n",
      "  warnings.warn('Make sure that the recording site is provided for each subject.')\n"
     ]
    },
    {
     "name": "stdout",
     "output_type": "stream",
     "text": [
      "Epoch 1/15\n",
      "2\n",
      "2\n",
      "1893/1893 [==============================] - ETA: 0s - loss: 0.6508 - acc: 0.7130 - mci_dem_sensitivity: 0.7128 - mci_dem_Specificity: 0.9411 - mci_dem_F1: 0.55032\n",
      "2\n",
      "2\n",
      "2\n",
      "2\n",
      "2\n",
      "2\n",
      "2\n",
      "WARNING:tensorflow:From /usr/local/lib/python3.6/dist-packages/tensorflow/python/ops/resource_variable_ops.py:1817: calling BaseResourceVariable.__init__ (from tensorflow.python.ops.resource_variable_ops) with constraint is deprecated and will be removed in a future version.\n",
      "Instructions for updating:\n",
      "If using Keras pass *_constraint arguments to layers.\n",
      "INFO:tensorflow:Assets written to: ../results/correlation1/cp.ckpt/assets\n",
      "1893/1893 [==============================] - 764s 404ms/step - loss: 0.6508 - acc: 0.7130 - mci_dem_sensitivity: 0.7128 - mci_dem_Specificity: 0.9411 - mci_dem_F1: 0.5503 - val_loss: 1.8693 - val_acc: 0.3172 - val_mci_dem_sensitivity: 0.4536 - val_mci_dem_Specificity: 0.8645 - val_mci_dem_F1: 0.1418\n",
      "Epoch 2/15\n",
      "1893/1893 [==============================] - ETA: 0s - loss: 0.4345 - acc: 0.8230 - mci_dem_sensitivity: 0.8270 - mci_dem_Specificity: 0.9650 - mci_dem_F1: 0.70232\n",
      "2\n",
      "2\n",
      "2\n",
      "2\n",
      "2\n",
      "2\n",
      "INFO:tensorflow:Assets written to: ../results/correlation1/cp.ckpt/assets\n",
      "1893/1893 [==============================] - 549s 290ms/step - loss: 0.4345 - acc: 0.8230 - mci_dem_sensitivity: 0.8270 - mci_dem_Specificity: 0.9650 - mci_dem_F1: 0.7023 - val_loss: 1.7775 - val_acc: 0.3078 - val_mci_dem_sensitivity: 0.4697 - val_mci_dem_Specificity: 0.8614 - val_mci_dem_F1: 0.2372\n",
      "Epoch 3/15\n",
      "1893/1893 [==============================] - ETA: 0s - loss: 0.3643 - acc: 0.8567 - mci_dem_sensitivity: 0.8694 - mci_dem_Specificity: 0.9732 - mci_dem_F1: 0.75822\n",
      "2\n",
      "2\n",
      "2\n",
      "2\n",
      "2\n",
      "2\n",
      "INFO:tensorflow:Assets written to: ../results/correlation1/cp.ckpt/assets\n",
      "1893/1893 [==============================] - 551s 291ms/step - loss: 0.3643 - acc: 0.8567 - mci_dem_sensitivity: 0.8694 - mci_dem_Specificity: 0.9732 - mci_dem_F1: 0.7582 - val_loss: 1.3539 - val_acc: 0.4017 - val_mci_dem_sensitivity: 0.4085 - val_mci_dem_Specificity: 0.8487 - val_mci_dem_F1: 0.2479\n",
      "Epoch 4/15\n",
      "1290/1893 [===================>..........] - ETA: 2:49 - loss: 0.3336 - acc: 0.8699 - mci_dem_sensitivity: 0.8814 - mci_dem_Specificity: 0.9756 - mci_dem_F1: 0.7798"
     ]
    }
   ],
   "source": [
    "last_model = trainer.start_main(network=network,\n",
    "                                train_augment_pipeline=train_aug_pipe,\n",
    "                                valid_augment_pipeline=valid_pipe,\n",
    "                                metrics=metrics,\n",
    "                                callbacks_list=callbacks)"
   ]
  },
  {
   "cell_type": "code",
   "execution_count": 9,
   "metadata": {
    "colab": {
     "base_uri": "https://localhost:8080/"
    },
    "id": "7cHCC8DahdG6",
    "outputId": "3a90bbd9-ce8b-404d-ffe2-62576fd6a583",
    "scrolled": true
   },
   "outputs": [
    {
     "name": "stdout",
     "output_type": "stream",
     "text": [
      "{'mci': 12, 'dementia': 22, 'control': 79}\n"
     ]
    },
    {
     "name": "stderr",
     "output_type": "stream",
     "text": [
      "  0%|          | 0/113 [00:00<?, ?it/s]"
     ]
    },
    {
     "name": "stdout",
     "output_type": "stream",
     "text": [
      "\n"
     ]
    },
    {
     "name": "stderr",
     "output_type": "stream",
     "text": [
      "100%|██████████| 113/113 [01:19<00:00,  1.41it/s]\n"
     ]
    },
    {
     "name": "stdout",
     "output_type": "stream",
     "text": [
      "Network has shape:  (512, 160, 1)\n",
      "Model: \"model\"\n",
      "_________________________________________________________________\n",
      "Layer (type)                 Output Shape              Param #   \n",
      "=================================================================\n",
      "input_1 (InputLayer)         [(None, 512, 160, 1)]     0         \n",
      "_________________________________________________________________\n",
      "permute (Permute)            (None, 160, 512, 1)       0         \n",
      "_________________________________________________________________\n",
      "conv2d (Conv2D)              (None, 160, 512, 8)       512       \n",
      "_________________________________________________________________\n",
      "batch_normalization (BatchNo (None, 160, 512, 8)       32        \n",
      "_________________________________________________________________\n",
      "depthwise_conv2d (DepthwiseC (None, 1, 512, 16)        2560      \n",
      "_________________________________________________________________\n",
      "batch_normalization_1 (Batch (None, 1, 512, 16)        64        \n",
      "_________________________________________________________________\n",
      "activation (Activation)      (None, 1, 512, 16)        0         \n",
      "_________________________________________________________________\n",
      "average_pooling2d (AveragePo (None, 1, 128, 16)        0         \n",
      "_________________________________________________________________\n",
      "dropout (Dropout)            (None, 1, 128, 16)        0         \n",
      "_________________________________________________________________\n",
      "separable_conv2d (SeparableC (None, 1, 128, 16)        512       \n",
      "_________________________________________________________________\n",
      "batch_normalization_2 (Batch (None, 1, 128, 16)        64        \n",
      "_________________________________________________________________\n",
      "activation_1 (Activation)    (None, 1, 128, 16)        0         \n",
      "_________________________________________________________________\n",
      "average_pooling2d_1 (Average (None, 1, 16, 16)         0         \n",
      "_________________________________________________________________\n",
      "dropout_1 (Dropout)          (None, 1, 16, 16)         0         \n",
      "_________________________________________________________________\n",
      "flatten (Flatten)            (None, 256)               0         \n",
      "_________________________________________________________________\n",
      "dense (Dense)                (None, 3)                 771       \n",
      "_________________________________________________________________\n",
      "softmax (Activation)         (None, 3)                 0         \n",
      "=================================================================\n",
      "Total params: 4,515\n",
      "Trainable params: 4,435\n",
      "Non-trainable params: 80\n",
      "_________________________________________________________________\n"
     ]
    },
    {
     "name": "stderr",
     "output_type": "stream",
     "text": [
      "/.local/lib/python3.6/site-packages/sklearn/utils/validation.py:72: FutureWarning: Pass classes=[0 1 2], y=[0 0 0 0 0 0 0 0 0 0 0 0 0 0 0 0 0 0 0 0 0 0 0 0 0 0 0 0 0 0 0 0 0 0 0 0 0\n",
      " 0 0 0 0 0 0 0 0 0 0 0 0 0 0 0 0 0 0 0 0 0 0 0 0 0 0 0 0 0 0 0 0 0 0 0 0 0\n",
      " 0 0 0 0 0 2 2 2 2 2 2 2 2 2 2 2 2 2 2 2 2 2 2 2 2 2 2 1 1 1 1 1 1 1 1 1 1\n",
      " 1 1] as keyword args. From version 1.0 (renaming of 0.25) passing these as positional arguments will result in an error\n",
      "  \"will result in an error\", FutureWarning)\n"
     ]
    },
    {
     "name": "stdout",
     "output_type": "stream",
     "text": [
      "class_weights: \n",
      " {0: 0.4767932489451477, 1: 3.138888888888889, 2: 1.7121212121212122}\n",
      "num splits:  10\n",
      "Exponential moving z score with alpha: 0.0005\n",
      "Exponential moving z score with alpha: 0.0005\n",
      "Train Patients: \n",
      " ['control100' 'control18' 'control19' 'control20' 'control23' 'control26'\n",
      " 'control27' 'control28' 'control29' 'control30' 'control31' 'control32'\n",
      " 'control33' 'control34' 'control35' 'control36' 'control37' 'control38'\n",
      " 'control39' 'control40' 'control42' 'control43' 'control44' 'control45'\n",
      " 'control46' 'control47' 'control48' 'control49' 'control50' 'control51'\n",
      " 'control52' 'control53' 'control54' 'control55' 'control56' 'control57'\n",
      " 'control58' 'control60' 'control61' 'control63' 'control65' 'control66'\n",
      " 'control67' 'control69' 'control70' 'control71' 'control72' 'control73'\n",
      " 'control74' 'control75' 'control76' 'control77' 'control78' 'control79'\n",
      " 'control80' 'control81' 'control82' 'control83' 'control85' 'control86'\n",
      " 'control87' 'control88' 'control90' 'control91' 'control92' 'control94'\n",
      " 'control95' 'control96' 'control97' 'control98' 'control99' 'dementia11'\n",
      " 'dementia12' 'dementia13' 'dementia14' 'dementia15' 'dementia16'\n",
      " 'dementia17' 'dementia18' 'dementia19' 'dementia21' 'dementia22'\n",
      " 'dementia23' 'dementia24' 'dementia25' 'dementia26' 'dementia28'\n",
      " 'dementia29' 'dementia7' 'dementia9' 'mci10' 'mci11' 'mci12' 'mci13'\n",
      " 'mci14' 'mci15' 'mci4' 'mci5' 'mci7' 'mci8' 'mci9'] \n",
      " In Total:  101\n",
      "Valid Patients: \n",
      " ['control41' 'control59' 'control62' 'control64' 'control68' 'control84'\n",
      " 'control89' 'control93' 'dementia20' 'dementia6' 'dementia8' 'mci6'] \n",
      " In Total:  12\n"
     ]
    },
    {
     "name": "stderr",
     "output_type": "stream",
     "text": [
      "/tf/TeleBrain/Biomag21/libs/GeneratorCNN.py:489: UserWarning: Make sure that the recording site is provided for each subject.\n",
      "  warnings.warn('Make sure that the recording site is provided for each subject.')\n"
     ]
    },
    {
     "name": "stdout",
     "output_type": "stream",
     "text": [
      "Epoch 1/15\n",
      " 641/1893 [=========>....................] - ETA: 11:06 - loss: 0.9803 - acc: 0.5137 - mci_dem_sensitivity: 0.4488 - mci_dem_Specificity: 0.8860 - mci_dem_F1: 0.2660"
     ]
    },
    {
     "ename": "KeyboardInterrupt",
     "evalue": "",
     "output_type": "error",
     "traceback": [
      "\u001b[0;31m---------------------------------------------------------------------------\u001b[0m",
      "\u001b[0;31mKeyboardInterrupt\u001b[0m                         Traceback (most recent call last)",
      "\u001b[0;32m<ipython-input-9-47e9649b762e>\u001b[0m in \u001b[0;36m<module>\u001b[0;34m\u001b[0m\n\u001b[1;32m      1\u001b[0m \u001b[0mfold\u001b[0m \u001b[0;34m=\u001b[0m \u001b[0;36m0\u001b[0m\u001b[0;34m\u001b[0m\u001b[0;34m\u001b[0m\u001b[0m\n\u001b[1;32m      2\u001b[0m last_model = trainer.continue_training(fold,network,metrics=metrics,\n\u001b[0;32m----> 3\u001b[0;31m                                        callbacks_list=callbacks)\n\u001b[0m",
      "\u001b[0;32m~tf/TeleBrain/Biomag21/BaseLineModel.py\u001b[0m in \u001b[0;36mcontinue_training\u001b[0;34m(self, fold, network, metrics, callbacks_list)\u001b[0m\n\u001b[1;32m    453\u001b[0m                                    \u001b[0mcare_memory\u001b[0m\u001b[0;34m=\u001b[0m\u001b[0;32mFalse\u001b[0m\u001b[0;34m,\u001b[0m\u001b[0;34m\u001b[0m\u001b[0;34m\u001b[0m\u001b[0m\n\u001b[1;32m    454\u001b[0m                                    \u001b[0mvalid_augment_pipeline\u001b[0m\u001b[0;34m=\u001b[0m\u001b[0mvalid_augment_pipeline\u001b[0m\u001b[0;34m,\u001b[0m\u001b[0;34m\u001b[0m\u001b[0;34m\u001b[0m\u001b[0m\n\u001b[0;32m--> 455\u001b[0;31m                                    callbacks_list=callbacks_list)\n\u001b[0m\u001b[1;32m    456\u001b[0m         \u001b[0;31m# Save Model\u001b[0m\u001b[0;34m\u001b[0m\u001b[0;34m\u001b[0m\u001b[0;34m\u001b[0m\u001b[0m\n\u001b[1;32m    457\u001b[0m         \u001b[0mmodel\u001b[0m\u001b[0;34m.\u001b[0m\u001b[0msave\u001b[0m\u001b[0;34m(\u001b[0m\u001b[0mos\u001b[0m\u001b[0;34m.\u001b[0m\u001b[0mpath\u001b[0m\u001b[0;34m.\u001b[0m\u001b[0mjoin\u001b[0m\u001b[0;34m(\u001b[0m\u001b[0mresults_directory\u001b[0m\u001b[0;34m,\u001b[0m\u001b[0;34m'model'\u001b[0m\u001b[0;34m)\u001b[0m\u001b[0;34m)\u001b[0m\u001b[0;34m\u001b[0m\u001b[0;34m\u001b[0m\u001b[0m\n",
      "\u001b[0;32m~tf/TeleBrain/Biomag21/BaseLineModel.py\u001b[0m in \u001b[0;36mstartTrainFold\u001b[0;34m(self, model, subjects_train_valid, train_augment_pipeline, care_memory, valid_augment_pipeline, callbacks_list)\u001b[0m\n\u001b[1;32m    244\u001b[0m                 \u001b[0mworkers\u001b[0m\u001b[0;34m=\u001b[0m\u001b[0mself\u001b[0m\u001b[0;34m.\u001b[0m\u001b[0mnetwork_params\u001b[0m\u001b[0;34m[\u001b[0m\u001b[0;34m'workers'\u001b[0m\u001b[0;34m]\u001b[0m\u001b[0;34m,\u001b[0m\u001b[0;34m\u001b[0m\u001b[0;34m\u001b[0m\u001b[0m\n\u001b[1;32m    245\u001b[0m                 \u001b[0muse_multiprocessing\u001b[0m\u001b[0;34m=\u001b[0m\u001b[0mself\u001b[0m\u001b[0;34m.\u001b[0m\u001b[0mnetwork_params\u001b[0m\u001b[0;34m[\u001b[0m\u001b[0;34m'multiprocessing'\u001b[0m\u001b[0;34m]\u001b[0m\u001b[0;34m,\u001b[0m\u001b[0;34m\u001b[0m\u001b[0;34m\u001b[0m\u001b[0m\n\u001b[0;32m--> 246\u001b[0;31m                 max_queue_size=20)\n\u001b[0m\u001b[1;32m    247\u001b[0m         \u001b[0mmodel\u001b[0m \u001b[0;34m=\u001b[0m \u001b[0mkeras\u001b[0m\u001b[0;34m.\u001b[0m\u001b[0mmodels\u001b[0m\u001b[0;34m.\u001b[0m\u001b[0mload_model\u001b[0m\u001b[0;34m(\u001b[0m\u001b[0mos\u001b[0m\u001b[0;34m.\u001b[0m\u001b[0mpath\u001b[0m\u001b[0;34m.\u001b[0m\u001b[0mjoin\u001b[0m\u001b[0;34m(\u001b[0m\u001b[0mself\u001b[0m\u001b[0;34m.\u001b[0m\u001b[0mcompleteDir\u001b[0m\u001b[0;34m,\u001b[0m\u001b[0;34m'cp.ckpt'\u001b[0m\u001b[0;34m)\u001b[0m\u001b[0;34m,\u001b[0m\u001b[0mcompile\u001b[0m\u001b[0;34m=\u001b[0m\u001b[0;32mFalse\u001b[0m\u001b[0;34m)\u001b[0m\u001b[0;34m\u001b[0m\u001b[0;34m\u001b[0m\u001b[0m\n\u001b[1;32m    248\u001b[0m         \u001b[0;32mreturn\u001b[0m \u001b[0mmodel\u001b[0m\u001b[0;34m\u001b[0m\u001b[0;34m\u001b[0m\u001b[0m\n",
      "\u001b[0;32m~usr/local/lib/python3.6/dist-packages/tensorflow/python/keras/engine/training.py\u001b[0m in \u001b[0;36m_method_wrapper\u001b[0;34m(self, *args, **kwargs)\u001b[0m\n\u001b[1;32m     64\u001b[0m   \u001b[0;32mdef\u001b[0m \u001b[0m_method_wrapper\u001b[0m\u001b[0;34m(\u001b[0m\u001b[0mself\u001b[0m\u001b[0;34m,\u001b[0m \u001b[0;34m*\u001b[0m\u001b[0margs\u001b[0m\u001b[0;34m,\u001b[0m \u001b[0;34m**\u001b[0m\u001b[0mkwargs\u001b[0m\u001b[0;34m)\u001b[0m\u001b[0;34m:\u001b[0m\u001b[0;34m\u001b[0m\u001b[0;34m\u001b[0m\u001b[0m\n\u001b[1;32m     65\u001b[0m     \u001b[0;32mif\u001b[0m \u001b[0;32mnot\u001b[0m \u001b[0mself\u001b[0m\u001b[0;34m.\u001b[0m\u001b[0m_in_multi_worker_mode\u001b[0m\u001b[0;34m(\u001b[0m\u001b[0;34m)\u001b[0m\u001b[0;34m:\u001b[0m  \u001b[0;31m# pylint: disable=protected-access\u001b[0m\u001b[0;34m\u001b[0m\u001b[0;34m\u001b[0m\u001b[0m\n\u001b[0;32m---> 66\u001b[0;31m       \u001b[0;32mreturn\u001b[0m \u001b[0mmethod\u001b[0m\u001b[0;34m(\u001b[0m\u001b[0mself\u001b[0m\u001b[0;34m,\u001b[0m \u001b[0;34m*\u001b[0m\u001b[0margs\u001b[0m\u001b[0;34m,\u001b[0m \u001b[0;34m**\u001b[0m\u001b[0mkwargs\u001b[0m\u001b[0;34m)\u001b[0m\u001b[0;34m\u001b[0m\u001b[0;34m\u001b[0m\u001b[0m\n\u001b[0m\u001b[1;32m     67\u001b[0m \u001b[0;34m\u001b[0m\u001b[0m\n\u001b[1;32m     68\u001b[0m     \u001b[0;31m# Running inside `run_distribute_coordinator` already.\u001b[0m\u001b[0;34m\u001b[0m\u001b[0;34m\u001b[0m\u001b[0;34m\u001b[0m\u001b[0m\n",
      "\u001b[0;32m~usr/local/lib/python3.6/dist-packages/tensorflow/python/keras/engine/training.py\u001b[0m in \u001b[0;36mfit\u001b[0;34m(self, x, y, batch_size, epochs, verbose, callbacks, validation_split, validation_data, shuffle, class_weight, sample_weight, initial_epoch, steps_per_epoch, validation_steps, validation_batch_size, validation_freq, max_queue_size, workers, use_multiprocessing)\u001b[0m\n\u001b[1;32m    846\u001b[0m                 batch_size=batch_size):\n\u001b[1;32m    847\u001b[0m               \u001b[0mcallbacks\u001b[0m\u001b[0;34m.\u001b[0m\u001b[0mon_train_batch_begin\u001b[0m\u001b[0;34m(\u001b[0m\u001b[0mstep\u001b[0m\u001b[0;34m)\u001b[0m\u001b[0;34m\u001b[0m\u001b[0;34m\u001b[0m\u001b[0m\n\u001b[0;32m--> 848\u001b[0;31m               \u001b[0mtmp_logs\u001b[0m \u001b[0;34m=\u001b[0m \u001b[0mtrain_function\u001b[0m\u001b[0;34m(\u001b[0m\u001b[0miterator\u001b[0m\u001b[0;34m)\u001b[0m\u001b[0;34m\u001b[0m\u001b[0;34m\u001b[0m\u001b[0m\n\u001b[0m\u001b[1;32m    849\u001b[0m               \u001b[0;31m# Catch OutOfRangeError for Datasets of unknown size.\u001b[0m\u001b[0;34m\u001b[0m\u001b[0;34m\u001b[0m\u001b[0;34m\u001b[0m\u001b[0m\n\u001b[1;32m    850\u001b[0m               \u001b[0;31m# This blocks until the batch has finished executing.\u001b[0m\u001b[0;34m\u001b[0m\u001b[0;34m\u001b[0m\u001b[0;34m\u001b[0m\u001b[0m\n",
      "\u001b[0;32m~usr/local/lib/python3.6/dist-packages/tensorflow/python/eager/def_function.py\u001b[0m in \u001b[0;36m__call__\u001b[0;34m(self, *args, **kwds)\u001b[0m\n\u001b[1;32m    578\u001b[0m         \u001b[0mxla_context\u001b[0m\u001b[0;34m.\u001b[0m\u001b[0mExit\u001b[0m\u001b[0;34m(\u001b[0m\u001b[0;34m)\u001b[0m\u001b[0;34m\u001b[0m\u001b[0;34m\u001b[0m\u001b[0m\n\u001b[1;32m    579\u001b[0m     \u001b[0;32melse\u001b[0m\u001b[0;34m:\u001b[0m\u001b[0;34m\u001b[0m\u001b[0;34m\u001b[0m\u001b[0m\n\u001b[0;32m--> 580\u001b[0;31m       \u001b[0mresult\u001b[0m \u001b[0;34m=\u001b[0m \u001b[0mself\u001b[0m\u001b[0;34m.\u001b[0m\u001b[0m_call\u001b[0m\u001b[0;34m(\u001b[0m\u001b[0;34m*\u001b[0m\u001b[0margs\u001b[0m\u001b[0;34m,\u001b[0m \u001b[0;34m**\u001b[0m\u001b[0mkwds\u001b[0m\u001b[0;34m)\u001b[0m\u001b[0;34m\u001b[0m\u001b[0;34m\u001b[0m\u001b[0m\n\u001b[0m\u001b[1;32m    581\u001b[0m \u001b[0;34m\u001b[0m\u001b[0m\n\u001b[1;32m    582\u001b[0m     \u001b[0;32mif\u001b[0m \u001b[0mtracing_count\u001b[0m \u001b[0;34m==\u001b[0m \u001b[0mself\u001b[0m\u001b[0;34m.\u001b[0m\u001b[0m_get_tracing_count\u001b[0m\u001b[0;34m(\u001b[0m\u001b[0;34m)\u001b[0m\u001b[0;34m:\u001b[0m\u001b[0;34m\u001b[0m\u001b[0;34m\u001b[0m\u001b[0m\n",
      "\u001b[0;32m~usr/local/lib/python3.6/dist-packages/tensorflow/python/eager/def_function.py\u001b[0m in \u001b[0;36m_call\u001b[0;34m(self, *args, **kwds)\u001b[0m\n\u001b[1;32m    609\u001b[0m       \u001b[0;31m# In this case we have created variables on the first call, so we run the\u001b[0m\u001b[0;34m\u001b[0m\u001b[0;34m\u001b[0m\u001b[0;34m\u001b[0m\u001b[0m\n\u001b[1;32m    610\u001b[0m       \u001b[0;31m# defunned version which is guaranteed to never create variables.\u001b[0m\u001b[0;34m\u001b[0m\u001b[0;34m\u001b[0m\u001b[0;34m\u001b[0m\u001b[0m\n\u001b[0;32m--> 611\u001b[0;31m       \u001b[0;32mreturn\u001b[0m \u001b[0mself\u001b[0m\u001b[0;34m.\u001b[0m\u001b[0m_stateless_fn\u001b[0m\u001b[0;34m(\u001b[0m\u001b[0;34m*\u001b[0m\u001b[0margs\u001b[0m\u001b[0;34m,\u001b[0m \u001b[0;34m**\u001b[0m\u001b[0mkwds\u001b[0m\u001b[0;34m)\u001b[0m  \u001b[0;31m# pylint: disable=not-callable\u001b[0m\u001b[0;34m\u001b[0m\u001b[0;34m\u001b[0m\u001b[0m\n\u001b[0m\u001b[1;32m    612\u001b[0m     \u001b[0;32melif\u001b[0m \u001b[0mself\u001b[0m\u001b[0;34m.\u001b[0m\u001b[0m_stateful_fn\u001b[0m \u001b[0;32mis\u001b[0m \u001b[0;32mnot\u001b[0m \u001b[0;32mNone\u001b[0m\u001b[0;34m:\u001b[0m\u001b[0;34m\u001b[0m\u001b[0;34m\u001b[0m\u001b[0m\n\u001b[1;32m    613\u001b[0m       \u001b[0;31m# Release the lock early so that multiple threads can perform the call\u001b[0m\u001b[0;34m\u001b[0m\u001b[0;34m\u001b[0m\u001b[0;34m\u001b[0m\u001b[0m\n",
      "\u001b[0;32m~usr/local/lib/python3.6/dist-packages/tensorflow/python/eager/function.py\u001b[0m in \u001b[0;36m__call__\u001b[0;34m(self, *args, **kwargs)\u001b[0m\n\u001b[1;32m   2418\u001b[0m     \u001b[0;32mwith\u001b[0m \u001b[0mself\u001b[0m\u001b[0;34m.\u001b[0m\u001b[0m_lock\u001b[0m\u001b[0;34m:\u001b[0m\u001b[0;34m\u001b[0m\u001b[0;34m\u001b[0m\u001b[0m\n\u001b[1;32m   2419\u001b[0m       \u001b[0mgraph_function\u001b[0m\u001b[0;34m,\u001b[0m \u001b[0margs\u001b[0m\u001b[0;34m,\u001b[0m \u001b[0mkwargs\u001b[0m \u001b[0;34m=\u001b[0m \u001b[0mself\u001b[0m\u001b[0;34m.\u001b[0m\u001b[0m_maybe_define_function\u001b[0m\u001b[0;34m(\u001b[0m\u001b[0margs\u001b[0m\u001b[0;34m,\u001b[0m \u001b[0mkwargs\u001b[0m\u001b[0;34m)\u001b[0m\u001b[0;34m\u001b[0m\u001b[0;34m\u001b[0m\u001b[0m\n\u001b[0;32m-> 2420\u001b[0;31m     \u001b[0;32mreturn\u001b[0m \u001b[0mgraph_function\u001b[0m\u001b[0;34m.\u001b[0m\u001b[0m_filtered_call\u001b[0m\u001b[0;34m(\u001b[0m\u001b[0margs\u001b[0m\u001b[0;34m,\u001b[0m \u001b[0mkwargs\u001b[0m\u001b[0;34m)\u001b[0m  \u001b[0;31m# pylint: disable=protected-access\u001b[0m\u001b[0;34m\u001b[0m\u001b[0;34m\u001b[0m\u001b[0m\n\u001b[0m\u001b[1;32m   2421\u001b[0m \u001b[0;34m\u001b[0m\u001b[0m\n\u001b[1;32m   2422\u001b[0m   \u001b[0;34m@\u001b[0m\u001b[0mproperty\u001b[0m\u001b[0;34m\u001b[0m\u001b[0;34m\u001b[0m\u001b[0m\n",
      "\u001b[0;32m~usr/local/lib/python3.6/dist-packages/tensorflow/python/eager/function.py\u001b[0m in \u001b[0;36m_filtered_call\u001b[0;34m(self, args, kwargs)\u001b[0m\n\u001b[1;32m   1663\u001b[0m          if isinstance(t, (ops.Tensor,\n\u001b[1;32m   1664\u001b[0m                            resource_variable_ops.BaseResourceVariable))),\n\u001b[0;32m-> 1665\u001b[0;31m         self.captured_inputs)\n\u001b[0m\u001b[1;32m   1666\u001b[0m \u001b[0;34m\u001b[0m\u001b[0m\n\u001b[1;32m   1667\u001b[0m   \u001b[0;32mdef\u001b[0m \u001b[0m_call_flat\u001b[0m\u001b[0;34m(\u001b[0m\u001b[0mself\u001b[0m\u001b[0;34m,\u001b[0m \u001b[0margs\u001b[0m\u001b[0;34m,\u001b[0m \u001b[0mcaptured_inputs\u001b[0m\u001b[0;34m,\u001b[0m \u001b[0mcancellation_manager\u001b[0m\u001b[0;34m=\u001b[0m\u001b[0;32mNone\u001b[0m\u001b[0;34m)\u001b[0m\u001b[0;34m:\u001b[0m\u001b[0;34m\u001b[0m\u001b[0;34m\u001b[0m\u001b[0m\n",
      "\u001b[0;32m~usr/local/lib/python3.6/dist-packages/tensorflow/python/eager/function.py\u001b[0m in \u001b[0;36m_call_flat\u001b[0;34m(self, args, captured_inputs, cancellation_manager)\u001b[0m\n\u001b[1;32m   1744\u001b[0m       \u001b[0;31m# No tape is watching; skip to running the function.\u001b[0m\u001b[0;34m\u001b[0m\u001b[0;34m\u001b[0m\u001b[0;34m\u001b[0m\u001b[0m\n\u001b[1;32m   1745\u001b[0m       return self._build_call_outputs(self._inference_function.call(\n\u001b[0;32m-> 1746\u001b[0;31m           ctx, args, cancellation_manager=cancellation_manager))\n\u001b[0m\u001b[1;32m   1747\u001b[0m     forward_backward = self._select_forward_and_backward_functions(\n\u001b[1;32m   1748\u001b[0m         \u001b[0margs\u001b[0m\u001b[0;34m,\u001b[0m\u001b[0;34m\u001b[0m\u001b[0;34m\u001b[0m\u001b[0m\n",
      "\u001b[0;32m~usr/local/lib/python3.6/dist-packages/tensorflow/python/eager/function.py\u001b[0m in \u001b[0;36mcall\u001b[0;34m(self, ctx, args, cancellation_manager)\u001b[0m\n\u001b[1;32m    596\u001b[0m               \u001b[0minputs\u001b[0m\u001b[0;34m=\u001b[0m\u001b[0margs\u001b[0m\u001b[0;34m,\u001b[0m\u001b[0;34m\u001b[0m\u001b[0;34m\u001b[0m\u001b[0m\n\u001b[1;32m    597\u001b[0m               \u001b[0mattrs\u001b[0m\u001b[0;34m=\u001b[0m\u001b[0mattrs\u001b[0m\u001b[0;34m,\u001b[0m\u001b[0;34m\u001b[0m\u001b[0;34m\u001b[0m\u001b[0m\n\u001b[0;32m--> 598\u001b[0;31m               ctx=ctx)\n\u001b[0m\u001b[1;32m    599\u001b[0m         \u001b[0;32melse\u001b[0m\u001b[0;34m:\u001b[0m\u001b[0;34m\u001b[0m\u001b[0;34m\u001b[0m\u001b[0m\n\u001b[1;32m    600\u001b[0m           outputs = execute.execute_with_cancellation(\n",
      "\u001b[0;32m~usr/local/lib/python3.6/dist-packages/tensorflow/python/eager/execute.py\u001b[0m in \u001b[0;36mquick_execute\u001b[0;34m(op_name, num_outputs, inputs, attrs, ctx, name)\u001b[0m\n\u001b[1;32m     58\u001b[0m     \u001b[0mctx\u001b[0m\u001b[0;34m.\u001b[0m\u001b[0mensure_initialized\u001b[0m\u001b[0;34m(\u001b[0m\u001b[0;34m)\u001b[0m\u001b[0;34m\u001b[0m\u001b[0;34m\u001b[0m\u001b[0m\n\u001b[1;32m     59\u001b[0m     tensors = pywrap_tfe.TFE_Py_Execute(ctx._handle, device_name, op_name,\n\u001b[0;32m---> 60\u001b[0;31m                                         inputs, attrs, num_outputs)\n\u001b[0m\u001b[1;32m     61\u001b[0m   \u001b[0;32mexcept\u001b[0m \u001b[0mcore\u001b[0m\u001b[0;34m.\u001b[0m\u001b[0m_NotOkStatusException\u001b[0m \u001b[0;32mas\u001b[0m \u001b[0me\u001b[0m\u001b[0;34m:\u001b[0m\u001b[0;34m\u001b[0m\u001b[0;34m\u001b[0m\u001b[0m\n\u001b[1;32m     62\u001b[0m     \u001b[0;32mif\u001b[0m \u001b[0mname\u001b[0m \u001b[0;32mis\u001b[0m \u001b[0;32mnot\u001b[0m \u001b[0;32mNone\u001b[0m\u001b[0;34m:\u001b[0m\u001b[0;34m\u001b[0m\u001b[0;34m\u001b[0m\u001b[0m\n",
      "\u001b[0;31mKeyboardInterrupt\u001b[0m: "
     ]
    }
   ],
   "source": [
    "\n",
    "for fold in np.arange(1,5,1):\n",
    "    last_model = trainer.continue_training(fold,network,metrics=metrics,\n",
    "                                           callbacks_list=callbacks)\n",
    "    results = trainer.test_model(model,test_pipe,fold=fold,keep_data=True, \n",
    "                                 data_loaded=False,iterative=False)\n",
    "    conf_mat = trainer.evaluate3classes(results[0],results[1],fold=fold,metrics=metrics[1:])\n",
    "    results_features_test = trainer.test_model(feature_model,test_pipe,fold,\n",
    "                                                 keep_data=False,data_loaded=True,\n",
    "                                                 subject_group='test_subjects.json',\n",
    "                                                 iterative=False,\n",
    "                                                 make_classification=False)\n",
    "    results_features_train = trainer.test_model(feature_model,test_pipe,fold,\n",
    "                                                 keep_data=False,data_loaded=False,\n",
    "                                                 subject_group='train_subjects.json',\n",
    "                                                iterative=True,\n",
    "                                                make_classification=False)\n"
   ]
  },
  {
   "cell_type": "code",
   "execution_count": null,
   "metadata": {},
   "outputs": [],
   "source": []
  },
  {
   "cell_type": "code",
   "execution_count": 15,
   "metadata": {
    "executionInfo": {
     "elapsed": 1605,
     "status": "ok",
     "timestamp": 1614156901451,
     "user": {
      "displayName": "marc",
      "photoUrl": "",
      "userId": "05336137283309084315"
     },
     "user_tz": -60
    },
    "id": "BCEztdzsGc8i"
   },
   "outputs": [],
   "source": [
    "reload(GeneratorCNN)\n",
    "reload(approach.GeneratorCNN)\n",
    "fold=0\n",
    "overlap = 256\n",
    "func = [\n",
    "        GeneratorCNN.draw_continuous_time_frame,\n",
    "        GeneratorCNN.transform_recording_site,\n",
    "        GeneratorCNN.apply_channel_matches]\n",
    "p = {'transform_recording_site':1,'apply_channel_matches':1,'draw_continuous_time_frame':1}\n",
    "aug_params = {\n",
    "    'transform_recording_site':\n",
    "       {'map_to':'identity',\n",
    "        'sensor_inv':[pSA,pSB],\n",
    "        'sensor_fwd':[SA,SB]},\n",
    "    'apply_channel_matches':\n",
    "        {'matches':data_params['channel_matches']},\n",
    "    'draw_continuous_time_frame':\n",
    "        {'frame_length':utils.time2samples(fs=data_params['fs'],time_container=network_params['frame_size']),\n",
    "        #'trial_length':5*60*data_params['fs']\n",
    "         'overlap':overlap\n",
    "         }\n",
    "        }\n",
    "test_pipe = GeneratorCNN.Augment_Pipeline(func,aug_params,p)\n",
    "test_pipe.params['overlap']=overlap\n",
    "\n",
    "model = trainer.load_model(fold)\n",
    "from tensorflow.keras import models\n",
    "feature_model = models.Model(model.input,model.layers[-3].output)\n"
   ]
  },
  {
   "cell_type": "code",
   "execution_count": 16,
   "metadata": {
    "colab": {
     "base_uri": "https://localhost:8080/"
    },
    "collapsed": true,
    "executionInfo": {
     "elapsed": 866153,
     "status": "ok",
     "timestamp": 1614157767629,
     "user": {
      "displayName": "marc",
      "photoUrl": "",
      "userId": "05336137283309084315"
     },
     "user_tz": -60
    },
    "id": "dW_6GG-bNIrZ",
    "jupyter": {
     "outputs_hidden": true
    },
    "outputId": "3fd91c82-eece-463e-cd2d-8a3c4defbb0f"
   },
   "outputs": [
    {
     "name": "stderr",
     "output_type": "stream",
     "text": [
      "/content/drive/My Drive/biomag21/libs/GeneratorCNN.py:489: UserWarning: Make sure that the recording site is provided for each subject.\n",
      "  warnings.warn('Make sure that the recording site is provided for each subject.')\n"
     ]
    },
    {
     "name": "stdout",
     "output_type": "stream",
     "text": [
      "{'mci': 3, 'dementia': 6, 'control': 21}\n"
     ]
    },
    {
     "name": "stderr",
     "output_type": "stream",
     "text": [
      "  0%|          | 0/30 [00:00<?, ?it/s]"
     ]
    },
    {
     "name": "stdout",
     "output_type": "stream",
     "text": [
      "\n"
     ]
    },
    {
     "name": "stderr",
     "output_type": "stream",
     "text": [
      "100%|██████████| 30/30 [00:40<00:00,  1.36s/it]\n"
     ]
    },
    {
     "name": "stdout",
     "output_type": "stream",
     "text": [
      "Exponential moving z score with alpha: 0.0005\n"
     ]
    },
    {
     "name": "stderr",
     "output_type": "stream",
     "text": [
      "100%|██████████| 30/30 [01:19<00:00,  2.66s/it]\n"
     ]
    },
    {
     "name": "stdout",
     "output_type": "stream",
     "text": [
      "| ids         |   y |   pred | site   |\n",
      "|:------------|----:|-------:|:-------|\n",
      "| control002  |   0 |      0 | B      |\n",
      "| control003  |   0 |      0 | A      |\n",
      "| control005  |   0 |      2 | A      |\n",
      "| control006  |   0 |      0 | A      |\n",
      "| control007  |   0 |      0 | A      |\n",
      "| control008  |   0 |      1 | B      |\n",
      "| control009  |   0 |      1 | B      |\n",
      "| control010  |   0 |      1 | B      |\n",
      "| control011  |   0 |      0 | A      |\n",
      "| control012  |   0 |      0 | A      |\n",
      "| control013  |   0 |      0 | A      |\n",
      "| control014  |   0 |      1 | B      |\n",
      "| control015  |   0 |      0 | A      |\n",
      "| control016  |   0 |      2 | A      |\n",
      "| control017  |   0 |      1 | B      |\n",
      "| control021  |   0 |      0 | A      |\n",
      "| control022  |   0 |      0 | A      |\n",
      "| control024  |   0 |      0 | A      |\n",
      "| control025  |   0 |      0 | A      |\n",
      "| control001  |   0 |      0 | A      |\n",
      "| control004  |   0 |      0 | A      |\n",
      "| dementia001 |   2 |      0 | A      |\n",
      "| dementia002 |   2 |      1 | B      |\n",
      "| dementia003 |   2 |      2 | A      |\n",
      "| dementia004 |   2 |      2 | B      |\n",
      "| dementia005 |   2 |      2 | A      |\n",
      "| dementia010 |   2 |      2 | A      |\n",
      "| mci001      |   1 |      1 | B      |\n",
      "| mci002      |   1 |      1 | B      |\n",
      "| mci003      |   1 |      1 | B      |\n",
      "Todo: Wrap into method\n",
      "mci_dem_sensitivity : tf.Tensor(0.8333334, shape=(), dtype=float32)\n"
     ]
    },
    {
     "name": "stderr",
     "output_type": "stream",
     "text": [
      "  0%|          | 0/30 [00:00<?, ?it/s]"
     ]
    },
    {
     "name": "stdout",
     "output_type": "stream",
     "text": [
      "mci_dem_Specificity : tf.Tensor(0.9583334, shape=(), dtype=float32)\n",
      "mci_dem_F1 : tf.Tensor(0.5833334, shape=(), dtype=float32)\n"
     ]
    },
    {
     "name": "stderr",
     "output_type": "stream",
     "text": [
      "100%|██████████| 30/30 [01:20<00:00,  2.69s/it]\n",
      "  0%|          | 0/1 [00:00<?, ?it/s]"
     ]
    },
    {
     "name": "stdout",
     "output_type": "stream",
     "text": [
      "Feature output\n",
      "{'mci': 0, 'dementia': 0, 'control': 1}\n",
      "\n"
     ]
    },
    {
     "name": "stderr",
     "output_type": "stream",
     "text": [
      "100%|██████████| 1/1 [00:01<00:00,  1.37s/it]\n",
      "  0%|          | 0/1 [00:00<?, ?it/s]"
     ]
    },
    {
     "name": "stdout",
     "output_type": "stream",
     "text": [
      "{'mci': 0, 'dementia': 0, 'control': 1}\n",
      "\n"
     ]
    },
    {
     "name": "stderr",
     "output_type": "stream",
     "text": [
      "100%|██████████| 1/1 [00:01<00:00,  1.40s/it]\n",
      "  0%|          | 0/1 [00:00<?, ?it/s]"
     ]
    },
    {
     "name": "stdout",
     "output_type": "stream",
     "text": [
      "{'mci': 0, 'dementia': 0, 'control': 1}\n",
      "\n"
     ]
    },
    {
     "name": "stderr",
     "output_type": "stream",
     "text": [
      "100%|██████████| 1/1 [00:01<00:00,  1.38s/it]\n",
      "  0%|          | 0/1 [00:00<?, ?it/s]"
     ]
    },
    {
     "name": "stdout",
     "output_type": "stream",
     "text": [
      "{'mci': 0, 'dementia': 0, 'control': 1}\n",
      "\n"
     ]
    },
    {
     "name": "stderr",
     "output_type": "stream",
     "text": [
      "100%|██████████| 1/1 [00:01<00:00,  1.37s/it]\n",
      "  0%|          | 0/1 [00:00<?, ?it/s]"
     ]
    },
    {
     "name": "stdout",
     "output_type": "stream",
     "text": [
      "{'mci': 0, 'dementia': 0, 'control': 1}\n",
      "\n"
     ]
    },
    {
     "name": "stderr",
     "output_type": "stream",
     "text": [
      "100%|██████████| 1/1 [00:01<00:00,  1.40s/it]\n",
      "  0%|          | 0/1 [00:00<?, ?it/s]"
     ]
    },
    {
     "name": "stdout",
     "output_type": "stream",
     "text": [
      "{'mci': 0, 'dementia': 0, 'control': 1}\n",
      "\n"
     ]
    },
    {
     "name": "stderr",
     "output_type": "stream",
     "text": [
      "100%|██████████| 1/1 [00:01<00:00,  1.35s/it]\n",
      "  0%|          | 0/1 [00:00<?, ?it/s]"
     ]
    },
    {
     "name": "stdout",
     "output_type": "stream",
     "text": [
      "{'mci': 0, 'dementia': 0, 'control': 1}\n",
      "\n"
     ]
    },
    {
     "name": "stderr",
     "output_type": "stream",
     "text": [
      "100%|██████████| 1/1 [00:01<00:00,  1.36s/it]\n",
      "  0%|          | 0/1 [00:00<?, ?it/s]"
     ]
    },
    {
     "name": "stdout",
     "output_type": "stream",
     "text": [
      "{'mci': 0, 'dementia': 0, 'control': 1}\n",
      "\n"
     ]
    },
    {
     "name": "stderr",
     "output_type": "stream",
     "text": [
      "100%|██████████| 1/1 [00:01<00:00,  1.35s/it]\n",
      "  0%|          | 0/1 [00:00<?, ?it/s]"
     ]
    },
    {
     "name": "stdout",
     "output_type": "stream",
     "text": [
      "{'mci': 0, 'dementia': 0, 'control': 1}\n",
      "\n"
     ]
    },
    {
     "name": "stderr",
     "output_type": "stream",
     "text": [
      "100%|██████████| 1/1 [00:01<00:00,  1.38s/it]\n",
      "  0%|          | 0/1 [00:00<?, ?it/s]"
     ]
    },
    {
     "name": "stdout",
     "output_type": "stream",
     "text": [
      "{'mci': 0, 'dementia': 0, 'control': 1}\n",
      "\n"
     ]
    },
    {
     "name": "stderr",
     "output_type": "stream",
     "text": [
      "100%|██████████| 1/1 [00:01<00:00,  1.37s/it]\n",
      "  0%|          | 0/1 [00:00<?, ?it/s]"
     ]
    },
    {
     "name": "stdout",
     "output_type": "stream",
     "text": [
      "{'mci': 0, 'dementia': 0, 'control': 1}\n",
      "\n"
     ]
    },
    {
     "name": "stderr",
     "output_type": "stream",
     "text": [
      "100%|██████████| 1/1 [00:01<00:00,  1.40s/it]\n",
      "  0%|          | 0/1 [00:00<?, ?it/s]"
     ]
    },
    {
     "name": "stdout",
     "output_type": "stream",
     "text": [
      "{'mci': 0, 'dementia': 0, 'control': 1}\n",
      "\n"
     ]
    },
    {
     "name": "stderr",
     "output_type": "stream",
     "text": [
      "100%|██████████| 1/1 [00:01<00:00,  1.36s/it]\n",
      "  0%|          | 0/1 [00:00<?, ?it/s]"
     ]
    },
    {
     "name": "stdout",
     "output_type": "stream",
     "text": [
      "{'mci': 0, 'dementia': 0, 'control': 1}\n",
      "\n"
     ]
    },
    {
     "name": "stderr",
     "output_type": "stream",
     "text": [
      "100%|██████████| 1/1 [00:01<00:00,  1.34s/it]\n",
      "  0%|          | 0/1 [00:00<?, ?it/s]"
     ]
    },
    {
     "name": "stdout",
     "output_type": "stream",
     "text": [
      "{'mci': 0, 'dementia': 0, 'control': 1}\n",
      "\n"
     ]
    },
    {
     "name": "stderr",
     "output_type": "stream",
     "text": [
      "100%|██████████| 1/1 [00:01<00:00,  1.35s/it]\n",
      "  0%|          | 0/1 [00:00<?, ?it/s]"
     ]
    },
    {
     "name": "stdout",
     "output_type": "stream",
     "text": [
      "{'mci': 0, 'dementia': 0, 'control': 1}\n",
      "\n"
     ]
    },
    {
     "name": "stderr",
     "output_type": "stream",
     "text": [
      "100%|██████████| 1/1 [00:01<00:00,  1.37s/it]\n",
      "  0%|          | 0/1 [00:00<?, ?it/s]"
     ]
    },
    {
     "name": "stdout",
     "output_type": "stream",
     "text": [
      "{'mci': 0, 'dementia': 0, 'control': 1}\n",
      "\n"
     ]
    },
    {
     "name": "stderr",
     "output_type": "stream",
     "text": [
      "100%|██████████| 1/1 [00:01<00:00,  1.37s/it]\n",
      "  0%|          | 0/1 [00:00<?, ?it/s]"
     ]
    },
    {
     "name": "stdout",
     "output_type": "stream",
     "text": [
      "{'mci': 0, 'dementia': 0, 'control': 1}\n",
      "\n"
     ]
    },
    {
     "name": "stderr",
     "output_type": "stream",
     "text": [
      "100%|██████████| 1/1 [00:01<00:00,  1.36s/it]\n",
      "  0%|          | 0/1 [00:00<?, ?it/s]"
     ]
    },
    {
     "name": "stdout",
     "output_type": "stream",
     "text": [
      "{'mci': 0, 'dementia': 0, 'control': 1}\n",
      "\n"
     ]
    },
    {
     "name": "stderr",
     "output_type": "stream",
     "text": [
      "100%|██████████| 1/1 [00:01<00:00,  1.35s/it]\n",
      "  0%|          | 0/1 [00:00<?, ?it/s]"
     ]
    },
    {
     "name": "stdout",
     "output_type": "stream",
     "text": [
      "{'mci': 0, 'dementia': 0, 'control': 1}\n",
      "\n"
     ]
    },
    {
     "name": "stderr",
     "output_type": "stream",
     "text": [
      "100%|██████████| 1/1 [00:02<00:00,  2.93s/it]\n",
      "  0%|          | 0/1 [00:00<?, ?it/s]"
     ]
    },
    {
     "name": "stdout",
     "output_type": "stream",
     "text": [
      "{'mci': 0, 'dementia': 0, 'control': 1}\n",
      "\n"
     ]
    },
    {
     "name": "stderr",
     "output_type": "stream",
     "text": [
      "100%|██████████| 1/1 [00:02<00:00,  2.48s/it]\n",
      "  0%|          | 0/1 [00:00<?, ?it/s]"
     ]
    },
    {
     "name": "stdout",
     "output_type": "stream",
     "text": [
      "{'mci': 0, 'dementia': 0, 'control': 1}\n",
      "\n"
     ]
    },
    {
     "name": "stderr",
     "output_type": "stream",
     "text": [
      "100%|██████████| 1/1 [00:02<00:00,  2.46s/it]\n",
      "  0%|          | 0/1 [00:00<?, ?it/s]"
     ]
    },
    {
     "name": "stdout",
     "output_type": "stream",
     "text": [
      "{'mci': 0, 'dementia': 0, 'control': 1}\n",
      "\n"
     ]
    },
    {
     "name": "stderr",
     "output_type": "stream",
     "text": [
      "100%|██████████| 1/1 [00:02<00:00,  2.56s/it]\n",
      "  0%|          | 0/1 [00:00<?, ?it/s]"
     ]
    },
    {
     "name": "stdout",
     "output_type": "stream",
     "text": [
      "{'mci': 0, 'dementia': 0, 'control': 1}\n",
      "\n"
     ]
    },
    {
     "name": "stderr",
     "output_type": "stream",
     "text": [
      "100%|██████████| 1/1 [00:02<00:00,  2.58s/it]\n",
      "  0%|          | 0/1 [00:00<?, ?it/s]"
     ]
    },
    {
     "name": "stdout",
     "output_type": "stream",
     "text": [
      "{'mci': 0, 'dementia': 0, 'control': 1}\n",
      "\n"
     ]
    },
    {
     "name": "stderr",
     "output_type": "stream",
     "text": [
      "100%|██████████| 1/1 [00:02<00:00,  2.30s/it]\n",
      "  0%|          | 0/1 [00:00<?, ?it/s]"
     ]
    },
    {
     "name": "stdout",
     "output_type": "stream",
     "text": [
      "{'mci': 0, 'dementia': 0, 'control': 1}\n",
      "\n"
     ]
    },
    {
     "name": "stderr",
     "output_type": "stream",
     "text": [
      "100%|██████████| 1/1 [00:02<00:00,  2.59s/it]\n",
      "  0%|          | 0/1 [00:00<?, ?it/s]"
     ]
    },
    {
     "name": "stdout",
     "output_type": "stream",
     "text": [
      "{'mci': 0, 'dementia': 0, 'control': 1}\n",
      "\n"
     ]
    },
    {
     "name": "stderr",
     "output_type": "stream",
     "text": [
      "100%|██████████| 1/1 [00:02<00:00,  2.53s/it]\n",
      "  0%|          | 0/1 [00:00<?, ?it/s]"
     ]
    },
    {
     "name": "stdout",
     "output_type": "stream",
     "text": [
      "{'mci': 0, 'dementia': 0, 'control': 1}\n",
      "\n"
     ]
    },
    {
     "name": "stderr",
     "output_type": "stream",
     "text": [
      "100%|██████████| 1/1 [00:02<00:00,  2.32s/it]\n",
      "  0%|          | 0/1 [00:00<?, ?it/s]"
     ]
    },
    {
     "name": "stdout",
     "output_type": "stream",
     "text": [
      "{'mci': 0, 'dementia': 0, 'control': 1}\n",
      "\n"
     ]
    },
    {
     "name": "stderr",
     "output_type": "stream",
     "text": [
      "100%|██████████| 1/1 [00:02<00:00,  2.92s/it]\n",
      "  0%|          | 0/1 [00:00<?, ?it/s]"
     ]
    },
    {
     "name": "stdout",
     "output_type": "stream",
     "text": [
      "{'mci': 0, 'dementia': 0, 'control': 1}\n",
      "\n"
     ]
    },
    {
     "name": "stderr",
     "output_type": "stream",
     "text": [
      "100%|██████████| 1/1 [00:02<00:00,  2.56s/it]\n",
      "  0%|          | 0/1 [00:00<?, ?it/s]"
     ]
    },
    {
     "name": "stdout",
     "output_type": "stream",
     "text": [
      "{'mci': 0, 'dementia': 0, 'control': 1}\n",
      "\n"
     ]
    },
    {
     "name": "stderr",
     "output_type": "stream",
     "text": [
      "100%|██████████| 1/1 [00:02<00:00,  2.43s/it]\n",
      "  0%|          | 0/1 [00:00<?, ?it/s]"
     ]
    },
    {
     "name": "stdout",
     "output_type": "stream",
     "text": [
      "{'mci': 0, 'dementia': 0, 'control': 1}\n",
      "\n"
     ]
    },
    {
     "name": "stderr",
     "output_type": "stream",
     "text": [
      "100%|██████████| 1/1 [00:02<00:00,  2.99s/it]\n",
      "  0%|          | 0/1 [00:00<?, ?it/s]"
     ]
    },
    {
     "name": "stdout",
     "output_type": "stream",
     "text": [
      "{'mci': 0, 'dementia': 0, 'control': 1}\n",
      "\n"
     ]
    },
    {
     "name": "stderr",
     "output_type": "stream",
     "text": [
      "100%|██████████| 1/1 [00:02<00:00,  2.49s/it]\n",
      "  0%|          | 0/1 [00:00<?, ?it/s]"
     ]
    },
    {
     "name": "stdout",
     "output_type": "stream",
     "text": [
      "{'mci': 0, 'dementia': 0, 'control': 1}\n",
      "\n"
     ]
    },
    {
     "name": "stderr",
     "output_type": "stream",
     "text": [
      "100%|██████████| 1/1 [00:02<00:00,  2.52s/it]\n",
      "  0%|          | 0/1 [00:00<?, ?it/s]"
     ]
    },
    {
     "name": "stdout",
     "output_type": "stream",
     "text": [
      "{'mci': 0, 'dementia': 0, 'control': 1}\n",
      "\n"
     ]
    },
    {
     "name": "stderr",
     "output_type": "stream",
     "text": [
      "100%|██████████| 1/1 [00:02<00:00,  2.40s/it]\n",
      "  0%|          | 0/1 [00:00<?, ?it/s]"
     ]
    },
    {
     "name": "stdout",
     "output_type": "stream",
     "text": [
      "{'mci': 0, 'dementia': 0, 'control': 1}\n",
      "\n"
     ]
    },
    {
     "name": "stderr",
     "output_type": "stream",
     "text": [
      "100%|██████████| 1/1 [00:02<00:00,  2.52s/it]\n",
      "  0%|          | 0/1 [00:00<?, ?it/s]"
     ]
    },
    {
     "name": "stdout",
     "output_type": "stream",
     "text": [
      "{'mci': 0, 'dementia': 0, 'control': 1}\n",
      "\n"
     ]
    },
    {
     "name": "stderr",
     "output_type": "stream",
     "text": [
      "100%|██████████| 1/1 [00:02<00:00,  2.40s/it]\n",
      "  0%|          | 0/1 [00:00<?, ?it/s]"
     ]
    },
    {
     "name": "stdout",
     "output_type": "stream",
     "text": [
      "{'mci': 0, 'dementia': 0, 'control': 1}\n",
      "\n"
     ]
    },
    {
     "name": "stderr",
     "output_type": "stream",
     "text": [
      "100%|██████████| 1/1 [00:02<00:00,  2.50s/it]\n",
      "  0%|          | 0/1 [00:00<?, ?it/s]"
     ]
    },
    {
     "name": "stdout",
     "output_type": "stream",
     "text": [
      "{'mci': 0, 'dementia': 0, 'control': 1}\n",
      "\n"
     ]
    },
    {
     "name": "stderr",
     "output_type": "stream",
     "text": [
      "100%|██████████| 1/1 [00:02<00:00,  2.93s/it]\n",
      "  0%|          | 0/1 [00:00<?, ?it/s]"
     ]
    },
    {
     "name": "stdout",
     "output_type": "stream",
     "text": [
      "{'mci': 0, 'dementia': 0, 'control': 1}\n",
      "\n"
     ]
    },
    {
     "name": "stderr",
     "output_type": "stream",
     "text": [
      "100%|██████████| 1/1 [00:02<00:00,  2.52s/it]\n",
      "  0%|          | 0/1 [00:00<?, ?it/s]"
     ]
    },
    {
     "name": "stdout",
     "output_type": "stream",
     "text": [
      "{'mci': 0, 'dementia': 0, 'control': 1}\n",
      "\n"
     ]
    },
    {
     "name": "stderr",
     "output_type": "stream",
     "text": [
      "100%|██████████| 1/1 [00:02<00:00,  2.88s/it]\n",
      "  0%|          | 0/1 [00:00<?, ?it/s]"
     ]
    },
    {
     "name": "stdout",
     "output_type": "stream",
     "text": [
      "{'mci': 0, 'dementia': 0, 'control': 1}\n",
      "\n"
     ]
    },
    {
     "name": "stderr",
     "output_type": "stream",
     "text": [
      "100%|██████████| 1/1 [00:02<00:00,  2.42s/it]\n",
      "  0%|          | 0/1 [00:00<?, ?it/s]"
     ]
    },
    {
     "name": "stdout",
     "output_type": "stream",
     "text": [
      "{'mci': 0, 'dementia': 0, 'control': 1}\n",
      "\n"
     ]
    },
    {
     "name": "stderr",
     "output_type": "stream",
     "text": [
      "100%|██████████| 1/1 [00:02<00:00,  2.61s/it]\n",
      "  0%|          | 0/1 [00:00<?, ?it/s]"
     ]
    },
    {
     "name": "stdout",
     "output_type": "stream",
     "text": [
      "{'mci': 0, 'dementia': 0, 'control': 1}\n",
      "\n"
     ]
    },
    {
     "name": "stderr",
     "output_type": "stream",
     "text": [
      "100%|██████████| 1/1 [00:02<00:00,  2.79s/it]\n",
      "  0%|          | 0/1 [00:00<?, ?it/s]"
     ]
    },
    {
     "name": "stdout",
     "output_type": "stream",
     "text": [
      "{'mci': 0, 'dementia': 0, 'control': 1}\n",
      "\n"
     ]
    },
    {
     "name": "stderr",
     "output_type": "stream",
     "text": [
      "100%|██████████| 1/1 [00:02<00:00,  2.41s/it]\n",
      "  0%|          | 0/1 [00:00<?, ?it/s]"
     ]
    },
    {
     "name": "stdout",
     "output_type": "stream",
     "text": [
      "{'mci': 0, 'dementia': 0, 'control': 1}\n",
      "\n"
     ]
    },
    {
     "name": "stderr",
     "output_type": "stream",
     "text": [
      "100%|██████████| 1/1 [00:02<00:00,  2.59s/it]\n",
      "  0%|          | 0/1 [00:00<?, ?it/s]"
     ]
    },
    {
     "name": "stdout",
     "output_type": "stream",
     "text": [
      "{'mci': 0, 'dementia': 0, 'control': 1}\n",
      "\n"
     ]
    },
    {
     "name": "stderr",
     "output_type": "stream",
     "text": [
      "100%|██████████| 1/1 [00:02<00:00,  2.87s/it]\n",
      "  0%|          | 0/1 [00:00<?, ?it/s]"
     ]
    },
    {
     "name": "stdout",
     "output_type": "stream",
     "text": [
      "{'mci': 0, 'dementia': 0, 'control': 1}\n",
      "\n"
     ]
    },
    {
     "name": "stderr",
     "output_type": "stream",
     "text": [
      "100%|██████████| 1/1 [00:02<00:00,  2.75s/it]\n",
      "  0%|          | 0/1 [00:00<?, ?it/s]"
     ]
    },
    {
     "name": "stdout",
     "output_type": "stream",
     "text": [
      "{'mci': 0, 'dementia': 0, 'control': 1}\n",
      "\n"
     ]
    },
    {
     "name": "stderr",
     "output_type": "stream",
     "text": [
      "100%|██████████| 1/1 [00:03<00:00,  3.03s/it]\n",
      "  0%|          | 0/1 [00:00<?, ?it/s]"
     ]
    },
    {
     "name": "stdout",
     "output_type": "stream",
     "text": [
      "{'mci': 0, 'dementia': 0, 'control': 1}\n",
      "\n"
     ]
    },
    {
     "name": "stderr",
     "output_type": "stream",
     "text": [
      "100%|██████████| 1/1 [00:02<00:00,  2.45s/it]\n",
      "  0%|          | 0/1 [00:00<?, ?it/s]"
     ]
    },
    {
     "name": "stdout",
     "output_type": "stream",
     "text": [
      "{'mci': 0, 'dementia': 0, 'control': 1}\n",
      "\n"
     ]
    },
    {
     "name": "stderr",
     "output_type": "stream",
     "text": [
      "100%|██████████| 1/1 [00:02<00:00,  2.60s/it]\n",
      "  0%|          | 0/1 [00:00<?, ?it/s]"
     ]
    },
    {
     "name": "stdout",
     "output_type": "stream",
     "text": [
      "{'mci': 0, 'dementia': 0, 'control': 1}\n",
      "\n"
     ]
    },
    {
     "name": "stderr",
     "output_type": "stream",
     "text": [
      "100%|██████████| 1/1 [00:02<00:00,  2.50s/it]\n",
      "  0%|          | 0/1 [00:00<?, ?it/s]"
     ]
    },
    {
     "name": "stdout",
     "output_type": "stream",
     "text": [
      "{'mci': 0, 'dementia': 0, 'control': 1}\n",
      "\n"
     ]
    },
    {
     "name": "stderr",
     "output_type": "stream",
     "text": [
      "100%|██████████| 1/1 [00:02<00:00,  2.66s/it]\n",
      "  0%|          | 0/1 [00:00<?, ?it/s]"
     ]
    },
    {
     "name": "stdout",
     "output_type": "stream",
     "text": [
      "{'mci': 0, 'dementia': 0, 'control': 1}\n",
      "\n"
     ]
    },
    {
     "name": "stderr",
     "output_type": "stream",
     "text": [
      "100%|██████████| 1/1 [00:02<00:00,  2.38s/it]\n",
      "  0%|          | 0/1 [00:00<?, ?it/s]"
     ]
    },
    {
     "name": "stdout",
     "output_type": "stream",
     "text": [
      "{'mci': 0, 'dementia': 0, 'control': 1}\n",
      "\n"
     ]
    },
    {
     "name": "stderr",
     "output_type": "stream",
     "text": [
      "100%|██████████| 1/1 [00:02<00:00,  2.65s/it]\n",
      "  0%|          | 0/1 [00:00<?, ?it/s]"
     ]
    },
    {
     "name": "stdout",
     "output_type": "stream",
     "text": [
      "{'mci': 0, 'dementia': 0, 'control': 1}\n",
      "\n"
     ]
    },
    {
     "name": "stderr",
     "output_type": "stream",
     "text": [
      "100%|██████████| 1/1 [00:02<00:00,  2.71s/it]\n",
      "  0%|          | 0/1 [00:00<?, ?it/s]"
     ]
    },
    {
     "name": "stdout",
     "output_type": "stream",
     "text": [
      "{'mci': 0, 'dementia': 0, 'control': 1}\n",
      "\n"
     ]
    },
    {
     "name": "stderr",
     "output_type": "stream",
     "text": [
      "100%|██████████| 1/1 [00:02<00:00,  2.70s/it]\n",
      "  0%|          | 0/1 [00:00<?, ?it/s]"
     ]
    },
    {
     "name": "stdout",
     "output_type": "stream",
     "text": [
      "{'mci': 0, 'dementia': 0, 'control': 1}\n",
      "\n"
     ]
    },
    {
     "name": "stderr",
     "output_type": "stream",
     "text": [
      "100%|██████████| 1/1 [00:03<00:00,  3.17s/it]\n",
      "  0%|          | 0/1 [00:00<?, ?it/s]"
     ]
    },
    {
     "name": "stdout",
     "output_type": "stream",
     "text": [
      "{'mci': 0, 'dementia': 0, 'control': 1}\n",
      "\n"
     ]
    },
    {
     "name": "stderr",
     "output_type": "stream",
     "text": [
      "100%|██████████| 1/1 [00:02<00:00,  2.73s/it]\n",
      "  0%|          | 0/1 [00:00<?, ?it/s]"
     ]
    },
    {
     "name": "stdout",
     "output_type": "stream",
     "text": [
      "{'mci': 0, 'dementia': 0, 'control': 1}\n",
      "\n"
     ]
    },
    {
     "name": "stderr",
     "output_type": "stream",
     "text": [
      "100%|██████████| 1/1 [00:02<00:00,  2.84s/it]\n",
      "  0%|          | 0/1 [00:00<?, ?it/s]"
     ]
    },
    {
     "name": "stdout",
     "output_type": "stream",
     "text": [
      "{'mci': 0, 'dementia': 0, 'control': 1}\n",
      "\n"
     ]
    },
    {
     "name": "stderr",
     "output_type": "stream",
     "text": [
      "100%|██████████| 1/1 [00:02<00:00,  2.61s/it]\n",
      "  0%|          | 0/1 [00:00<?, ?it/s]"
     ]
    },
    {
     "name": "stdout",
     "output_type": "stream",
     "text": [
      "{'mci': 0, 'dementia': 0, 'control': 1}\n",
      "\n"
     ]
    },
    {
     "name": "stderr",
     "output_type": "stream",
     "text": [
      "100%|██████████| 1/1 [00:02<00:00,  2.60s/it]\n",
      "  0%|          | 0/1 [00:00<?, ?it/s]"
     ]
    },
    {
     "name": "stdout",
     "output_type": "stream",
     "text": [
      "{'mci': 0, 'dementia': 0, 'control': 1}\n",
      "\n"
     ]
    },
    {
     "name": "stderr",
     "output_type": "stream",
     "text": [
      "100%|██████████| 1/1 [00:02<00:00,  2.49s/it]\n",
      "  0%|          | 0/1 [00:00<?, ?it/s]"
     ]
    },
    {
     "name": "stdout",
     "output_type": "stream",
     "text": [
      "{'mci': 0, 'dementia': 0, 'control': 1}\n",
      "\n"
     ]
    },
    {
     "name": "stderr",
     "output_type": "stream",
     "text": [
      "100%|██████████| 1/1 [00:02<00:00,  2.84s/it]\n",
      "  0%|          | 0/1 [00:00<?, ?it/s]"
     ]
    },
    {
     "name": "stdout",
     "output_type": "stream",
     "text": [
      "{'mci': 0, 'dementia': 0, 'control': 1}\n",
      "\n"
     ]
    },
    {
     "name": "stderr",
     "output_type": "stream",
     "text": [
      "100%|██████████| 1/1 [00:02<00:00,  2.74s/it]\n",
      "  0%|          | 0/1 [00:00<?, ?it/s]"
     ]
    },
    {
     "name": "stdout",
     "output_type": "stream",
     "text": [
      "{'mci': 0, 'dementia': 0, 'control': 1}\n",
      "\n"
     ]
    },
    {
     "name": "stderr",
     "output_type": "stream",
     "text": [
      "100%|██████████| 1/1 [00:02<00:00,  2.36s/it]\n",
      "  0%|          | 0/1 [00:00<?, ?it/s]"
     ]
    },
    {
     "name": "stdout",
     "output_type": "stream",
     "text": [
      "{'mci': 0, 'dementia': 0, 'control': 1}\n",
      "\n"
     ]
    },
    {
     "name": "stderr",
     "output_type": "stream",
     "text": [
      "100%|██████████| 1/1 [00:02<00:00,  2.41s/it]\n",
      "  0%|          | 0/1 [00:00<?, ?it/s]"
     ]
    },
    {
     "name": "stdout",
     "output_type": "stream",
     "text": [
      "{'mci': 0, 'dementia': 0, 'control': 1}\n",
      "\n"
     ]
    },
    {
     "name": "stderr",
     "output_type": "stream",
     "text": [
      "100%|██████████| 1/1 [00:02<00:00,  2.94s/it]\n",
      "  0%|          | 0/1 [00:00<?, ?it/s]"
     ]
    },
    {
     "name": "stdout",
     "output_type": "stream",
     "text": [
      "{'mci': 0, 'dementia': 0, 'control': 1}\n",
      "\n"
     ]
    },
    {
     "name": "stderr",
     "output_type": "stream",
     "text": [
      "100%|██████████| 1/1 [00:02<00:00,  2.60s/it]\n",
      "  0%|          | 0/1 [00:00<?, ?it/s]"
     ]
    },
    {
     "name": "stdout",
     "output_type": "stream",
     "text": [
      "{'mci': 0, 'dementia': 0, 'control': 1}\n",
      "\n"
     ]
    },
    {
     "name": "stderr",
     "output_type": "stream",
     "text": [
      "100%|██████████| 1/1 [00:02<00:00,  2.52s/it]\n",
      "  0%|          | 0/1 [00:00<?, ?it/s]"
     ]
    },
    {
     "name": "stdout",
     "output_type": "stream",
     "text": [
      "{'mci': 0, 'dementia': 0, 'control': 1}\n",
      "\n"
     ]
    },
    {
     "name": "stderr",
     "output_type": "stream",
     "text": [
      "100%|██████████| 1/1 [00:02<00:00,  2.60s/it]\n",
      "  0%|          | 0/1 [00:00<?, ?it/s]"
     ]
    },
    {
     "name": "stdout",
     "output_type": "stream",
     "text": [
      "{'mci': 0, 'dementia': 0, 'control': 1}\n",
      "\n"
     ]
    },
    {
     "name": "stderr",
     "output_type": "stream",
     "text": [
      "100%|██████████| 1/1 [00:02<00:00,  2.57s/it]\n",
      "  0%|          | 0/1 [00:00<?, ?it/s]"
     ]
    },
    {
     "name": "stdout",
     "output_type": "stream",
     "text": [
      "{'mci': 0, 'dementia': 0, 'control': 1}\n",
      "\n"
     ]
    },
    {
     "name": "stderr",
     "output_type": "stream",
     "text": [
      "100%|██████████| 1/1 [00:02<00:00,  2.69s/it]\n",
      "  0%|          | 0/1 [00:00<?, ?it/s]"
     ]
    },
    {
     "name": "stdout",
     "output_type": "stream",
     "text": [
      "{'mci': 0, 'dementia': 0, 'control': 1}\n",
      "\n"
     ]
    },
    {
     "name": "stderr",
     "output_type": "stream",
     "text": [
      "100%|██████████| 1/1 [00:02<00:00,  2.51s/it]\n",
      "  0%|          | 0/1 [00:00<?, ?it/s]"
     ]
    },
    {
     "name": "stdout",
     "output_type": "stream",
     "text": [
      "{'mci': 0, 'dementia': 0, 'control': 1}\n",
      "\n"
     ]
    },
    {
     "name": "stderr",
     "output_type": "stream",
     "text": [
      "100%|██████████| 1/1 [00:02<00:00,  2.55s/it]\n",
      "  0%|          | 0/1 [00:00<?, ?it/s]"
     ]
    },
    {
     "name": "stdout",
     "output_type": "stream",
     "text": [
      "{'mci': 0, 'dementia': 0, 'control': 1}\n",
      "\n"
     ]
    },
    {
     "name": "stderr",
     "output_type": "stream",
     "text": [
      "100%|██████████| 1/1 [00:02<00:00,  2.71s/it]\n",
      "  0%|          | 0/1 [00:00<?, ?it/s]"
     ]
    },
    {
     "name": "stdout",
     "output_type": "stream",
     "text": [
      "{'mci': 0, 'dementia': 0, 'control': 1}\n",
      "\n"
     ]
    },
    {
     "name": "stderr",
     "output_type": "stream",
     "text": [
      "100%|██████████| 1/1 [00:02<00:00,  2.57s/it]\n",
      "  0%|          | 0/1 [00:00<?, ?it/s]"
     ]
    },
    {
     "name": "stdout",
     "output_type": "stream",
     "text": [
      "{'mci': 0, 'dementia': 0, 'control': 1}\n",
      "\n"
     ]
    },
    {
     "name": "stderr",
     "output_type": "stream",
     "text": [
      "100%|██████████| 1/1 [00:02<00:00,  2.70s/it]\n",
      "  0%|          | 0/1 [00:00<?, ?it/s]"
     ]
    },
    {
     "name": "stdout",
     "output_type": "stream",
     "text": [
      "{'mci': 0, 'dementia': 0, 'control': 1}\n",
      "\n"
     ]
    },
    {
     "name": "stderr",
     "output_type": "stream",
     "text": [
      "100%|██████████| 1/1 [00:02<00:00,  2.63s/it]\n",
      "  0%|          | 0/1 [00:00<?, ?it/s]"
     ]
    },
    {
     "name": "stdout",
     "output_type": "stream",
     "text": [
      "{'mci': 0, 'dementia': 0, 'control': 1}\n",
      "\n"
     ]
    },
    {
     "name": "stderr",
     "output_type": "stream",
     "text": [
      "100%|██████████| 1/1 [00:03<00:00,  3.17s/it]\n",
      "  0%|          | 0/1 [00:00<?, ?it/s]"
     ]
    },
    {
     "name": "stdout",
     "output_type": "stream",
     "text": [
      "{'mci': 1, 'dementia': 0, 'control': 0}\n",
      "\n"
     ]
    },
    {
     "name": "stderr",
     "output_type": "stream",
     "text": [
      "100%|██████████| 1/1 [00:02<00:00,  2.48s/it]\n",
      "  0%|          | 0/1 [00:00<?, ?it/s]"
     ]
    },
    {
     "name": "stdout",
     "output_type": "stream",
     "text": [
      "{'mci': 1, 'dementia': 0, 'control': 0}\n",
      "\n"
     ]
    },
    {
     "name": "stderr",
     "output_type": "stream",
     "text": [
      "100%|██████████| 1/1 [00:02<00:00,  2.86s/it]\n",
      "  0%|          | 0/1 [00:00<?, ?it/s]"
     ]
    },
    {
     "name": "stdout",
     "output_type": "stream",
     "text": [
      "{'mci': 1, 'dementia': 0, 'control': 0}\n",
      "\n"
     ]
    },
    {
     "name": "stderr",
     "output_type": "stream",
     "text": [
      "100%|██████████| 1/1 [00:02<00:00,  2.97s/it]\n",
      "  0%|          | 0/1 [00:00<?, ?it/s]"
     ]
    },
    {
     "name": "stdout",
     "output_type": "stream",
     "text": [
      "{'mci': 1, 'dementia': 0, 'control': 0}\n",
      "\n"
     ]
    },
    {
     "name": "stderr",
     "output_type": "stream",
     "text": [
      "100%|██████████| 1/1 [00:02<00:00,  2.52s/it]\n",
      "  0%|          | 0/1 [00:00<?, ?it/s]"
     ]
    },
    {
     "name": "stdout",
     "output_type": "stream",
     "text": [
      "{'mci': 1, 'dementia': 0, 'control': 0}\n",
      "\n"
     ]
    },
    {
     "name": "stderr",
     "output_type": "stream",
     "text": [
      "100%|██████████| 1/1 [00:02<00:00,  2.50s/it]\n",
      "  0%|          | 0/1 [00:00<?, ?it/s]"
     ]
    },
    {
     "name": "stdout",
     "output_type": "stream",
     "text": [
      "{'mci': 1, 'dementia': 0, 'control': 0}\n",
      "\n"
     ]
    },
    {
     "name": "stderr",
     "output_type": "stream",
     "text": [
      "100%|██████████| 1/1 [00:02<00:00,  2.40s/it]\n",
      "  0%|          | 0/1 [00:00<?, ?it/s]"
     ]
    },
    {
     "name": "stdout",
     "output_type": "stream",
     "text": [
      "{'mci': 1, 'dementia': 0, 'control': 0}\n",
      "\n"
     ]
    },
    {
     "name": "stderr",
     "output_type": "stream",
     "text": [
      "100%|██████████| 1/1 [00:02<00:00,  2.51s/it]\n",
      "  0%|          | 0/1 [00:00<?, ?it/s]"
     ]
    },
    {
     "name": "stdout",
     "output_type": "stream",
     "text": [
      "{'mci': 1, 'dementia': 0, 'control': 0}\n",
      "\n"
     ]
    },
    {
     "name": "stderr",
     "output_type": "stream",
     "text": [
      "100%|██████████| 1/1 [00:03<00:00,  3.17s/it]\n",
      "  0%|          | 0/1 [00:00<?, ?it/s]"
     ]
    },
    {
     "name": "stdout",
     "output_type": "stream",
     "text": [
      "{'mci': 1, 'dementia': 0, 'control': 0}\n",
      "\n"
     ]
    },
    {
     "name": "stderr",
     "output_type": "stream",
     "text": [
      "100%|██████████| 1/1 [00:02<00:00,  2.69s/it]\n",
      "  0%|          | 0/1 [00:00<?, ?it/s]"
     ]
    },
    {
     "name": "stdout",
     "output_type": "stream",
     "text": [
      "{'mci': 1, 'dementia': 0, 'control': 0}\n",
      "\n"
     ]
    },
    {
     "name": "stderr",
     "output_type": "stream",
     "text": [
      "100%|██████████| 1/1 [00:02<00:00,  2.76s/it]\n",
      "  0%|          | 0/1 [00:00<?, ?it/s]"
     ]
    },
    {
     "name": "stdout",
     "output_type": "stream",
     "text": [
      "{'mci': 1, 'dementia': 0, 'control': 0}\n",
      "\n"
     ]
    },
    {
     "name": "stderr",
     "output_type": "stream",
     "text": [
      "100%|██████████| 1/1 [00:02<00:00,  2.70s/it]\n",
      "  0%|          | 0/1 [00:00<?, ?it/s]"
     ]
    },
    {
     "name": "stdout",
     "output_type": "stream",
     "text": [
      "{'mci': 1, 'dementia': 0, 'control': 0}\n",
      "\n"
     ]
    },
    {
     "name": "stderr",
     "output_type": "stream",
     "text": [
      "100%|██████████| 1/1 [00:02<00:00,  2.59s/it]\n",
      "  0%|          | 0/1 [00:00<?, ?it/s]"
     ]
    },
    {
     "name": "stdout",
     "output_type": "stream",
     "text": [
      "{'mci': 0, 'dementia': 1, 'control': 0}\n",
      "\n"
     ]
    },
    {
     "name": "stderr",
     "output_type": "stream",
     "text": [
      "100%|██████████| 1/1 [00:02<00:00,  2.82s/it]\n",
      "  0%|          | 0/1 [00:00<?, ?it/s]"
     ]
    },
    {
     "name": "stdout",
     "output_type": "stream",
     "text": [
      "{'mci': 0, 'dementia': 1, 'control': 0}\n",
      "\n"
     ]
    },
    {
     "name": "stderr",
     "output_type": "stream",
     "text": [
      "100%|██████████| 1/1 [00:02<00:00,  2.70s/it]\n",
      "  0%|          | 0/1 [00:00<?, ?it/s]"
     ]
    },
    {
     "name": "stdout",
     "output_type": "stream",
     "text": [
      "{'mci': 0, 'dementia': 1, 'control': 0}\n",
      "\n"
     ]
    },
    {
     "name": "stderr",
     "output_type": "stream",
     "text": [
      "100%|██████████| 1/1 [00:03<00:00,  3.06s/it]\n",
      "  0%|          | 0/1 [00:00<?, ?it/s]"
     ]
    },
    {
     "name": "stdout",
     "output_type": "stream",
     "text": [
      "{'mci': 0, 'dementia': 1, 'control': 0}\n",
      "\n"
     ]
    },
    {
     "name": "stderr",
     "output_type": "stream",
     "text": [
      "100%|██████████| 1/1 [00:02<00:00,  2.68s/it]\n",
      "  0%|          | 0/1 [00:00<?, ?it/s]"
     ]
    },
    {
     "name": "stdout",
     "output_type": "stream",
     "text": [
      "{'mci': 0, 'dementia': 1, 'control': 0}\n",
      "\n"
     ]
    },
    {
     "name": "stderr",
     "output_type": "stream",
     "text": [
      "100%|██████████| 1/1 [00:02<00:00,  2.72s/it]\n",
      "  0%|          | 0/1 [00:00<?, ?it/s]"
     ]
    },
    {
     "name": "stdout",
     "output_type": "stream",
     "text": [
      "{'mci': 0, 'dementia': 1, 'control': 0}\n",
      "\n"
     ]
    },
    {
     "name": "stderr",
     "output_type": "stream",
     "text": [
      "100%|██████████| 1/1 [00:02<00:00,  2.94s/it]\n",
      "  0%|          | 0/1 [00:00<?, ?it/s]"
     ]
    },
    {
     "name": "stdout",
     "output_type": "stream",
     "text": [
      "{'mci': 0, 'dementia': 1, 'control': 0}\n",
      "\n"
     ]
    },
    {
     "name": "stderr",
     "output_type": "stream",
     "text": [
      "100%|██████████| 1/1 [00:02<00:00,  2.63s/it]\n",
      "  0%|          | 0/1 [00:00<?, ?it/s]"
     ]
    },
    {
     "name": "stdout",
     "output_type": "stream",
     "text": [
      "{'mci': 0, 'dementia': 1, 'control': 0}\n",
      "\n"
     ]
    },
    {
     "name": "stderr",
     "output_type": "stream",
     "text": [
      "100%|██████████| 1/1 [00:02<00:00,  2.70s/it]\n",
      "  0%|          | 0/1 [00:00<?, ?it/s]"
     ]
    },
    {
     "name": "stdout",
     "output_type": "stream",
     "text": [
      "{'mci': 0, 'dementia': 1, 'control': 0}\n",
      "\n"
     ]
    },
    {
     "name": "stderr",
     "output_type": "stream",
     "text": [
      "100%|██████████| 1/1 [00:02<00:00,  2.61s/it]\n",
      "  0%|          | 0/1 [00:00<?, ?it/s]"
     ]
    },
    {
     "name": "stdout",
     "output_type": "stream",
     "text": [
      "{'mci': 0, 'dementia': 1, 'control': 0}\n",
      "\n"
     ]
    },
    {
     "name": "stderr",
     "output_type": "stream",
     "text": [
      "100%|██████████| 1/1 [00:02<00:00,  2.68s/it]\n",
      "  0%|          | 0/1 [00:00<?, ?it/s]"
     ]
    },
    {
     "name": "stdout",
     "output_type": "stream",
     "text": [
      "{'mci': 0, 'dementia': 1, 'control': 0}\n",
      "\n"
     ]
    },
    {
     "name": "stderr",
     "output_type": "stream",
     "text": [
      "100%|██████████| 1/1 [00:02<00:00,  2.83s/it]\n",
      "  0%|          | 0/1 [00:00<?, ?it/s]"
     ]
    },
    {
     "name": "stdout",
     "output_type": "stream",
     "text": [
      "{'mci': 0, 'dementia': 1, 'control': 0}\n",
      "\n"
     ]
    },
    {
     "name": "stderr",
     "output_type": "stream",
     "text": [
      "100%|██████████| 1/1 [00:02<00:00,  2.68s/it]\n",
      "  0%|          | 0/1 [00:00<?, ?it/s]"
     ]
    },
    {
     "name": "stdout",
     "output_type": "stream",
     "text": [
      "{'mci': 0, 'dementia': 1, 'control': 0}\n",
      "\n"
     ]
    },
    {
     "name": "stderr",
     "output_type": "stream",
     "text": [
      "100%|██████████| 1/1 [00:02<00:00,  2.51s/it]\n",
      "  0%|          | 0/1 [00:00<?, ?it/s]"
     ]
    },
    {
     "name": "stdout",
     "output_type": "stream",
     "text": [
      "{'mci': 0, 'dementia': 1, 'control': 0}\n",
      "\n"
     ]
    },
    {
     "name": "stderr",
     "output_type": "stream",
     "text": [
      "100%|██████████| 1/1 [00:02<00:00,  2.67s/it]\n",
      "  0%|          | 0/1 [00:00<?, ?it/s]"
     ]
    },
    {
     "name": "stdout",
     "output_type": "stream",
     "text": [
      "{'mci': 0, 'dementia': 1, 'control': 0}\n",
      "\n"
     ]
    },
    {
     "name": "stderr",
     "output_type": "stream",
     "text": [
      "100%|██████████| 1/1 [00:02<00:00,  2.58s/it]\n",
      "  0%|          | 0/1 [00:00<?, ?it/s]"
     ]
    },
    {
     "name": "stdout",
     "output_type": "stream",
     "text": [
      "{'mci': 0, 'dementia': 1, 'control': 0}\n",
      "\n"
     ]
    },
    {
     "name": "stderr",
     "output_type": "stream",
     "text": [
      "100%|██████████| 1/1 [00:03<00:00,  3.12s/it]\n",
      "  0%|          | 0/1 [00:00<?, ?it/s]"
     ]
    },
    {
     "name": "stdout",
     "output_type": "stream",
     "text": [
      "{'mci': 0, 'dementia': 1, 'control': 0}\n",
      "\n"
     ]
    },
    {
     "name": "stderr",
     "output_type": "stream",
     "text": [
      "100%|██████████| 1/1 [00:03<00:00,  3.03s/it]\n",
      "  0%|          | 0/1 [00:00<?, ?it/s]"
     ]
    },
    {
     "name": "stdout",
     "output_type": "stream",
     "text": [
      "{'mci': 0, 'dementia': 1, 'control': 0}\n",
      "\n"
     ]
    },
    {
     "name": "stderr",
     "output_type": "stream",
     "text": [
      "100%|██████████| 1/1 [00:02<00:00,  2.72s/it]\n",
      "  0%|          | 0/1 [00:00<?, ?it/s]"
     ]
    },
    {
     "name": "stdout",
     "output_type": "stream",
     "text": [
      "{'mci': 0, 'dementia': 1, 'control': 0}\n",
      "\n"
     ]
    },
    {
     "name": "stderr",
     "output_type": "stream",
     "text": [
      "100%|██████████| 1/1 [00:02<00:00,  2.62s/it]\n",
      "  0%|          | 0/1 [00:00<?, ?it/s]"
     ]
    },
    {
     "name": "stdout",
     "output_type": "stream",
     "text": [
      "{'mci': 0, 'dementia': 1, 'control': 0}\n",
      "\n"
     ]
    },
    {
     "name": "stderr",
     "output_type": "stream",
     "text": [
      "100%|██████████| 1/1 [00:02<00:00,  2.47s/it]\n",
      "  0%|          | 0/1 [00:00<?, ?it/s]"
     ]
    },
    {
     "name": "stdout",
     "output_type": "stream",
     "text": [
      "{'mci': 0, 'dementia': 1, 'control': 0}\n",
      "\n"
     ]
    },
    {
     "name": "stderr",
     "output_type": "stream",
     "text": [
      "100%|██████████| 1/1 [00:02<00:00,  2.58s/it]\n",
      "  0%|          | 0/1 [00:00<?, ?it/s]"
     ]
    },
    {
     "name": "stdout",
     "output_type": "stream",
     "text": [
      "{'mci': 0, 'dementia': 1, 'control': 0}\n",
      "\n"
     ]
    },
    {
     "name": "stderr",
     "output_type": "stream",
     "text": [
      "100%|██████████| 1/1 [00:02<00:00,  2.70s/it]\n",
      "  0%|          | 0/1 [00:00<?, ?it/s]"
     ]
    },
    {
     "name": "stdout",
     "output_type": "stream",
     "text": [
      "{'mci': 0, 'dementia': 1, 'control': 0}\n",
      "\n"
     ]
    },
    {
     "name": "stderr",
     "output_type": "stream",
     "text": [
      "100%|██████████| 1/1 [00:03<00:00,  3.04s/it]\n"
     ]
    },
    {
     "name": "stdout",
     "output_type": "stream",
     "text": [
      "Feature output\n"
     ]
    }
   ],
   "source": [
    "results = trainer.test_model(model,test_pipe,fold=fold,keep_data=True, \n",
    "                             data_loaded=False,iterative=False)\n",
    "conf_mat = trainer.evaluate3classes(results[0],results[1],fold=fold,metrics=metrics[1:])\n",
    "results_features_test = trainer.test_model(feature_model,test_pipe,fold,\n",
    "                                             keep_data=False,data_loaded=True,\n",
    "                                             subject_group='test_subjects.json',\n",
    "                                             iterative=False,\n",
    "                                             make_classification=False)\n",
    "results_features_train = trainer.test_model(feature_model,test_pipe,fold,\n",
    "                                             keep_data=False,data_loaded=False,\n",
    "                                             subject_group='train_subjects.json',\n",
    "                                            iterative=True,\n",
    "                                            make_classification=False)\n"
   ]
  },
  {
   "cell_type": "code",
   "execution_count": null,
   "metadata": {
    "colab": {
     "base_uri": "https://localhost:8080/"
    },
    "executionInfo": {
     "elapsed": 638,
     "status": "ok",
     "timestamp": 1614103945013,
     "user": {
      "displayName": "marc",
      "photoUrl": "",
      "userId": "05336137283309084315"
     },
     "user_tz": -60
    },
    "id": "u13jllMqBjgh",
    "outputId": "dc2fa222-1ecc-4d32-8b4d-9e900d8fd49c"
   },
   "outputs": [
    {
     "data": {
      "text/plain": [
       "(30, 128, 3)"
      ]
     },
     "execution_count": 19,
     "metadata": {
      "tags": []
     },
     "output_type": "execute_result"
    }
   ],
   "source": [
    "results[1].shape"
   ]
  },
  {
   "cell_type": "code",
   "execution_count": null,
   "metadata": {
    "colab": {
     "base_uri": "https://localhost:8080/",
     "height": 1000
    },
    "executionInfo": {
     "elapsed": 176672,
     "status": "ok",
     "timestamp": 1613860813082,
     "user": {
      "displayName": "marc",
      "photoUrl": "",
      "userId": "05336137283309084315"
     },
     "user_tz": -60
    },
    "id": "N_0UlQCvMM-B",
    "outputId": "227d7183-5820-42d8-b2b9-af41a96b8a5c"
   },
   "outputs": [
    {
     "name": "stdout",
     "output_type": "stream",
     "text": [
      "{'mci': 4, 'dementia': 5, 'control': 20}\n",
      "[{'bad_samples_path': '../BioMagData/badsamples1000Hz', 'frame_length': 512, 'h_freq': 30, 'l_freq': 1, 'site_as_label': False, 'fs': 256, 'file': '100Hzcontrol035raw.fif'}, {'bad_samples_path': '../BioMagData/badsamples1000Hz', 'frame_length': 512, 'h_freq': 30, 'l_freq': 1, 'site_as_label': False, 'fs': 256, 'file': '100Hzcontrol040raw.fif'}, {'bad_samples_path': '../BioMagData/badsamples1000Hz', 'frame_length': 512, 'h_freq': 30, 'l_freq': 1, 'site_as_label': False, 'fs': 256, 'file': '100Hzcontrol045raw.fif'}, {'bad_samples_path': '../BioMagData/badsamples1000Hz', 'frame_length': 512, 'h_freq': 30, 'l_freq': 1, 'site_as_label': False, 'fs': 256, 'file': '100Hzcontrol046raw.fif'}, {'bad_samples_path': '../BioMagData/badsamples1000Hz', 'frame_length': 512, 'h_freq': 30, 'l_freq': 1, 'site_as_label': False, 'fs': 256, 'file': '100Hzcontrol047raw.fif'}, {'bad_samples_path': '../BioMagData/badsamples1000Hz', 'frame_length': 512, 'h_freq': 30, 'l_freq': 1, 'site_as_label': False, 'fs': 256, 'file': '100Hzcontrol048raw.fif'}, {'bad_samples_path': '../BioMagData/badsamples1000Hz', 'frame_length': 512, 'h_freq': 30, 'l_freq': 1, 'site_as_label': False, 'fs': 256, 'file': '100Hzcontrol049raw.fif'}, {'bad_samples_path': '../BioMagData/badsamples1000Hz', 'frame_length': 512, 'h_freq': 30, 'l_freq': 1, 'site_as_label': False, 'fs': 256, 'file': '100Hzcontrol050raw.fif'}, {'bad_samples_path': '../BioMagData/badsamples1000Hz', 'frame_length': 512, 'h_freq': 30, 'l_freq': 1, 'site_as_label': False, 'fs': 256, 'file': '100Hzcontrol051raw.fif'}, {'bad_samples_path': '../BioMagData/badsamples1000Hz', 'frame_length': 512, 'h_freq': 30, 'l_freq': 1, 'site_as_label': False, 'fs': 256, 'file': '100Hzcontrol052raw.fif'}, {'bad_samples_path': '../BioMagData/badsamples1000Hz', 'frame_length': 512, 'h_freq': 30, 'l_freq': 1, 'site_as_label': False, 'fs': 256, 'file': '100Hzcontrol053raw.fif'}, {'bad_samples_path': '../BioMagData/badsamples1000Hz', 'frame_length': 512, 'h_freq': 30, 'l_freq': 1, 'site_as_label': False, 'fs': 256, 'file': '100Hzcontrol054raw.fif'}, {'bad_samples_path': '../BioMagData/badsamples1000Hz', 'frame_length': 512, 'h_freq': 30, 'l_freq': 1, 'site_as_label': False, 'fs': 256, 'file': '100Hzcontrol055raw.fif'}, {'bad_samples_path': '../BioMagData/badsamples1000Hz', 'frame_length': 512, 'h_freq': 30, 'l_freq': 1, 'site_as_label': False, 'fs': 256, 'file': '100Hzcontrol056raw.fif'}, {'bad_samples_path': '../BioMagData/badsamples1000Hz', 'frame_length': 512, 'h_freq': 30, 'l_freq': 1, 'site_as_label': False, 'fs': 256, 'file': '100Hzcontrol057raw.fif'}, {'bad_samples_path': '../BioMagData/badsamples1000Hz', 'frame_length': 512, 'h_freq': 30, 'l_freq': 1, 'site_as_label': False, 'fs': 256, 'file': '100Hzcontrol058raw.fif'}, {'bad_samples_path': '../BioMagData/badsamples1000Hz', 'frame_length': 512, 'h_freq': 30, 'l_freq': 1, 'site_as_label': False, 'fs': 256, 'file': '100Hzcontrol059raw.fif'}, {'bad_samples_path': '../BioMagData/badsamples1000Hz', 'frame_length': 512, 'h_freq': 30, 'l_freq': 1, 'site_as_label': False, 'fs': 256, 'file': '100Hzcontrol060raw.fif'}, {'bad_samples_path': '../BioMagData/badsamples1000Hz', 'frame_length': 512, 'h_freq': 30, 'l_freq': 1, 'site_as_label': False, 'fs': 256, 'file': '100Hzcontrol061raw.fif'}, {'bad_samples_path': '../BioMagData/badsamples1000Hz', 'frame_length': 512, 'h_freq': 30, 'l_freq': 1, 'site_as_label': False, 'fs': 256, 'file': '100Hzcontrol077raw.fif'}, {'bad_samples_path': '../BioMagData/badsamples1000Hz', 'frame_length': 512, 'h_freq': 30, 'l_freq': 1, 'site_as_label': False, 'fs': 256, 'file': '100Hzdementia008raw.fif'}, {'bad_samples_path': '../BioMagData/badsamples1000Hz', 'frame_length': 512, 'h_freq': 30, 'l_freq': 1, 'site_as_label': False, 'fs': 256, 'file': '100Hzdementia009raw.fif'}, {'bad_samples_path': '../BioMagData/badsamples1000Hz', 'frame_length': 512, 'h_freq': 30, 'l_freq': 1, 'site_as_label': False, 'fs': 256, 'file': '100Hzdementia016raw.fif'}, {'bad_samples_path': '../BioMagData/badsamples1000Hz', 'frame_length': 512, 'h_freq': 30, 'l_freq': 1, 'site_as_label': False, 'fs': 256, 'file': '100Hzdementia017raw.fif'}, {'bad_samples_path': '../BioMagData/badsamples1000Hz', 'frame_length': 512, 'h_freq': 30, 'l_freq': 1, 'site_as_label': False, 'fs': 256, 'file': '100Hzdementia018raw.fif'}, {'bad_samples_path': '../BioMagData/badsamples1000Hz', 'frame_length': 512, 'h_freq': 30, 'l_freq': 1, 'site_as_label': False, 'fs': 256, 'file': '100Hzmci006raw.fif'}, {'bad_samples_path': '../BioMagData/badsamples1000Hz', 'frame_length': 512, 'h_freq': 30, 'l_freq': 1, 'site_as_label': False, 'fs': 256, 'file': '100Hzmci007raw.fif'}, {'bad_samples_path': '../BioMagData/badsamples1000Hz', 'frame_length': 512, 'h_freq': 30, 'l_freq': 1, 'site_as_label': False, 'fs': 256, 'file': '100Hzmci008raw.fif'}, {'bad_samples_path': '../BioMagData/badsamples1000Hz', 'frame_length': 512, 'h_freq': 30, 'l_freq': 1, 'site_as_label': False, 'fs': 256, 'file': '100Hzmci011raw.fif'}]\n"
     ]
    },
    {
     "name": "stderr",
     "output_type": "stream",
     "text": [
      "  0%|          | 0/29 [00:00<?, ?it/s]"
     ]
    },
    {
     "name": "stdout",
     "output_type": "stream",
     "text": [
      "\n"
     ]
    },
    {
     "name": "stderr",
     "output_type": "stream",
     "text": [
      "100%|██████████| 29/29 [01:09<00:00,  2.40s/it]\n"
     ]
    },
    {
     "name": "stdout",
     "output_type": "stream",
     "text": [
      "Exponential moving z score with alpha: 0.0005\n"
     ]
    },
    {
     "name": "stderr",
     "output_type": "stream",
     "text": [
      "/content/drive/MyDrive/biomag21/libs/GeneratorCNN.py:468: UserWarning: Make sure that the recording site is provided for each subject.\n",
      "  warnings.warn('Make sure that the recording site is provided for each subject.')\n"
     ]
    },
    {
     "name": "stdout",
     "output_type": "stream",
     "text": [
      "Missclassified subjects:  ['control35' 'control40' 'control45' 'control46' 'control47' 'control48'\n",
      " 'control49' 'control50' 'control51' 'control52' 'control53' 'control54'\n",
      " 'control55' 'control56' 'control57' 'control58' 'control59' 'control60'\n",
      " 'control61' 'control77' 'dementia8' 'dementia9' 'dementia16' 'dementia17'\n",
      " 'dementia18' 'mci6' 'mci7' 'mci8' 'mci11']\n",
      "Todo: Wrap into method\n"
     ]
    },
    {
     "data": {
      "text/plain": [
       "<Figure size 432x288 with 0 Axes>"
      ]
     },
     "metadata": {
      "tags": []
     },
     "output_type": "display_data"
    },
    {
     "data": {
      "image/png": "[encoded data removed]",
      "text/plain": [
       "<Figure size 1080x432 with 3 Axes>"
      ]
     },
     "metadata": {
      "needs_background": "light",
      "tags": []
     },
     "output_type": "display_data"
    },
    {
     "data": {
      "image/png": "[encoded data removed]",
      "text/plain": [
       "<Figure size 720x720 with 1 Axes>"
      ]
     },
     "metadata": {
      "needs_background": "light",
      "tags": []
     },
     "output_type": "display_data"
    },
    {
     "name": "stdout",
     "output_type": "stream",
     "text": [
      "Cohen's Kappa:  0.3695652\n"
     ]
    }
   ],
   "source": [
    "\n",
    "results = trainer.test_model(last_model,valid_pipe,fold=4)\n"
   ]
  },
  {
   "cell_type": "code",
   "execution_count": null,
   "metadata": {
    "colab": {
     "base_uri": "https://localhost:8080/"
    },
    "id": "7dx7lIGYrMMT",
    "outputId": "0e1b23d1-bfc3-42ea-fa76-47c699dde392"
   },
   "outputs": [
    {
     "name": "stdout",
     "output_type": "stream",
     "text": [
      "Model folder already exists. Do you want to continue? Y,NY\n",
      "{'mci': 11, 'dementia': 24, 'control': 80}\n",
      "[{'bad_samples_path': '../BioMagData/badsamples1000Hz', 'frame_length': 512, 'h_freq': 30, 'l_freq': 1, 'site_as_label': False, 'fs': 256, 'file': '100Hzcontrol002raw.fif'}, {'bad_samples_path': '../BioMagData/badsamples1000Hz', 'frame_length': 512, 'h_freq': 30, 'l_freq': 1, 'site_as_label': False, 'fs': 256, 'file': '100Hzcontrol003raw.fif'}, {'bad_samples_path': '../BioMagData/badsamples1000Hz', 'frame_length': 512, 'h_freq': 30, 'l_freq': 1, 'site_as_label': False, 'fs': 256, 'file': '100Hzcontrol005raw.fif'}, {'bad_samples_path': '../BioMagData/badsamples1000Hz', 'frame_length': 512, 'h_freq': 30, 'l_freq': 1, 'site_as_label': False, 'fs': 256, 'file': '100Hzcontrol006raw.fif'}, {'bad_samples_path': '../BioMagData/badsamples1000Hz', 'frame_length': 512, 'h_freq': 30, 'l_freq': 1, 'site_as_label': False, 'fs': 256, 'file': '100Hzcontrol007raw.fif'}, {'bad_samples_path': '../BioMagData/badsamples1000Hz', 'frame_length': 512, 'h_freq': 30, 'l_freq': 1, 'site_as_label': False, 'fs': 256, 'file': '100Hzcontrol008raw.fif'}, {'bad_samples_path': '../BioMagData/badsamples1000Hz', 'frame_length': 512, 'h_freq': 30, 'l_freq': 1, 'site_as_label': False, 'fs': 256, 'file': '100Hzcontrol009raw.fif'}, {'bad_samples_path': '../BioMagData/badsamples1000Hz', 'frame_length': 512, 'h_freq': 30, 'l_freq': 1, 'site_as_label': False, 'fs': 256, 'file': '100Hzcontrol010raw.fif'}, {'bad_samples_path': '../BioMagData/badsamples1000Hz', 'frame_length': 512, 'h_freq': 30, 'l_freq': 1, 'site_as_label': False, 'fs': 256, 'file': '100Hzcontrol011raw.fif'}, {'bad_samples_path': '../BioMagData/badsamples1000Hz', 'frame_length': 512, 'h_freq': 30, 'l_freq': 1, 'site_as_label': False, 'fs': 256, 'file': '100Hzcontrol012raw.fif'}, {'bad_samples_path': '../BioMagData/badsamples1000Hz', 'frame_length': 512, 'h_freq': 30, 'l_freq': 1, 'site_as_label': False, 'fs': 256, 'file': '100Hzcontrol013raw.fif'}, {'bad_samples_path': '../BioMagData/badsamples1000Hz', 'frame_length': 512, 'h_freq': 30, 'l_freq': 1, 'site_as_label': False, 'fs': 256, 'file': '100Hzcontrol014raw.fif'}, {'bad_samples_path': '../BioMagData/badsamples1000Hz', 'frame_length': 512, 'h_freq': 30, 'l_freq': 1, 'site_as_label': False, 'fs': 256, 'file': '100Hzcontrol015raw.fif'}, {'bad_samples_path': '../BioMagData/badsamples1000Hz', 'frame_length': 512, 'h_freq': 30, 'l_freq': 1, 'site_as_label': False, 'fs': 256, 'file': '100Hzcontrol016raw.fif'}, {'bad_samples_path': '../BioMagData/badsamples1000Hz', 'frame_length': 512, 'h_freq': 30, 'l_freq': 1, 'site_as_label': False, 'fs': 256, 'file': '100Hzcontrol017raw.fif'}, {'bad_samples_path': '../BioMagData/badsamples1000Hz', 'frame_length': 512, 'h_freq': 30, 'l_freq': 1, 'site_as_label': False, 'fs': 256, 'file': '100Hzcontrol018raw.fif'}, {'bad_samples_path': '../BioMagData/badsamples1000Hz', 'frame_length': 512, 'h_freq': 30, 'l_freq': 1, 'site_as_label': False, 'fs': 256, 'file': '100Hzcontrol019raw.fif'}, {'bad_samples_path': '../BioMagData/badsamples1000Hz', 'frame_length': 512, 'h_freq': 30, 'l_freq': 1, 'site_as_label': False, 'fs': 256, 'file': '100Hzcontrol020raw.fif'}, {'bad_samples_path': '../BioMagData/badsamples1000Hz', 'frame_length': 512, 'h_freq': 30, 'l_freq': 1, 'site_as_label': False, 'fs': 256, 'file': '100Hzcontrol021raw.fif'}, {'bad_samples_path': '../BioMagData/badsamples1000Hz', 'frame_length': 512, 'h_freq': 30, 'l_freq': 1, 'site_as_label': False, 'fs': 256, 'file': '100Hzcontrol022raw.fif'}, {'bad_samples_path': '../BioMagData/badsamples1000Hz', 'frame_length': 512, 'h_freq': 30, 'l_freq': 1, 'site_as_label': False, 'fs': 256, 'file': '100Hzcontrol023raw.fif'}, {'bad_samples_path': '../BioMagData/badsamples1000Hz', 'frame_length': 512, 'h_freq': 30, 'l_freq': 1, 'site_as_label': False, 'fs': 256, 'file': '100Hzcontrol024raw.fif'}, {'bad_samples_path': '../BioMagData/badsamples1000Hz', 'frame_length': 512, 'h_freq': 30, 'l_freq': 1, 'site_as_label': False, 'fs': 256, 'file': '100Hzcontrol025raw.fif'}, {'bad_samples_path': '../BioMagData/badsamples1000Hz', 'frame_length': 512, 'h_freq': 30, 'l_freq': 1, 'site_as_label': False, 'fs': 256, 'file': '100Hzcontrol026raw.fif'}, {'bad_samples_path': '../BioMagData/badsamples1000Hz', 'frame_length': 512, 'h_freq': 30, 'l_freq': 1, 'site_as_label': False, 'fs': 256, 'file': '100Hzcontrol027raw.fif'}, {'bad_samples_path': '../BioMagData/badsamples1000Hz', 'frame_length': 512, 'h_freq': 30, 'l_freq': 1, 'site_as_label': False, 'fs': 256, 'file': '100Hzcontrol028raw.fif'}, {'bad_samples_path': '../BioMagData/badsamples1000Hz', 'frame_length': 512, 'h_freq': 30, 'l_freq': 1, 'site_as_label': False, 'fs': 256, 'file': '100Hzcontrol029raw.fif'}, {'bad_samples_path': '../BioMagData/badsamples1000Hz', 'frame_length': 512, 'h_freq': 30, 'l_freq': 1, 'site_as_label': False, 'fs': 256, 'file': '100Hzcontrol030raw.fif'}, {'bad_samples_path': '../BioMagData/badsamples1000Hz', 'frame_length': 512, 'h_freq': 30, 'l_freq': 1, 'site_as_label': False, 'fs': 256, 'file': '100Hzcontrol031raw.fif'}, {'bad_samples_path': '../BioMagData/badsamples1000Hz', 'frame_length': 512, 'h_freq': 30, 'l_freq': 1, 'site_as_label': False, 'fs': 256, 'file': '100Hzcontrol032raw.fif'}, {'bad_samples_path': '../BioMagData/badsamples1000Hz', 'frame_length': 512, 'h_freq': 30, 'l_freq': 1, 'site_as_label': False, 'fs': 256, 'file': '100Hzcontrol036raw.fif'}, {'bad_samples_path': '../BioMagData/badsamples1000Hz', 'frame_length': 512, 'h_freq': 30, 'l_freq': 1, 'site_as_label': False, 'fs': 256, 'file': '100Hzcontrol038raw.fif'}, {'bad_samples_path': '../BioMagData/badsamples1000Hz', 'frame_length': 512, 'h_freq': 30, 'l_freq': 1, 'site_as_label': False, 'fs': 256, 'file': '100Hzcontrol041raw.fif'}, {'bad_samples_path': '../BioMagData/badsamples1000Hz', 'frame_length': 512, 'h_freq': 30, 'l_freq': 1, 'site_as_label': False, 'fs': 256, 'file': '100Hzcontrol043raw.fif'}, {'bad_samples_path': '../BioMagData/badsamples1000Hz', 'frame_length': 512, 'h_freq': 30, 'l_freq': 1, 'site_as_label': False, 'fs': 256, 'file': '100Hzcontrol042raw.fif'}, {'bad_samples_path': '../BioMagData/badsamples1000Hz', 'frame_length': 512, 'h_freq': 30, 'l_freq': 1, 'site_as_label': False, 'fs': 256, 'file': '100Hzcontrol001raw.fif'}, {'bad_samples_path': '../BioMagData/badsamples1000Hz', 'frame_length': 512, 'h_freq': 30, 'l_freq': 1, 'site_as_label': False, 'fs': 256, 'file': '100Hzcontrol004raw.fif'}, {'bad_samples_path': '../BioMagData/badsamples1000Hz', 'frame_length': 512, 'h_freq': 30, 'l_freq': 1, 'site_as_label': False, 'fs': 256, 'file': '100Hzcontrol033raw.fif'}, {'bad_samples_path': '../BioMagData/badsamples1000Hz', 'frame_length': 512, 'h_freq': 30, 'l_freq': 1, 'site_as_label': False, 'fs': 256, 'file': '100Hzcontrol034raw.fif'}, {'bad_samples_path': '../BioMagData/badsamples1000Hz', 'frame_length': 512, 'h_freq': 30, 'l_freq': 1, 'site_as_label': False, 'fs': 256, 'file': '100Hzcontrol044raw.fif'}, {'bad_samples_path': '../BioMagData/badsamples1000Hz', 'frame_length': 512, 'h_freq': 30, 'l_freq': 1, 'site_as_label': False, 'fs': 256, 'file': '100Hzcontrol062raw.fif'}, {'bad_samples_path': '../BioMagData/badsamples1000Hz', 'frame_length': 512, 'h_freq': 30, 'l_freq': 1, 'site_as_label': False, 'fs': 256, 'file': '100Hzcontrol063raw.fif'}, {'bad_samples_path': '../BioMagData/badsamples1000Hz', 'frame_length': 512, 'h_freq': 30, 'l_freq': 1, 'site_as_label': False, 'fs': 256, 'file': '100Hzcontrol064raw.fif'}, {'bad_samples_path': '../BioMagData/badsamples1000Hz', 'frame_length': 512, 'h_freq': 30, 'l_freq': 1, 'site_as_label': False, 'fs': 256, 'file': '100Hzcontrol065raw.fif'}, {'bad_samples_path': '../BioMagData/badsamples1000Hz', 'frame_length': 512, 'h_freq': 30, 'l_freq': 1, 'site_as_label': False, 'fs': 256, 'file': '100Hzcontrol066raw.fif'}, {'bad_samples_path': '../BioMagData/badsamples1000Hz', 'frame_length': 512, 'h_freq': 30, 'l_freq': 1, 'site_as_label': False, 'fs': 256, 'file': '100Hzcontrol067raw.fif'}, {'bad_samples_path': '../BioMagData/badsamples1000Hz', 'frame_length': 512, 'h_freq': 30, 'l_freq': 1, 'site_as_label': False, 'fs': 256, 'file': '100Hzcontrol068raw.fif'}, {'bad_samples_path': '../BioMagData/badsamples1000Hz', 'frame_length': 512, 'h_freq': 30, 'l_freq': 1, 'site_as_label': False, 'fs': 256, 'file': '100Hzcontrol069raw.fif'}, {'bad_samples_path': '../BioMagData/badsamples1000Hz', 'frame_length': 512, 'h_freq': 30, 'l_freq': 1, 'site_as_label': False, 'fs': 256, 'file': '100Hzcontrol070raw.fif'}, {'bad_samples_path': '../BioMagData/badsamples1000Hz', 'frame_length': 512, 'h_freq': 30, 'l_freq': 1, 'site_as_label': False, 'fs': 256, 'file': '100Hzcontrol071raw.fif'}, {'bad_samples_path': '../BioMagData/badsamples1000Hz', 'frame_length': 512, 'h_freq': 30, 'l_freq': 1, 'site_as_label': False, 'fs': 256, 'file': '100Hzcontrol072raw.fif'}, {'bad_samples_path': '../BioMagData/badsamples1000Hz', 'frame_length': 512, 'h_freq': 30, 'l_freq': 1, 'site_as_label': False, 'fs': 256, 'file': '100Hzcontrol073raw.fif'}, {'bad_samples_path': '../BioMagData/badsamples1000Hz', 'frame_length': 512, 'h_freq': 30, 'l_freq': 1, 'site_as_label': False, 'fs': 256, 'file': '100Hzcontrol074raw.fif'}, {'bad_samples_path': '../BioMagData/badsamples1000Hz', 'frame_length': 512, 'h_freq': 30, 'l_freq': 1, 'site_as_label': False, 'fs': 256, 'file': '100Hzcontrol075raw.fif'}, {'bad_samples_path': '../BioMagData/badsamples1000Hz', 'frame_length': 512, 'h_freq': 30, 'l_freq': 1, 'site_as_label': False, 'fs': 256, 'file': '100Hzcontrol076raw.fif'}, {'bad_samples_path': '../BioMagData/badsamples1000Hz', 'frame_length': 512, 'h_freq': 30, 'l_freq': 1, 'site_as_label': False, 'fs': 256, 'file': '100Hzcontrol078raw.fif'}, {'bad_samples_path': '../BioMagData/badsamples1000Hz', 'frame_length': 512, 'h_freq': 30, 'l_freq': 1, 'site_as_label': False, 'fs': 256, 'file': '100Hzcontrol079raw.fif'}, {'bad_samples_path': '../BioMagData/badsamples1000Hz', 'frame_length': 512, 'h_freq': 30, 'l_freq': 1, 'site_as_label': False, 'fs': 256, 'file': '100Hzcontrol080raw.fif'}, {'bad_samples_path': '../BioMagData/badsamples1000Hz', 'frame_length': 512, 'h_freq': 30, 'l_freq': 1, 'site_as_label': False, 'fs': 256, 'file': '100Hzcontrol081raw.fif'}, {'bad_samples_path': '../BioMagData/badsamples1000Hz', 'frame_length': 512, 'h_freq': 30, 'l_freq': 1, 'site_as_label': False, 'fs': 256, 'file': '100Hzcontrol082raw.fif'}, {'bad_samples_path': '../BioMagData/badsamples1000Hz', 'frame_length': 512, 'h_freq': 30, 'l_freq': 1, 'site_as_label': False, 'fs': 256, 'file': '100Hzcontrol083raw.fif'}, {'bad_samples_path': '../BioMagData/badsamples1000Hz', 'frame_length': 512, 'h_freq': 30, 'l_freq': 1, 'site_as_label': False, 'fs': 256, 'file': '100Hzcontrol084raw.fif'}, {'bad_samples_path': '../BioMagData/badsamples1000Hz', 'frame_length': 512, 'h_freq': 30, 'l_freq': 1, 'site_as_label': False, 'fs': 256, 'file': '100Hzcontrol085raw.fif'}, {'bad_samples_path': '../BioMagData/badsamples1000Hz', 'frame_length': 512, 'h_freq': 30, 'l_freq': 1, 'site_as_label': False, 'fs': 256, 'file': '100Hzcontrol086raw.fif'}, {'bad_samples_path': '../BioMagData/badsamples1000Hz', 'frame_length': 512, 'h_freq': 30, 'l_freq': 1, 'site_as_label': False, 'fs': 256, 'file': '100Hzcontrol087raw.fif'}, {'bad_samples_path': '../BioMagData/badsamples1000Hz', 'frame_length': 512, 'h_freq': 30, 'l_freq': 1, 'site_as_label': False, 'fs': 256, 'file': '100Hzcontrol088raw.fif'}, {'bad_samples_path': '../BioMagData/badsamples1000Hz', 'frame_length': 512, 'h_freq': 30, 'l_freq': 1, 'site_as_label': False, 'fs': 256, 'file': '100Hzcontrol089raw.fif'}, {'bad_samples_path': '../BioMagData/badsamples1000Hz', 'frame_length': 512, 'h_freq': 30, 'l_freq': 1, 'site_as_label': False, 'fs': 256, 'file': '100Hzcontrol090raw.fif'}, {'bad_samples_path': '../BioMagData/badsamples1000Hz', 'frame_length': 512, 'h_freq': 30, 'l_freq': 1, 'site_as_label': False, 'fs': 256, 'file': '100Hzcontrol091raw.fif'}, {'bad_samples_path': '../BioMagData/badsamples1000Hz', 'frame_length': 512, 'h_freq': 30, 'l_freq': 1, 'site_as_label': False, 'fs': 256, 'file': '100Hzcontrol092raw.fif'}, {'bad_samples_path': '../BioMagData/badsamples1000Hz', 'frame_length': 512, 'h_freq': 30, 'l_freq': 1, 'site_as_label': False, 'fs': 256, 'file': '100Hzcontrol093raw.fif'}, {'bad_samples_path': '../BioMagData/badsamples1000Hz', 'frame_length': 512, 'h_freq': 30, 'l_freq': 1, 'site_as_label': False, 'fs': 256, 'file': '100Hzcontrol094raw.fif'}, {'bad_samples_path': '../BioMagData/badsamples1000Hz', 'frame_length': 512, 'h_freq': 30, 'l_freq': 1, 'site_as_label': False, 'fs': 256, 'file': '100Hzcontrol095raw.fif'}, {'bad_samples_path': '../BioMagData/badsamples1000Hz', 'frame_length': 512, 'h_freq': 30, 'l_freq': 1, 'site_as_label': False, 'fs': 256, 'file': '100Hzcontrol096raw.fif'}, {'bad_samples_path': '../BioMagData/badsamples1000Hz', 'frame_length': 512, 'h_freq': 30, 'l_freq': 1, 'site_as_label': False, 'fs': 256, 'file': '100Hzcontrol097raw.fif'}, {'bad_samples_path': '../BioMagData/badsamples1000Hz', 'frame_length': 512, 'h_freq': 30, 'l_freq': 1, 'site_as_label': False, 'fs': 256, 'file': '100Hzcontrol098raw.fif'}, {'bad_samples_path': '../BioMagData/badsamples1000Hz', 'frame_length': 512, 'h_freq': 30, 'l_freq': 1, 'site_as_label': False, 'fs': 256, 'file': '100Hzcontrol099raw.fif'}, {'bad_samples_path': '../BioMagData/badsamples1000Hz', 'frame_length': 512, 'h_freq': 30, 'l_freq': 1, 'site_as_label': False, 'fs': 256, 'file': '100Hzcontrol100raw.fif'}, {'bad_samples_path': '../BioMagData/badsamples1000Hz', 'frame_length': 512, 'h_freq': 30, 'l_freq': 1, 'site_as_label': False, 'fs': 256, 'file': '100Hzdementia001raw.fif'}, {'bad_samples_path': '../BioMagData/badsamples1000Hz', 'frame_length': 512, 'h_freq': 30, 'l_freq': 1, 'site_as_label': False, 'fs': 256, 'file': '100Hzdementia002raw.fif'}, {'bad_samples_path': '../BioMagData/badsamples1000Hz', 'frame_length': 512, 'h_freq': 30, 'l_freq': 1, 'site_as_label': False, 'fs': 256, 'file': '100Hzdementia003raw.fif'}, {'bad_samples_path': '../BioMagData/badsamples1000Hz', 'frame_length': 512, 'h_freq': 30, 'l_freq': 1, 'site_as_label': False, 'fs': 256, 'file': '100Hzdementia004raw.fif'}, {'bad_samples_path': '../BioMagData/badsamples1000Hz', 'frame_length': 512, 'h_freq': 30, 'l_freq': 1, 'site_as_label': False, 'fs': 256, 'file': '100Hzdementia005raw.fif'}, {'bad_samples_path': '../BioMagData/badsamples1000Hz', 'frame_length': 512, 'h_freq': 30, 'l_freq': 1, 'site_as_label': False, 'fs': 256, 'file': '100Hzdementia006raw.fif'}, {'bad_samples_path': '../BioMagData/badsamples1000Hz', 'frame_length': 512, 'h_freq': 30, 'l_freq': 1, 'site_as_label': False, 'fs': 256, 'file': '100Hzdementia007raw.fif'}, {'bad_samples_path': '../BioMagData/badsamples1000Hz', 'frame_length': 512, 'h_freq': 30, 'l_freq': 1, 'site_as_label': False, 'fs': 256, 'file': '100Hzdementia010raw.fif'}, {'bad_samples_path': '../BioMagData/badsamples1000Hz', 'frame_length': 512, 'h_freq': 30, 'l_freq': 1, 'site_as_label': False, 'fs': 256, 'file': '100Hzdementia011raw.fif'}, {'bad_samples_path': '../BioMagData/badsamples1000Hz', 'frame_length': 512, 'h_freq': 30, 'l_freq': 1, 'site_as_label': False, 'fs': 256, 'file': '100Hzdementia012raw.fif'}, {'bad_samples_path': '../BioMagData/badsamples1000Hz', 'frame_length': 512, 'h_freq': 30, 'l_freq': 1, 'site_as_label': False, 'fs': 256, 'file': '100Hzdementia013raw.fif'}, {'bad_samples_path': '../BioMagData/badsamples1000Hz', 'frame_length': 512, 'h_freq': 30, 'l_freq': 1, 'site_as_label': False, 'fs': 256, 'file': '100Hzdementia014raw.fif'}, {'bad_samples_path': '../BioMagData/badsamples1000Hz', 'frame_length': 512, 'h_freq': 30, 'l_freq': 1, 'site_as_label': False, 'fs': 256, 'file': '100Hzdementia015raw.fif'}, {'bad_samples_path': '../BioMagData/badsamples1000Hz', 'frame_length': 512, 'h_freq': 30, 'l_freq': 1, 'site_as_label': False, 'fs': 256, 'file': '100Hzdementia019raw.fif'}, {'bad_samples_path': '../BioMagData/badsamples1000Hz', 'frame_length': 512, 'h_freq': 30, 'l_freq': 1, 'site_as_label': False, 'fs': 256, 'file': '100Hzdementia020raw.fif'}, {'bad_samples_path': '../BioMagData/badsamples1000Hz', 'frame_length': 512, 'h_freq': 30, 'l_freq': 1, 'site_as_label': False, 'fs': 256, 'file': '100Hzdementia021raw.fif'}, {'bad_samples_path': '../BioMagData/badsamples1000Hz', 'frame_length': 512, 'h_freq': 30, 'l_freq': 1, 'site_as_label': False, 'fs': 256, 'file': '100Hzdementia022raw.fif'}, {'bad_samples_path': '../BioMagData/badsamples1000Hz', 'frame_length': 512, 'h_freq': 30, 'l_freq': 1, 'site_as_label': False, 'fs': 256, 'file': '100Hzdementia023raw.fif'}, {'bad_samples_path': '../BioMagData/badsamples1000Hz', 'frame_length': 512, 'h_freq': 30, 'l_freq': 1, 'site_as_label': False, 'fs': 256, 'file': '100Hzdementia024raw.fif'}, {'bad_samples_path': '../BioMagData/badsamples1000Hz', 'frame_length': 512, 'h_freq': 30, 'l_freq': 1, 'site_as_label': False, 'fs': 256, 'file': '100Hzdementia025raw.fif'}, {'bad_samples_path': '../BioMagData/badsamples1000Hz', 'frame_length': 512, 'h_freq': 30, 'l_freq': 1, 'site_as_label': False, 'fs': 256, 'file': '100Hzdementia026raw.fif'}, {'bad_samples_path': '../BioMagData/badsamples1000Hz', 'frame_length': 512, 'h_freq': 30, 'l_freq': 1, 'site_as_label': False, 'fs': 256, 'file': '100Hzdementia027raw.fif'}, {'bad_samples_path': '../BioMagData/badsamples1000Hz', 'frame_length': 512, 'h_freq': 30, 'l_freq': 1, 'site_as_label': False, 'fs': 256, 'file': '100Hzdementia028raw.fif'}, {'bad_samples_path': '../BioMagData/badsamples1000Hz', 'frame_length': 512, 'h_freq': 30, 'l_freq': 1, 'site_as_label': False, 'fs': 256, 'file': '100Hzdementia029raw.fif'}, {'bad_samples_path': '../BioMagData/badsamples1000Hz', 'frame_length': 512, 'h_freq': 30, 'l_freq': 1, 'site_as_label': False, 'fs': 256, 'file': '100Hzmci001raw.fif'}, {'bad_samples_path': '../BioMagData/badsamples1000Hz', 'frame_length': 512, 'h_freq': 30, 'l_freq': 1, 'site_as_label': False, 'fs': 256, 'file': '100Hzmci002raw.fif'}, {'bad_samples_path': '../BioMagData/badsamples1000Hz', 'frame_length': 512, 'h_freq': 30, 'l_freq': 1, 'site_as_label': False, 'fs': 256, 'file': '100Hzmci003raw.fif'}, {'bad_samples_path': '../BioMagData/badsamples1000Hz', 'frame_length': 512, 'h_freq': 30, 'l_freq': 1, 'site_as_label': False, 'fs': 256, 'file': '100Hzmci004raw.fif'}, {'bad_samples_path': '../BioMagData/badsamples1000Hz', 'frame_length': 512, 'h_freq': 30, 'l_freq': 1, 'site_as_label': False, 'fs': 256, 'file': '100Hzmci005raw.fif'}, {'bad_samples_path': '../BioMagData/badsamples1000Hz', 'frame_length': 512, 'h_freq': 30, 'l_freq': 1, 'site_as_label': False, 'fs': 256, 'file': '100Hzmci009raw.fif'}, {'bad_samples_path': '../BioMagData/badsamples1000Hz', 'frame_length': 512, 'h_freq': 30, 'l_freq': 1, 'site_as_label': False, 'fs': 256, 'file': '100Hzmci010raw.fif'}, {'bad_samples_path': '../BioMagData/badsamples1000Hz', 'frame_length': 512, 'h_freq': 30, 'l_freq': 1, 'site_as_label': False, 'fs': 256, 'file': '100Hzmci012raw.fif'}, {'bad_samples_path': '../BioMagData/badsamples1000Hz', 'frame_length': 512, 'h_freq': 30, 'l_freq': 1, 'site_as_label': False, 'fs': 256, 'file': '100Hzmci013raw.fif'}, {'bad_samples_path': '../BioMagData/badsamples1000Hz', 'frame_length': 512, 'h_freq': 30, 'l_freq': 1, 'site_as_label': False, 'fs': 256, 'file': '100Hzmci014raw.fif'}, {'bad_samples_path': '../BioMagData/badsamples1000Hz', 'frame_length': 512, 'h_freq': 30, 'l_freq': 1, 'site_as_label': False, 'fs': 256, 'file': '100Hzmci015raw.fif'}, {'bad_samples_path': '../BioMagData/badsamples1000Hz', 'frame_length': 512, 'h_freq': 30, 'l_freq': 1, 'site_as_label': False, 'fs': 256, 'file': '100Hzcontrol037raw.fif'}, {'bad_samples_path': '../BioMagData/badsamples1000Hz', 'frame_length': 512, 'h_freq': 30, 'l_freq': 1, 'site_as_label': False, 'fs': 256, 'file': '100Hzcontrol039raw.fif'}]\n"
     ]
    },
    {
     "name": "stderr",
     "output_type": "stream",
     "text": [
      "  0%|          | 0/115 [00:00<?, ?it/s]"
     ]
    },
    {
     "name": "stdout",
     "output_type": "stream",
     "text": [
      "\n"
     ]
    },
    {
     "name": "stderr",
     "output_type": "stream",
     "text": [
      " 85%|████████▌ | 98/115 [03:15<00:43,  2.56s/it]"
     ]
    }
   ],
   "source": [
    "last_model = trainer.continue_training(2,network)"
   ]
  },
  {
   "cell_type": "code",
   "execution_count": null,
   "metadata": {
    "id": "bAHAl-HVrQZS"
   },
   "outputs": [],
   "source": [
    "trainer.data=1\n",
    "trainer.meta=\"\"\n",
    "results = trainer.test_model(last_model,valid_pipe,fold=2)\n",
    "conf_mat = approach.evaluate(results[0],results[1])"
   ]
  },
  {
   "cell_type": "code",
   "execution_count": null,
   "metadata": {
    "colab": {
     "base_uri": "https://localhost:8080/"
    },
    "executionInfo": {
     "elapsed": 777,
     "status": "ok",
     "timestamp": 1613126819369,
     "user": {
      "displayName": "marc",
      "photoUrl": "",
      "userId": "05336137283309084315"
     },
     "user_tz": -60
    },
    "id": "9SgYmL9k1P1J",
    "outputId": "c25b9ecc-3b01-4fe4-f63b-956b4d348c36"
   },
   "outputs": [
    {
     "data": {
      "text/plain": [
       "0.2901654"
      ]
     },
     "execution_count": 34,
     "metadata": {
      "tags": []
     },
     "output_type": "execute_result"
    }
   ],
   "source": [
    "batch = valid_pipe(np.expand_dims(trainer.data['X'][idx],axis=0),**{'subject_sites':np.array([site=='B']).astype(int),'target_site':np.array([0])})\n",
    "p = last_model.predict(batch)\n",
    "np.mean(p)"
   ]
  },
  {
   "cell_type": "code",
   "execution_count": null,
   "metadata": {
    "colab": {
     "base_uri": "https://localhost:8080/"
    },
    "executionInfo": {
     "elapsed": 631,
     "status": "ok",
     "timestamp": 1613576150923,
     "user": {
      "displayName": "marc",
      "photoUrl": "",
      "userId": "05336137283309084315"
     },
     "user_tz": -60
    },
    "id": "iK3M2ycRoefG",
    "outputId": "5efde7b6-eed2-4472-a719-44d725a44466"
   },
   "outputs": [
    {
     "data": {
      "text/plain": [
       "dict_keys(['site', 'condition', 'filename', 'id', 'good_samples'])"
      ]
     },
     "execution_count": 9,
     "metadata": {
      "tags": []
     },
     "output_type": "execute_result"
    }
   ],
   "source": [
    "trainer.meta['subjects'][0]"
   ]
  },
  {
   "cell_type": "code",
   "execution_count": null,
   "metadata": {
    "colab": {
     "base_uri": "https://localhost:8080/"
    },
    "executionInfo": {
     "elapsed": 88683,
     "status": "ok",
     "timestamp": 1613584383727,
     "user": {
      "displayName": "marc",
      "photoUrl": "",
      "userId": "05336137283309084315"
     },
     "user_tz": -60
    },
    "id": "uWqHvX0RAcvA",
    "outputId": "4559026f-a388-4de2-b256-e439efad2653"
   },
   "outputs": [
    {
     "name": "stdout",
     "output_type": "stream",
     "text": [
      "\n",
      "\n",
      "site:  A\n",
      "target:  A\n",
      "condition:  dementia\n",
      "[0.09790232 0.04013606 0.8619618 ] [0.14226185 0.0750974  0.16774765]\n",
      "\n",
      "\n",
      "site:  B\n",
      "target:  B\n",
      "condition:  dementia\n",
      "[0.09894721 0.5866532  0.31439966] [0.16210352 0.28965524 0.26415658]\n",
      "\n",
      "\n",
      "site:  A\n",
      "target:  A\n",
      "condition:  control\n",
      "[9.8061913e-01 4.7067480e-04 1.8910287e-02] [0.03117673 0.00078347 0.03098592]\n",
      "\n",
      "\n",
      "site:  A\n",
      "target:  A\n",
      "condition:  control\n",
      "[0.939186   0.00334032 0.0574738 ] [0.13366142 0.0116432  0.1277737 ]\n",
      "\n",
      "\n",
      "site:  A\n",
      "target:  A\n",
      "condition:  control\n",
      "[0.9781203  0.00245532 0.01942402] [0.0289914  0.00487837 0.02632247]\n",
      "\n",
      "\n",
      "site:  A\n",
      "target:  A\n",
      "condition:  dementia\n",
      "[0.1523452  0.12952267 0.7181321 ] [0.18556066 0.16062959 0.24728818]\n",
      "\n",
      "\n",
      "site:  A\n",
      "target:  A\n",
      "condition:  control\n",
      "[9.8752683e-01 6.8174314e-04 1.1791990e-02] [0.02953764 0.00151698 0.02860348]\n",
      "\n",
      "\n",
      "site:  B\n",
      "target:  B\n",
      "condition:  mci\n",
      "[0.31174624 0.535603   0.15265104] [0.2176814  0.22688401 0.18920921]\n",
      "\n",
      "\n",
      "site:  A\n",
      "target:  A\n",
      "condition:  control\n",
      "[0.6333063  0.02185703 0.34483668] [0.28807923 0.02996574 0.2799174 ]\n",
      "\n",
      "\n",
      "site:  A\n",
      "target:  A\n",
      "condition:  control\n",
      "[0.9185247  0.00525854 0.07621682] [0.13566741 0.00952091 0.13333069]\n",
      "\n",
      "\n",
      "site:  B\n",
      "target:  B\n",
      "condition:  control\n",
      "[0.4463743  0.40242118 0.15120457] [0.24277802 0.24969798 0.18921988]\n",
      "\n",
      "\n",
      "site:  A\n",
      "target:  A\n",
      "condition:  control\n",
      "[0.14554448 0.08037331 0.7740818 ] [0.21858914 0.11140027 0.24637443]\n"
     ]
    }
   ],
   "source": [
    "use_stable='all'\n",
    "if use_stable=='order0':\n",
    "    channel_matches = np.load('pareto_opt_matches.npy')\n",
    "    channel_matches = utils.get_stable_channels(channel_matches,0).T#[:,44:46]\n",
    "elif use_stable=='all':\n",
    "    import json\n",
    "    with open('A_B_bestpositional_hungarian.json') as f:\n",
    "        match = json.load(f)\n",
    "    match['matching0'].pop('info')\n",
    "    channel_matches = np.array([list(match['matching0'].keys()),list(match['matching0'].values())]).astype(int)\n",
    "elif use_stable is None:\n",
    "    channel_matches = np.stack([np.arange(160),np.arange(160)])\n",
    "n_frames = 200\n",
    "all_preds = []\n",
    "all_labels = []\n",
    "all_ids = []\n",
    "for idx in np.random.choice(trainer.valid_index,size=len(trainer.valid_index),replace=False):\n",
    "  print('\\n')\n",
    "  all_ids+=[trainer.meta['subjects'][k]['id']]\n",
    "  preds=[]\n",
    "  t0 =128\n",
    "  frame_length =256\n",
    "  site = trainer.meta['subjects'][idx]['site']\n",
    "  target_site = site\n",
    "  print('site: ',site)\n",
    "  print('target: ', target_site)\n",
    "  print('condition: ',trainer.meta['subjects'][idx]['condition'])\n",
    "  if site=='A':\n",
    "    pS = pSA.copy()\n",
    "  else:\n",
    "    pS = pSB.copy()\n",
    "\n",
    "  if target_site=='B':\n",
    "    S = SB.copy()\n",
    "  else:\n",
    "    S = SA.copy()\n",
    "  time_length = trainer.data['X'].shape[1]\n",
    "  #for t0 in np.random.choice(np.arange(0,time_length-frame_length),size=n_frames,replace=False):\n",
    "  #  Xbatch = np.transpose(S@pS@np.transpose(\n",
    "  #      trainer.data['X'][idx,t0:t0+frame_length,:],[1,0]),[1,0])\n",
    "  #  Xbatch = Xbatch[:,channel_matches[int(target_site=='B')]]\n",
    "  #  preds += [np.squeeze(last_model.predict(np.expand_dims(Xbatch,axis=(0,-1))))]\n",
    "  batch_size=16\n",
    "  num_batches = 32\n",
    "  preds = []\n",
    "  for k in range(num_batches):\n",
    "      subject_sites = np.array([int(site=='B')]*batch_size)\n",
    "      target_sites  = np.array([int(target_site=='B')]*batch_size)\n",
    "      Xbatch = valid_pipe(trainer.data['X'][[idx]*batch_size],**{'subject_sites':subject_sites,\n",
    "                                                                'target_sites':target_site})\n",
    "      preds +=[last_model.predict(np.expand_dims(Xbatch,axis=-1))]\n",
    "  preds = np.concatenate(preds,axis=0)\n",
    "  all_preds+=[preds]\n",
    "  all_labels+=[trainer.meta['subjects'][idx]['condition']]\n",
    "  print(np.mean(preds,axis=0),np.std(preds,axis=0))"
   ]
  }
 ],
 "metadata": {
  "accelerator": "GPU",
  "colab": {
   "collapsed_sections": [],
   "machine_shape": "hm",
   "name": "TestBioMagRecordigCondition.ipynb",
   "provenance": [
    {
     "file_id": "1UZZQRC4fchs98023p2l2Pya0k9BC47O8",
     "timestamp": 1613488495525
    },
    {
     "file_id": "16rSHFp0m66NcISX8_1iooHjPVj27EUKy",
     "timestamp": 1611826484394
    },
    {
     "file_id": "1VLK94dcSGEX1eQ_5I41jl_FC8jU8eUZW",
     "timestamp": 1608897627522
    },
    {
     "file_id": "1fxnm573RhEDrKAahcFuZE3p3tc6KNYt3",
     "timestamp": 1592946920597
    },
    {
     "file_id": "1Zorox5fLc_htQPRJATcVMfNJnmbkbUuP",
     "timestamp": 1592807800147
    },
    {
     "file_id": "1C_RGC8UOOZvOabAbGXKk_PSqEJUUw8Ay",
     "timestamp": 1591726733306
    }
   ]
  },
  "kernelspec": {
   "display_name": "Python 3",
   "language": "python",
   "name": "python3"
  },
  "language_info": {
   "codemirror_mode": {
    "name": "ipython",
    "version": 3
   },
   "file_extension": ".py",
   "mimetype": "text/x-python",
   "name": "python",
   "nbconvert_exporter": "python",
   "pygments_lexer": "ipython3",
   "version": "3.6.9"
  }
 },
 "nbformat": 4,
 "nbformat_minor": 4
}
