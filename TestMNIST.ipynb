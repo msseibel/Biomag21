{
 "cells": [
  {
   "cell_type": "code",
   "execution_count": 1,
   "metadata": {},
   "outputs": [],
   "source": [
    "import os\n",
    "os.environ['CUDA_VISIBLE_DEVICES'] = '-1'"
   ]
  },
  {
   "cell_type": "code",
   "execution_count": 31,
   "metadata": {},
   "outputs": [
    {
     "name": "stdout",
     "output_type": "stream",
     "text": [
      "Epoch 1/5\n",
      "1500/1500 [==============================] - 9s 6ms/step - loss: 1.2021 - acc: 0.5874 - val_loss: 0.5957 - val_acc: 0.8152\n",
      "Epoch 2/5\n",
      "1500/1500 [==============================] - 9s 6ms/step - loss: 0.4964 - acc: 0.8487 - val_loss: 0.3496 - val_acc: 0.8970\n",
      "Epoch 3/5\n",
      "1500/1500 [==============================] - 9s 6ms/step - loss: 0.3549 - acc: 0.8910 - val_loss: 0.2812 - val_acc: 0.9146\n",
      "Epoch 4/5\n",
      "1500/1500 [==============================] - 9s 6ms/step - loss: 0.2951 - acc: 0.9081 - val_loss: 0.2609 - val_acc: 0.9194\n",
      "Epoch 5/5\n",
      "1500/1500 [==============================] - 9s 6ms/step - loss: 0.2591 - acc: 0.9189 - val_loss: 0.2595 - val_acc: 0.9193\n"
     ]
    },
    {
     "data": {
      "image/png": "[encoded data removed]",
      "text/plain": [
       "<Figure size 432x288 with 1 Axes>"
      ]
     },
     "metadata": {
      "needs_background": "light"
     },
     "output_type": "display_data"
    },
    {
     "name": "stdout",
     "output_type": "stream",
     "text": [
      "acc test:  0.9208\n",
      "check same 0.15028739\n"
     ]
    },
    {
     "data": {
      "image/png": "[encoded data removed]",
      "text/plain": [
       "<Figure size 432x288 with 2 Axes>"
      ]
     },
     "metadata": {
      "needs_background": "light"
     },
     "output_type": "display_data"
    },
    {
     "name": "stdout",
     "output_type": "stream",
     "text": [
      "inverted colors acc test:  0.1179\n",
      "Epoch 1/5\n",
      "1500/1500 [==============================] - 9s 6ms/step - loss: 1.4274 - acc: 0.5439 - val_loss: 0.8631 - val_acc: 0.7592\n",
      "Epoch 2/5\n",
      "1500/1500 [==============================] - 9s 6ms/step - loss: 0.6916 - acc: 0.8119 - val_loss: 0.4931 - val_acc: 0.8736\n",
      "Epoch 3/5\n",
      "1500/1500 [==============================] - 9s 6ms/step - loss: 0.4620 - acc: 0.8737 - val_loss: 0.4483 - val_acc: 0.8611\n",
      "Epoch 4/5\n",
      "1500/1500 [==============================] - 9s 6ms/step - loss: 0.3741 - acc: 0.8945 - val_loss: 0.3796 - val_acc: 0.8876\n",
      "Epoch 5/5\n",
      "1500/1500 [==============================] - 9s 6ms/step - loss: 0.3272 - acc: 0.9056 - val_loss: 0.2936 - val_acc: 0.9147\n"
     ]
    },
    {
     "data": {
      "image/png": "[encoded data removed]",
      "text/plain": [
       "<Figure size 432x288 with 1 Axes>"
      ]
     },
     "metadata": {
      "needs_background": "light"
     },
     "output_type": "display_data"
    },
    {
     "name": "stdout",
     "output_type": "stream",
     "text": [
      "acc test:  0.914\n",
      "check same 0.15028739\n"
     ]
    }
   ],
   "source": [
    "import tensorflow as tf\n",
    "from tensorflow.keras import layers, models\n",
    "import matplotlib.pyplot as plt\n",
    "import numpy as np\n",
    "from tensorflow.keras import backend as K\n",
    "(x_train, y_train), (x_test, y_test) = tf.keras.datasets.mnist.load_data(path=\"mnist.npz\")\n",
    "\n",
    "\n",
    "def features(input_shape):\n",
    "    inp = layers.Input(input_shape)\n",
    "    c1 = layers.Conv2D(32,(3,3),activation='relu',padding='same')(inp)\n",
    "    c1 = layers.MaxPooling2D((2,2))(c1)\n",
    "    c1 = layers.Conv2D(64,(3,3),activation='relu',padding='same')(c1)\n",
    "    c1 = layers.MaxPooling2D((2,2))(c1)\n",
    "    c1 = layers.GlobalAveragePooling2D()(c1)\n",
    "    feature_extract = models.Model(inp,c1)\n",
    "    return feature_extract\n",
    "    \n",
    "def make_clf(input_shape):\n",
    "    feats = layers.Input(input_shape)\n",
    "    out1  = layers.Dense(64,activation='relu')(feats)\n",
    "    out   = layers.Dense(10,activation='softmax')(out1)\n",
    "    classifier = models.Model(feats,out)\n",
    "    return classifier\n",
    "    \n",
    "    \n",
    "def assemble_model(body, head):\n",
    "    inp  = layers.Input(K.int_shape(body.input)[1:])\n",
    "    feats= body(inp)\n",
    "    clf  = head(feats)\n",
    "    merged = models.Model(inp,clf)\n",
    "    return merged\n",
    "    \n",
    "x_train = x_train/255\n",
    "x_test = x_test/255\n",
    "\n",
    "y_oh_train = tf.keras.utils.to_categorical(y_train)\n",
    "y_oh_test  = tf.keras.utils.to_categorical(y_test)\n",
    "\n",
    "body1 = features((28,28,1))\n",
    "body2 = features((28,28,1))\n",
    "\n",
    "head = make_clf((64))\n",
    "m1 = assemble_model(body1, head)\n",
    "\n",
    "m1.compile('adam',loss='categorical_crossentropy',metrics=['acc'])\n",
    "h = m1.fit(x_train, y_oh_train,validation_split=.2,epochs=5)\n",
    "plt.figure()\n",
    "plt.plot(h.history['loss'])\n",
    "plt.plot(h.history['val_loss'])\n",
    "plt.show()\n",
    "y_pred_test = np.argmax(m1.predict(x_test),axis=-1)\n",
    "print('acc test: ',np.mean(y_pred_test==y_test))\n",
    "print('check same',np.mean(np.abs(head.layers[1].get_weights()[0])))\n",
    "\n",
    "fig,ax = plt.subplots(ncols=2)\n",
    "ax[0].matshow(x_test[10])\n",
    "\n",
    "# invert black and white\n",
    "x_test = np.abs(x_test-1)\n",
    "x_train = np.abs(x_train-1)\n",
    "\n",
    "ax[1].matshow(x_test[10])\n",
    "plt.show()\n",
    "\n",
    "y_pred_test = np.argmax(m1.predict(x_test),axis=-1)\n",
    "print('inverted colors acc test: ',np.mean(y_pred_test==y_test))\n",
    "\n",
    "\n",
    "\n",
    "head.trainable = False\n",
    "m2 = assemble_model(body2, head)\n",
    "m2.compile('adam',loss='categorical_crossentropy',metrics=['acc'])\n",
    "h = m2.fit(x_train, y_oh_train,validation_split=.2,epochs=5)\n",
    "plt.figure()\n",
    "plt.plot(h.history['loss'])\n",
    "plt.plot(h.history['val_loss'])\n",
    "plt.show()\n",
    "y_pred_test = np.argmax(m2.predict(x_test),axis=-1)\n",
    "print('acc test: ',np.mean(y_pred_test==y_test))\n",
    "print('check same',np.mean(np.abs(head.layers[1].get_weights()[0])))\n",
    "\n",
    "\n",
    "\n"
   ]
  }
 ],
 "metadata": {
  "kernelspec": {
   "display_name": "Python 3",
   "language": "python",
   "name": "python3"
  },
  "language_info": {
   "codemirror_mode": {
    "name": "ipython",
    "version": 3
   },
   "file_extension": ".py",
   "mimetype": "text/x-python",
   "name": "python",
   "nbconvert_exporter": "python",
   "pygments_lexer": "ipython3",
   "version": "3.6.9"
  }
 },
 "nbformat": 4,
 "nbformat_minor": 4
}
